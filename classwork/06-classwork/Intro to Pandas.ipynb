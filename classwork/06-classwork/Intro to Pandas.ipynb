{
 "cells": [
  {
   "cell_type": "code",
   "execution_count": 5,
   "id": "d9ca85fa",
   "metadata": {},
   "outputs": [
    {
     "name": "stdout",
     "output_type": "stream",
     "text": [
      "Intro to Pandas.ipynb\n",
      "Last FM API (with pandas).ipynb\n",
      "Last FM API (with pandas, completed).ipynb\n",
      "continent_facts.csv\n",
      "countries.csv\n",
      "\u001b[1m\u001b[36mencoding\u001b[m\u001b[m\n"
     ]
    }
   ],
   "source": [
    "!ls"
   ]
  },
  {
   "cell_type": "code",
   "execution_count": 6,
   "id": "4d534580",
   "metadata": {},
   "outputs": [
    {
     "name": "stdout",
     "output_type": "stream",
     "text": [
      "Requirement already satisfied: pandas in /Users/bean/.pyenv/versions/3.10.3/lib/python3.10/site-packages (1.4.2)\n",
      "Requirement already satisfied: python-dateutil>=2.8.1 in /Users/bean/.pyenv/versions/3.10.3/lib/python3.10/site-packages (from pandas) (2.8.2)\n",
      "Requirement already satisfied: pytz>=2020.1 in /Users/bean/.pyenv/versions/3.10.3/lib/python3.10/site-packages (from pandas) (2022.1)\n",
      "Requirement already satisfied: numpy>=1.21.0 in /Users/bean/.pyenv/versions/3.10.3/lib/python3.10/site-packages (from pandas) (1.22.4)\n",
      "Requirement already satisfied: six>=1.5 in /Users/bean/.pyenv/versions/3.10.3/lib/python3.10/site-packages (from python-dateutil>=2.8.1->pandas) (1.16.0)\n"
     ]
    }
   ],
   "source": [
    "!pip install --upgrade pandas"
   ]
  },
  {
   "cell_type": "code",
   "execution_count": 7,
   "id": "7bff3b49",
   "metadata": {},
   "outputs": [],
   "source": [
    "import pandas as pd"
   ]
  },
  {
   "cell_type": "code",
   "execution_count": 4,
   "id": "8ff812bb",
   "metadata": {},
   "outputs": [],
   "source": [
    "df = pd.read_csv(\"countries.csv\")"
   ]
  },
  {
   "cell_type": "code",
   "execution_count": 13,
   "id": "e1d8ed0d",
   "metadata": {},
   "outputs": [
    {
     "data": {
      "text/html": [
       "<div>\n",
       "<style scoped>\n",
       "    .dataframe tbody tr th:only-of-type {\n",
       "        vertical-align: middle;\n",
       "    }\n",
       "\n",
       "    .dataframe tbody tr th {\n",
       "        vertical-align: top;\n",
       "    }\n",
       "\n",
       "    .dataframe thead th {\n",
       "        text-align: right;\n",
       "    }\n",
       "</style>\n",
       "<table border=\"1\" class=\"dataframe\">\n",
       "  <thead>\n",
       "    <tr style=\"text-align: right;\">\n",
       "      <th></th>\n",
       "      <th>country</th>\n",
       "      <th>continent</th>\n",
       "      <th>life_expectancy</th>\n",
       "      <th>population</th>\n",
       "      <th>gdp</th>\n",
       "    </tr>\n",
       "  </thead>\n",
       "  <tbody>\n",
       "    <tr>\n",
       "      <th>34</th>\n",
       "      <td>China</td>\n",
       "      <td>Asia</td>\n",
       "      <td>72.124</td>\n",
       "      <td>1269116737</td>\n",
       "      <td>4323880722959</td>\n",
       "    </tr>\n",
       "    <tr>\n",
       "      <th>75</th>\n",
       "      <td>India</td>\n",
       "      <td>Asia</td>\n",
       "      <td>62.129</td>\n",
       "      <td>1053898107</td>\n",
       "      <td>1736824080336</td>\n",
       "    </tr>\n",
       "    <tr>\n",
       "      <th>178</th>\n",
       "      <td>United States</td>\n",
       "      <td>N. America</td>\n",
       "      <td>76.800</td>\n",
       "      <td>282496310</td>\n",
       "      <td>11231488292980</td>\n",
       "    </tr>\n",
       "    <tr>\n",
       "      <th>76</th>\n",
       "      <td>Indonesia</td>\n",
       "      <td>Asia</td>\n",
       "      <td>67.289</td>\n",
       "      <td>213395411</td>\n",
       "      <td>579155145454</td>\n",
       "    </tr>\n",
       "    <tr>\n",
       "      <th>22</th>\n",
       "      <td>Brazil</td>\n",
       "      <td>S. America</td>\n",
       "      <td>70.261</td>\n",
       "      <td>174425387</td>\n",
       "      <td>1405170917672</td>\n",
       "    </tr>\n",
       "    <tr>\n",
       "      <th>137</th>\n",
       "      <td>Russia</td>\n",
       "      <td>Asia</td>\n",
       "      <td>65.380</td>\n",
       "      <td>146757517</td>\n",
       "      <td>1257711920690</td>\n",
       "    </tr>\n",
       "    <tr>\n",
       "      <th>127</th>\n",
       "      <td>Pakistan</td>\n",
       "      <td>Asia</td>\n",
       "      <td>63.854</td>\n",
       "      <td>144522192</td>\n",
       "      <td>301473292512</td>\n",
       "    </tr>\n",
       "  </tbody>\n",
       "</table>\n",
       "</div>"
      ],
      "text/plain": [
       "           country   continent  life_expectancy  population             gdp\n",
       "34           China        Asia           72.124  1269116737   4323880722959\n",
       "75           India        Asia           62.129  1053898107   1736824080336\n",
       "178  United States  N. America           76.800   282496310  11231488292980\n",
       "76       Indonesia        Asia           67.289   213395411    579155145454\n",
       "22          Brazil  S. America           70.261   174425387   1405170917672\n",
       "137         Russia        Asia           65.380   146757517   1257711920690\n",
       "127       Pakistan        Asia           63.854   144522192    301473292512"
      ]
     },
     "execution_count": 13,
     "metadata": {},
     "output_type": "execute_result"
    }
   ],
   "source": [
    "df.sort_values(by='population', ascending=False).head(7)"
   ]
  },
  {
   "cell_type": "code",
   "execution_count": 15,
   "id": "2d0194d3",
   "metadata": {},
   "outputs": [
    {
     "data": {
      "text/plain": [
       "0      22856302\n",
       "1       3071856\n",
       "2      30533827\n",
       "3      13926373\n",
       "4         77656\n",
       "         ...   \n",
       "183    78758010\n",
       "184     3198560\n",
       "185    17723186\n",
       "186    10201562\n",
       "187    12509477\n",
       "Name: population, Length: 188, dtype: int64"
      ]
     },
     "execution_count": 15,
     "metadata": {},
     "output_type": "execute_result"
    }
   ],
   "source": [
    "df['population']"
   ]
  },
  {
   "cell_type": "code",
   "execution_count": 16,
   "id": "e25fd564",
   "metadata": {},
   "outputs": [
    {
     "data": {
      "text/plain": [
       "32526821.05319149"
      ]
     },
     "execution_count": 16,
     "metadata": {},
     "output_type": "execute_result"
    }
   ],
   "source": [
    "df.population.mean()"
   ]
  },
  {
   "cell_type": "code",
   "execution_count": 17,
   "id": "d0f037cf",
   "metadata": {},
   "outputs": [
    {
     "data": {
      "text/plain": [
       "32526821"
      ]
     },
     "execution_count": 17,
     "metadata": {},
     "output_type": "execute_result"
    }
   ],
   "source": [
    "round(df.population.mean())"
   ]
  },
  {
   "cell_type": "code",
   "execution_count": 18,
   "id": "075e8512",
   "metadata": {},
   "outputs": [
    {
     "data": {
      "text/plain": [
       "<bound method NDFrame.describe of 0      22856302\n",
       "1       3071856\n",
       "2      30533827\n",
       "3      13926373\n",
       "4         77656\n",
       "         ...   \n",
       "183    78758010\n",
       "184     3198560\n",
       "185    17723186\n",
       "186    10201562\n",
       "187    12509477\n",
       "Name: population, Length: 188, dtype: int64>"
      ]
     },
     "execution_count": 18,
     "metadata": {},
     "output_type": "execute_result"
    }
   ],
   "source": [
    "df.population.describe"
   ]
  },
  {
   "cell_type": "code",
   "execution_count": 26,
   "id": "6413ead7",
   "metadata": {},
   "outputs": [
    {
     "ename": "OptionError",
     "evalue": "No such keys(s): 'display.integer_format'",
     "output_type": "error",
     "traceback": [
      "\u001b[0;31m---------------------------------------------------------------------------\u001b[0m",
      "\u001b[0;31mOptionError\u001b[0m                               Traceback (most recent call last)",
      "\u001b[1;32m/Users/bean/Dropbox/code/lede/06-classwork/Intro to Pandas.ipynb Cell 10'\u001b[0m in \u001b[0;36m<cell line: 2>\u001b[0;34m()\u001b[0m\n\u001b[1;32m      <a href='vscode-notebook-cell:/Users/bean/Dropbox/code/lede/06-classwork/Intro%20to%20Pandas.ipynb#ch0000009?line=0'>1</a>\u001b[0m pd\u001b[39m.\u001b[39mset_option(\u001b[39m\"\u001b[39m\u001b[39mdisplay.float_format\u001b[39m\u001b[39m\"\u001b[39m, \u001b[39m'\u001b[39m\u001b[39m{:,.2f}\u001b[39;00m\u001b[39m'\u001b[39m\u001b[39m.\u001b[39mformat)\n\u001b[0;32m----> <a href='vscode-notebook-cell:/Users/bean/Dropbox/code/lede/06-classwork/Intro%20to%20Pandas.ipynb#ch0000009?line=1'>2</a>\u001b[0m pd\u001b[39m.\u001b[39;49mset_option(\u001b[39m\"\u001b[39;49m\u001b[39mdisplay.integer_format\u001b[39;49m\u001b[39m\"\u001b[39;49m, \u001b[39m'\u001b[39;49m\u001b[39m{\u001b[39;49m\u001b[39m:,2f}\u001b[39;49m\u001b[39m'\u001b[39;49m\u001b[39m.\u001b[39;49mformat)\n\u001b[1;32m      <a href='vscode-notebook-cell:/Users/bean/Dropbox/code/lede/06-classwork/Intro%20to%20Pandas.ipynb#ch0000009?line=2'>3</a>\u001b[0m df\u001b[39m.\u001b[39mpopulation\u001b[39m.\u001b[39mdescribe()\n",
      "File \u001b[0;32m~/.pyenv/versions/3.10.3/lib/python3.10/site-packages/pandas/_config/config.py:256\u001b[0m, in \u001b[0;36mCallableDynamicDoc.__call__\u001b[0;34m(self, *args, **kwds)\u001b[0m\n\u001b[1;32m    255\u001b[0m \u001b[39mdef\u001b[39;00m \u001b[39m__call__\u001b[39m(\u001b[39mself\u001b[39m, \u001b[39m*\u001b[39margs, \u001b[39m*\u001b[39m\u001b[39m*\u001b[39mkwds):\n\u001b[0;32m--> 256\u001b[0m     \u001b[39mreturn\u001b[39;00m \u001b[39mself\u001b[39;49m\u001b[39m.\u001b[39;49m\u001b[39m__func__\u001b[39;49m(\u001b[39m*\u001b[39;49margs, \u001b[39m*\u001b[39;49m\u001b[39m*\u001b[39;49mkwds)\n",
      "File \u001b[0;32m~/.pyenv/versions/3.10.3/lib/python3.10/site-packages/pandas/_config/config.py:149\u001b[0m, in \u001b[0;36m_set_option\u001b[0;34m(*args, **kwargs)\u001b[0m\n\u001b[1;32m    146\u001b[0m     \u001b[39mraise\u001b[39;00m \u001b[39mTypeError\u001b[39;00m(\u001b[39mf\u001b[39m\u001b[39m'\u001b[39m\u001b[39m_set_option() got an unexpected keyword argument \u001b[39m\u001b[39m\"\u001b[39m\u001b[39m{\u001b[39;00mkwarg\u001b[39m}\u001b[39;00m\u001b[39m\"\u001b[39m\u001b[39m'\u001b[39m)\n\u001b[1;32m    148\u001b[0m \u001b[39mfor\u001b[39;00m k, v \u001b[39min\u001b[39;00m \u001b[39mzip\u001b[39m(args[::\u001b[39m2\u001b[39m], args[\u001b[39m1\u001b[39m::\u001b[39m2\u001b[39m]):\n\u001b[0;32m--> 149\u001b[0m     key \u001b[39m=\u001b[39m _get_single_key(k, silent)\n\u001b[1;32m    151\u001b[0m     o \u001b[39m=\u001b[39m _get_registered_option(key)\n\u001b[1;32m    152\u001b[0m     \u001b[39mif\u001b[39;00m o \u001b[39mand\u001b[39;00m o\u001b[39m.\u001b[39mvalidator:\n",
      "File \u001b[0;32m~/.pyenv/versions/3.10.3/lib/python3.10/site-packages/pandas/_config/config.py:114\u001b[0m, in \u001b[0;36m_get_single_key\u001b[0;34m(pat, silent)\u001b[0m\n\u001b[1;32m    112\u001b[0m     \u001b[39mif\u001b[39;00m \u001b[39mnot\u001b[39;00m silent:\n\u001b[1;32m    113\u001b[0m         _warn_if_deprecated(pat)\n\u001b[0;32m--> 114\u001b[0m     \u001b[39mraise\u001b[39;00m OptionError(\u001b[39mf\u001b[39m\u001b[39m\"\u001b[39m\u001b[39mNo such keys(s): \u001b[39m\u001b[39m{\u001b[39;00m\u001b[39mrepr\u001b[39m(pat)\u001b[39m}\u001b[39;00m\u001b[39m\"\u001b[39m)\n\u001b[1;32m    115\u001b[0m \u001b[39mif\u001b[39;00m \u001b[39mlen\u001b[39m(keys) \u001b[39m>\u001b[39m \u001b[39m1\u001b[39m:\n\u001b[1;32m    116\u001b[0m     \u001b[39mraise\u001b[39;00m OptionError(\u001b[39m\"\u001b[39m\u001b[39mPattern matched multiple keys\u001b[39m\u001b[39m\"\u001b[39m)\n",
      "\u001b[0;31mOptionError\u001b[0m: No such keys(s): 'display.integer_format'"
     ]
    }
   ],
   "source": [
    "pd.set_option(\"display.float_format\", '{:,.2f}'.format)\n",
    "pd.set_option(\"display.integer_format\", '{:,2f}'.format)\n",
    "df.population.describe()"
   ]
  },
  {
   "cell_type": "code",
   "execution_count": 28,
   "id": "cf2132ef",
   "metadata": {},
   "outputs": [
    {
     "data": {
      "text/plain": [
       "continent\n",
       "Africa         809892820\n",
       "Asia          3849172861\n",
       "Europe         596440013\n",
       "N. America     481999240\n",
       "Oceania         30272328\n",
       "S. America     347265096\n",
       "Name: population, dtype: int64"
      ]
     },
     "execution_count": 28,
     "metadata": {},
     "output_type": "execute_result"
    }
   ],
   "source": [
    "df.style.format(thousands=',')\n",
    "df.groupby(by='continent').population.sum()"
   ]
  },
  {
   "cell_type": "code",
   "execution_count": 22,
   "id": "7f9b25c8",
   "metadata": {},
   "outputs": [
    {
     "data": {
      "text/plain": [
       "continent\n",
       "Africa       14,998,015.19\n",
       "Asia         80,191,101.27\n",
       "Europe       14,200,952.69\n",
       "N. America   21,909,056.36\n",
       "Oceania       3,027,232.80\n",
       "S. America   28,938,758.00\n",
       "Name: population, dtype: float64"
      ]
     },
     "execution_count": 22,
     "metadata": {},
     "output_type": "execute_result"
    }
   ],
   "source": [
    "df.groupby(by='continent').population.mean()"
   ]
  },
  {
   "cell_type": "code",
   "execution_count": 27,
   "id": "049a88de",
   "metadata": {},
   "outputs": [
    {
     "name": "stdout",
     "output_type": "stream",
     "text": [
      "Requirement already satisfied: matplotlib in /Users/bean/.pyenv/versions/3.10.3/lib/python3.10/site-packages (3.5.2)\n",
      "Requirement already satisfied: pillow>=6.2.0 in /Users/bean/.pyenv/versions/3.10.3/lib/python3.10/site-packages (from matplotlib) (9.1.1)\n",
      "Requirement already satisfied: python-dateutil>=2.7 in /Users/bean/.pyenv/versions/3.10.3/lib/python3.10/site-packages (from matplotlib) (2.8.2)\n",
      "Requirement already satisfied: cycler>=0.10 in /Users/bean/.pyenv/versions/3.10.3/lib/python3.10/site-packages (from matplotlib) (0.11.0)\n",
      "Requirement already satisfied: numpy>=1.17 in /Users/bean/.pyenv/versions/3.10.3/lib/python3.10/site-packages (from matplotlib) (1.22.4)\n",
      "Requirement already satisfied: kiwisolver>=1.0.1 in /Users/bean/.pyenv/versions/3.10.3/lib/python3.10/site-packages (from matplotlib) (1.4.2)\n",
      "Requirement already satisfied: pyparsing>=2.2.1 in /Users/bean/.pyenv/versions/3.10.3/lib/python3.10/site-packages (from matplotlib) (3.0.9)\n",
      "Requirement already satisfied: packaging>=20.0 in /Users/bean/.pyenv/versions/3.10.3/lib/python3.10/site-packages (from matplotlib) (21.3)\n",
      "Requirement already satisfied: fonttools>=4.22.0 in /Users/bean/.pyenv/versions/3.10.3/lib/python3.10/site-packages (from matplotlib) (4.33.3)\n",
      "Requirement already satisfied: six>=1.5 in /Users/bean/.pyenv/versions/3.10.3/lib/python3.10/site-packages (from python-dateutil>=2.7->matplotlib) (1.16.0)\n"
     ]
    }
   ],
   "source": [
    "!pip install matplotlib"
   ]
  },
  {
   "cell_type": "code",
   "execution_count": null,
   "id": "f271024a",
   "metadata": {},
   "outputs": [],
   "source": []
  }
 ],
 "metadata": {
  "kernelspec": {
   "display_name": "Python 3.10.3 64-bit ('3.10.3')",
   "language": "python",
   "name": "python3"
  },
  "language_info": {
   "codemirror_mode": {
    "name": "ipython",
    "version": 3
   },
   "file_extension": ".py",
   "mimetype": "text/x-python",
   "name": "python",
   "nbconvert_exporter": "python",
   "pygments_lexer": "ipython3",
   "version": "3.10.3"
  },
  "vscode": {
   "interpreter": {
    "hash": "10626171d4353dd8d0f12b0dae77464b904fee8f635bb045a55f368206a04bde"
   }
  }
 },
 "nbformat": 4,
 "nbformat_minor": 5
}
