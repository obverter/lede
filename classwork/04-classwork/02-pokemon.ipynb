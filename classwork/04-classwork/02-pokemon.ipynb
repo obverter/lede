{
 "cells": [
  {
   "cell_type": "code",
   "execution_count": 30,
   "metadata": {},
   "outputs": [],
   "source": [
    "pbr = (\"----\", \"  # visual break\")\n",
    "pbr = print(pbr, \"  # visual break\")\n",
    "import requests\n",
    "import statistics"
   ]
  },
  {
   "cell_type": "code",
   "execution_count": 8,
   "metadata": {},
   "outputs": [],
   "source": [
    "# https://pokeapi.co/api/v2/pokemon/slowpoke\n",
    "url = \"https://pokeapi.co/api/v2/pokemon/slowpoke\"\n",
    "url1 = \"https://pokeapi.co/docs/v2#pokemon\"\n"
   ]
  },
  {
   "cell_type": "code",
   "execution_count": 9,
   "metadata": {},
   "outputs": [],
   "source": [
    "response = requests.get(url)\n",
    "pokedata = response.json()\n"
   ]
  },
  {
   "cell_type": "code",
   "execution_count": 15,
   "metadata": {},
   "outputs": [
    {
     "name": "stdout",
     "output_type": "stream",
     "text": [
      "slowpoke weighs 360 hectograms.\n"
     ]
    }
   ],
   "source": [
    "print(pokedata['name'], \"weighs\", pokedata['weight'], \"hectograms.\")\n"
   ]
  },
  {
   "cell_type": "code",
   "execution_count": 18,
   "metadata": {},
   "outputs": [
    {
     "name": "stdout",
     "output_type": "stream",
     "text": [
      "{'move': {'name': 'pay-day', 'url': 'https://pokeapi.co/api/v2/move/6/'}, 'version_group_details': [{'level_learned_at': 0, 'move_learn_method': {'name': 'machine', 'url': 'https://pokeapi.co/api/v2/move-learn-method/4/'}, 'version_group': {'name': 'red-blue', 'url': 'https://pokeapi.co/api/v2/version-group/1/'}}, {'level_learned_at': 0, 'move_learn_method': {'name': 'machine', 'url': 'https://pokeapi.co/api/v2/move-learn-method/4/'}, 'version_group': {'name': 'yellow', 'url': 'https://pokeapi.co/api/v2/version-group/2/'}}, {'level_learned_at': 0, 'move_learn_method': {'name': 'machine', 'url': 'https://pokeapi.co/api/v2/move-learn-method/4/'}, 'version_group': {'name': 'lets-go-pikachu-lets-go-eevee', 'url': 'https://pokeapi.co/api/v2/version-group/19/'}}, {'level_learned_at': 0, 'move_learn_method': {'name': 'machine', 'url': 'https://pokeapi.co/api/v2/move-learn-method/4/'}, 'version_group': {'name': 'sword-shield', 'url': 'https://pokeapi.co/api/v2/version-group/20/'}}]}\n"
     ]
    }
   ],
   "source": [
    "print(pokedata['moves'][0])"
   ]
  },
  {
   "cell_type": "code",
   "execution_count": 36,
   "metadata": {},
   "outputs": [
    {
     "name": "stdout",
     "output_type": "stream",
     "text": [
      "----\n",
      "pay-day\n",
      "----\n",
      "stomp\n",
      "----\n",
      "headbutt\n",
      "----\n",
      "tackle\n",
      "----\n",
      "body-slam\n",
      "----\n",
      "take-down\n",
      "----\n",
      "double-edge\n",
      "----\n",
      "growl\n",
      "----\n",
      "disable\n",
      "----\n",
      "flamethrower\n",
      "----\n",
      "water-gun\n",
      "----\n",
      "hydro-pump\n",
      "----\n",
      "surf\n",
      "----\n",
      "ice-beam\n",
      "----\n",
      "blizzard\n",
      "----\n",
      "bubble-beam\n",
      "----\n",
      "strength\n",
      "----\n",
      "thunder-wave\n",
      "----\n",
      "earthquake\n",
      "----\n",
      "fissure\n",
      "----\n",
      "dig\n",
      "----\n",
      "toxic\n",
      "----\n",
      "confusion\n",
      "----\n",
      "psychic\n",
      "----\n",
      "rage\n",
      "----\n",
      "teleport\n",
      "----\n",
      "mimic\n",
      "----\n",
      "double-team\n",
      "----\n",
      "light-screen\n",
      "----\n",
      "reflect\n",
      "----\n",
      "bide\n",
      "----\n",
      "fire-blast\n",
      "----\n",
      "swift\n",
      "----\n",
      "skull-bash\n",
      "----\n",
      "amnesia\n",
      "----\n",
      "dream-eater\n",
      "----\n",
      "flash\n",
      "----\n",
      "psywave\n",
      "----\n",
      "rest\n",
      "----\n",
      "tri-attack\n",
      "----\n",
      "substitute\n",
      "----\n",
      "nightmare\n",
      "----\n",
      "snore\n",
      "----\n",
      "curse\n",
      "----\n",
      "protect\n",
      "----\n",
      "belly-drum\n",
      "----\n",
      "mud-slap\n",
      "----\n",
      "zap-cannon\n",
      "----\n",
      "icy-wind\n",
      "----\n",
      "endure\n",
      "----\n",
      "swagger\n",
      "----\n",
      "attract\n",
      "----\n",
      "sleep-talk\n",
      "----\n",
      "return\n",
      "----\n",
      "frustration\n",
      "----\n",
      "safeguard\n",
      "----\n",
      "iron-tail\n",
      "----\n",
      "hidden-power\n",
      "----\n",
      "rain-dance\n",
      "----\n",
      "sunny-day\n",
      "----\n",
      "psych-up\n",
      "----\n",
      "shadow-ball\n",
      "----\n",
      "future-sight\n",
      "----\n",
      "whirlpool\n",
      "----\n",
      "hail\n",
      "----\n",
      "facade\n",
      "----\n",
      "trick\n",
      "----\n",
      "magic-coat\n",
      "----\n",
      "recycle\n",
      "----\n",
      "yawn\n",
      "----\n",
      "skill-swap\n",
      "----\n",
      "imprison\n",
      "----\n",
      "secret-power\n",
      "----\n",
      "dive\n",
      "----\n",
      "mud-sport\n",
      "----\n",
      "slack-off\n",
      "----\n",
      "weather-ball\n",
      "----\n",
      "signal-beam\n",
      "----\n",
      "block\n",
      "----\n",
      "mud-shot\n",
      "----\n",
      "calm-mind\n",
      "----\n",
      "water-pulse\n",
      "----\n",
      "brine\n",
      "----\n",
      "natural-gift\n",
      "----\n",
      "me-first\n",
      "----\n",
      "aqua-tail\n",
      "----\n",
      "zen-headbutt\n",
      "----\n",
      "trick-room\n",
      "----\n",
      "captivate\n",
      "----\n",
      "grass-knot\n",
      "----\n",
      "wonder-room\n",
      "----\n",
      "psyshock\n",
      "----\n",
      "telekinesis\n",
      "----\n",
      "after-you\n",
      "----\n",
      "round\n",
      "----\n",
      "echoed-voice\n",
      "----\n",
      "stored-power\n",
      "----\n",
      "scald\n",
      "----\n",
      "heal-pulse\n",
      "----\n",
      "incinerate\n",
      "----\n",
      "bulldoze\n",
      "----\n",
      "belch\n",
      "----\n",
      "confide\n",
      "----\n",
      "psychic-terrain\n",
      "----\n",
      "liquidation\n",
      "----\n",
      "expanding-force\n"
     ]
    }
   ],
   "source": [
    "for move in pokedata['moves']:\n",
    "    print(pbr)\n",
    "    print(move['move']['name'])"
   ]
  },
  {
   "cell_type": "code",
   "execution_count": 38,
   "metadata": {},
   "outputs": [
    {
     "ename": "TypeError",
     "evalue": "string indices must be integers",
     "output_type": "error",
     "traceback": [
      "\u001b[0;31m---------------------------------------------------------------------------\u001b[0m",
      "\u001b[0;31mTypeError\u001b[0m                                 Traceback (most recent call last)",
      "\u001b[1;32m/Users/bean/Dropbox/BKM/lede/classwork/04-classwork/02-pokemon.ipynb Cell 7'\u001b[0m in \u001b[0;36m<cell line: 1>\u001b[0;34m()\u001b[0m\n\u001b[0;32m----> <a href='vscode-notebook-cell:/Users/bean/Dropbox/BKM/lede/classwork/04-classwork/02-pokemon.ipynb#ch0000006?line=0'>1</a>\u001b[0m move_names \u001b[39m=\u001b[39m [move[\u001b[39m'\u001b[39m\u001b[39mmove\u001b[39m\u001b[39m'\u001b[39m][\u001b[39m'\u001b[39m\u001b[39mname\u001b[39m\u001b[39m'\u001b[39m] \u001b[39mfor\u001b[39;00m move \u001b[39min\u001b[39;00m pokedata[\u001b[39m'\u001b[39m\u001b[39mname\u001b[39m\u001b[39m'\u001b[39m]]\n\u001b[1;32m      <a href='vscode-notebook-cell:/Users/bean/Dropbox/BKM/lede/classwork/04-classwork/02-pokemon.ipynb#ch0000006?line=1'>2</a>\u001b[0m \u001b[39mprint\u001b[39m(move_names)\n",
      "\u001b[1;32m/Users/bean/Dropbox/BKM/lede/classwork/04-classwork/02-pokemon.ipynb Cell 7'\u001b[0m in \u001b[0;36m<listcomp>\u001b[0;34m(.0)\u001b[0m\n\u001b[0;32m----> <a href='vscode-notebook-cell:/Users/bean/Dropbox/BKM/lede/classwork/04-classwork/02-pokemon.ipynb#ch0000006?line=0'>1</a>\u001b[0m move_names \u001b[39m=\u001b[39m [move[\u001b[39m'\u001b[39;49m\u001b[39mmove\u001b[39;49m\u001b[39m'\u001b[39;49m][\u001b[39m'\u001b[39m\u001b[39mname\u001b[39m\u001b[39m'\u001b[39m] \u001b[39mfor\u001b[39;00m move \u001b[39min\u001b[39;00m pokedata[\u001b[39m'\u001b[39m\u001b[39mname\u001b[39m\u001b[39m'\u001b[39m]]\n\u001b[1;32m      <a href='vscode-notebook-cell:/Users/bean/Dropbox/BKM/lede/classwork/04-classwork/02-pokemon.ipynb#ch0000006?line=1'>2</a>\u001b[0m \u001b[39mprint\u001b[39m(move_names)\n",
      "\u001b[0;31mTypeError\u001b[0m: string indices must be integers"
     ]
    }
   ],
   "source": [
    "move_names = [move['move']['name'] for move in pokedata['name']]\n",
    "print(move_names)"
   ]
  },
  {
   "cell_type": "code",
   "execution_count": null,
   "metadata": {},
   "outputs": [],
   "source": []
  }
 ],
 "metadata": {
  "kernelspec": {
   "display_name": "Python 3.10.3 64-bit ('3.10.3')",
   "language": "python",
   "name": "python3"
  },
  "language_info": {
   "codemirror_mode": {
    "name": "ipython",
    "version": 3
   },
   "file_extension": ".py",
   "mimetype": "text/x-python",
   "name": "python",
   "nbconvert_exporter": "python",
   "pygments_lexer": "ipython3",
   "version": "3.10.3"
  },
  "orig_nbformat": 4,
  "vscode": {
   "interpreter": {
    "hash": "10626171d4353dd8d0f12b0dae77464b904fee8f635bb045a55f368206a04bde"
   }
  }
 },
 "nbformat": 4,
 "nbformat_minor": 2
}
