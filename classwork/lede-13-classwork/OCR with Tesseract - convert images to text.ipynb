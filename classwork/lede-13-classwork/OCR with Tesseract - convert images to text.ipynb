{
 "cells": [
  {
   "cell_type": "markdown",
   "metadata": {},
   "source": [
    "# Tesseract\n",
    "\n",
    "While there are a lot of paid things out there that will do OCR, [Tesseract](https://github.com/tesseract-ocr/tesseract) is what almost all of the free tools are built on (...and even some of the paid ones!). It isn't as good as things that cost money, but oh well!\n",
    "\n",
    "## Installation\n",
    "\n",
    "### OS X\n",
    "\n",
    "On a Mac, you can install tesseract using Homebrew.\n",
    "\n",
    "```\n",
    "brew install tesseract tesseract-lang\n",
    "```\n",
    "\n",
    "### Windows\n",
    "\n",
    "Install tesseract using [the installer on this page](https://github.com/UB-Mannheim/tesseract/wiki#tesseract-installer-for-windows).\n",
    "\n",
    "## Use\n",
    "\n",
    "While we could use tesseract frorm the command line, we're going to use it in Python using [pytesseract](https://pypi.org/project/pytesseract/). Installing pytesseract *does not install tesseract*, it's just a wrapper that lets us use it from Python.\n",
    "\n",
    "```\n",
    "pip install pytesseract\n",
    "```"
   ]
  },
  {
   "cell_type": "code",
   "execution_count": null,
   "metadata": {},
   "outputs": [],
   "source": [
    "# Import pytesseract\n",
    "import pytesseract"
   ]
  },
  {
   "cell_type": "code",
   "execution_count": null,
   "metadata": {},
   "outputs": [],
   "source": [
    "text = pytesseract.image_to_string('........')"
   ]
  },
  {
   "cell_type": "code",
   "execution_count": null,
   "metadata": {},
   "outputs": [],
   "source": []
  }
 ],
 "metadata": {
  "kernelspec": {
   "display_name": "Python 3",
   "language": "python",
   "name": "python3"
  },
  "language_info": {
   "codemirror_mode": {
    "name": "ipython",
    "version": 3
   },
   "file_extension": ".py",
   "mimetype": "text/x-python",
   "name": "python",
   "nbconvert_exporter": "python",
   "pygments_lexer": "ipython3",
   "version": "3.8.2"
  }
 },
 "nbformat": 4,
 "nbformat_minor": 4
}
