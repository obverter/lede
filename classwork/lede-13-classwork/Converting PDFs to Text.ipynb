{
 "cells": [
  {
   "cell_type": "markdown",
   "metadata": {},
   "source": [
    "# PDFs to text\n",
    "\n",
    "We're going to use [pdfminer.six](https://pdfminersix.readthedocs.io/en/latest/) to convert PDFs to text.\n",
    "\n",
    "```\n",
    "pip install pdfminer.six\n",
    "```"
   ]
  },
  {
   "cell_type": "code",
   "execution_count": 5,
   "metadata": {},
   "outputs": [],
   "source": [
    "from pdfminer.high_level import extract_text\n",
    "import glob"
   ]
  },
  {
   "cell_type": "code",
   "execution_count": 2,
   "metadata": {},
   "outputs": [],
   "source": [
    "text = extract_text('new-york/nys-bill.pdf')"
   ]
  },
  {
   "cell_type": "code",
   "execution_count": 4,
   "metadata": {},
   "outputs": [
    {
     "name": "stdout",
     "output_type": "stream",
     "text": [
      "No. 115. An act relating to commercial catering licenses, the export of\n",
      "vinous beverages, and outside consumption permits.\n",
      "\n",
      "(H.506)\n",
      "\n",
      "It is hereby enacted by the General Assembly of the State of Vermont:\n",
      "\n",
      "Sec. 1. 7 V.S.A. § 2 is amended to read:\n",
      "\n",
      "§ 2. DEFINITIONS\n",
      "\n",
      "The following words as used in this \n"
     ]
    }
   ],
   "source": [
    "print(text[:300])"
   ]
  },
  {
   "cell_type": "code",
   "execution_count": 7,
   "metadata": {},
   "outputs": [
    {
     "data": {
      "text/plain": [
       "['new-york/nys-bill.pdf',\n",
       " 'new-york/nys-bill copy.pdf',\n",
       " 'new-york/nys-bill copy 3.pdf',\n",
       " 'new-york/nys-bill copy 2.pdf',\n",
       " 'new-york/nys-bill copy 5.pdf',\n",
       " 'new-york/nys-bill copy 4.pdf']"
      ]
     },
     "execution_count": 7,
     "metadata": {},
     "output_type": "execute_result"
    }
   ],
   "source": [
    "filenames = glob.glob(\"new-york/nys-bill*pdf\")\n",
    "filenames"
   ]
  },
  {
   "cell_type": "code",
   "execution_count": null,
   "metadata": {},
   "outputs": [],
   "source": []
  }
 ],
 "metadata": {
  "kernelspec": {
   "display_name": "Python 3.10.3 64-bit ('3.10.3')",
   "language": "python",
   "name": "python3"
  },
  "language_info": {
   "codemirror_mode": {
    "name": "ipython",
    "version": 3
   },
   "file_extension": ".py",
   "mimetype": "text/x-python",
   "name": "python",
   "nbconvert_exporter": "python",
   "pygments_lexer": "ipython3",
   "version": "3.10.3"
  },
  "vscode": {
   "interpreter": {
    "hash": "10626171d4353dd8d0f12b0dae77464b904fee8f635bb045a55f368206a04bde"
   }
  }
 },
 "nbformat": 4,
 "nbformat_minor": 4
}
