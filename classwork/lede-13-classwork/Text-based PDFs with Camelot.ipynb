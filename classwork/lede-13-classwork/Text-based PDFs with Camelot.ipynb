{
 "cells": [
  {
   "cell_type": "markdown",
   "metadata": {},
   "source": [
    "# Camelot: Text-based PDFs with tables\n",
    "\n",
    "## Installation, part 1\n",
    "\n",
    "First, we'll need to install Ghostscript and Tkinter, two things Camelot depends on. You can follow the [installation instructions](https://camelot-py.readthedocs.io/en/master/user/install-deps.html#install-deps), but I've also reproduced them below.\n",
    "\n",
    "### OS X\n",
    "\n",
    "You can install them on OS X with Homebrew.\n",
    "\n",
    "```\n",
    "brew install ghostscript tcl-tk\n",
    "```\n",
    "\n",
    "This might take a little while.\n",
    "\n",
    "### Windows\n",
    "\n",
    "Download and run the installers for [Ghostscript](https://www.ghostscript.com/download/gsdnld.html) and [ActiveTcl](https://www.activestate.com/products/tcl/downloads/)\n",
    "\n",
    "## Installation, part 2\n",
    "\n",
    "Hopefully they installed correctly, and **now you can actually install Camelot.** [Instructions are here](https://camelot-py.readthedocs.io/en/master/user/install.html#install), but I've also reproduced them below.\n",
    "\n",
    "```\n",
    "pip install \"camelot-py[base]\"\n",
    "```"
   ]
  },
  {
   "cell_type": "code",
   "execution_count": 1,
   "metadata": {},
   "outputs": [],
   "source": [
    "import camelot"
   ]
  },
  {
   "cell_type": "code",
   "execution_count": null,
   "metadata": {},
   "outputs": [],
   "source": []
  }
 ],
 "metadata": {
  "kernelspec": {
   "display_name": "Python 3",
   "language": "python",
   "name": "python3"
  },
  "language_info": {
   "codemirror_mode": {
    "name": "ipython",
    "version": 3
   },
   "file_extension": ".py",
   "mimetype": "text/x-python",
   "name": "python",
   "nbconvert_exporter": "python",
   "pygments_lexer": "ipython3",
   "version": "3.8.2"
  }
 },
 "nbformat": 4,
 "nbformat_minor": 4
}
