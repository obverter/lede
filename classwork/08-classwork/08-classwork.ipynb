{
 "cells": [
  {
   "cell_type": "code",
   "execution_count": 42,
   "metadata": {},
   "outputs": [],
   "source": [
    "import pandas as pd"
   ]
  },
  {
   "cell_type": "code",
   "execution_count": 43,
   "metadata": {},
   "outputs": [
    {
     "data": {
      "text/html": [
       "<div>\n",
       "<style scoped>\n",
       "    .dataframe tbody tr th:only-of-type {\n",
       "        vertical-align: middle;\n",
       "    }\n",
       "\n",
       "    .dataframe tbody tr th {\n",
       "        vertical-align: top;\n",
       "    }\n",
       "\n",
       "    .dataframe thead th {\n",
       "        text-align: right;\n",
       "    }\n",
       "</style>\n",
       "<table border=\"1\" class=\"dataframe\">\n",
       "  <thead>\n",
       "    <tr style=\"text-align: right;\">\n",
       "      <th></th>\n",
       "      <th>Case Number</th>\n",
       "      <th>Date of Incident</th>\n",
       "      <th>Date of Death</th>\n",
       "      <th>Age</th>\n",
       "      <th>Gender</th>\n",
       "      <th>Race</th>\n",
       "      <th>Latino</th>\n",
       "      <th>Manner of Death</th>\n",
       "      <th>Primary Cause</th>\n",
       "      <th>Primary Cause Line A</th>\n",
       "      <th>...</th>\n",
       "      <th>Incident Zip Code</th>\n",
       "      <th>longitude</th>\n",
       "      <th>latitude</th>\n",
       "      <th>location</th>\n",
       "      <th>Residence City</th>\n",
       "      <th>Residence Zip</th>\n",
       "      <th>OBJECTID</th>\n",
       "      <th>Chicago Ward</th>\n",
       "      <th>Chicago Community Area</th>\n",
       "      <th>COVID Related</th>\n",
       "    </tr>\n",
       "  </thead>\n",
       "  <tbody>\n",
       "    <tr>\n",
       "      <th>0</th>\n",
       "      <td>ME2015-02039</td>\n",
       "      <td>NaN</td>\n",
       "      <td>05/18/2015 11:30:00 AM</td>\n",
       "      <td>NaN</td>\n",
       "      <td>Male</td>\n",
       "      <td>NaN</td>\n",
       "      <td>False</td>\n",
       "      <td>NATURAL</td>\n",
       "      <td>UNDETERMINED NATURAL CAUSES</td>\n",
       "      <td>NaN</td>\n",
       "      <td>...</td>\n",
       "      <td>NaN</td>\n",
       "      <td>NaN</td>\n",
       "      <td>NaN</td>\n",
       "      <td>NaN</td>\n",
       "      <td>NaN</td>\n",
       "      <td>NaN</td>\n",
       "      <td>60</td>\n",
       "      <td>NaN</td>\n",
       "      <td>NaN</td>\n",
       "      <td>False</td>\n",
       "    </tr>\n",
       "    <tr>\n",
       "      <th>1</th>\n",
       "      <td>ME2015-04003</td>\n",
       "      <td>NaN</td>\n",
       "      <td>NaN</td>\n",
       "      <td>NaN</td>\n",
       "      <td>NaN</td>\n",
       "      <td>NaN</td>\n",
       "      <td>False</td>\n",
       "      <td>NaN</td>\n",
       "      <td>NONHUMAN REMAINS</td>\n",
       "      <td>NaN</td>\n",
       "      <td>...</td>\n",
       "      <td>NaN</td>\n",
       "      <td>NaN</td>\n",
       "      <td>NaN</td>\n",
       "      <td>NaN</td>\n",
       "      <td>NaN</td>\n",
       "      <td>NaN</td>\n",
       "      <td>121</td>\n",
       "      <td>NaN</td>\n",
       "      <td>NaN</td>\n",
       "      <td>False</td>\n",
       "    </tr>\n",
       "    <tr>\n",
       "      <th>2</th>\n",
       "      <td>ME2018-02893</td>\n",
       "      <td>03/01/2018 12:00:00 AM</td>\n",
       "      <td>NaN</td>\n",
       "      <td>NaN</td>\n",
       "      <td>NaN</td>\n",
       "      <td>NaN</td>\n",
       "      <td>False</td>\n",
       "      <td>NaN</td>\n",
       "      <td>NO DEATH CERTIFICATE ISSUED</td>\n",
       "      <td>NaN</td>\n",
       "      <td>...</td>\n",
       "      <td>NaN</td>\n",
       "      <td>NaN</td>\n",
       "      <td>NaN</td>\n",
       "      <td>NaN</td>\n",
       "      <td>NaN</td>\n",
       "      <td>NaN</td>\n",
       "      <td>155</td>\n",
       "      <td>NaN</td>\n",
       "      <td>NaN</td>\n",
       "      <td>False</td>\n",
       "    </tr>\n",
       "    <tr>\n",
       "      <th>3</th>\n",
       "      <td>ME2015-00307</td>\n",
       "      <td>01/21/2015 01:17:00 AM</td>\n",
       "      <td>01/21/2015 02:35:00 AM</td>\n",
       "      <td>82.0</td>\n",
       "      <td>Male</td>\n",
       "      <td>White</td>\n",
       "      <td>False</td>\n",
       "      <td>NATURAL</td>\n",
       "      <td>HYPERTENSIVE ARTERIOSCLEROTIC CARDIOVASCULAR D...</td>\n",
       "      <td>NaN</td>\n",
       "      <td>...</td>\n",
       "      <td>NaN</td>\n",
       "      <td>NaN</td>\n",
       "      <td>NaN</td>\n",
       "      <td>NaN</td>\n",
       "      <td>Elk Grove Village</td>\n",
       "      <td>60007</td>\n",
       "      <td>248</td>\n",
       "      <td>NaN</td>\n",
       "      <td>NaN</td>\n",
       "      <td>False</td>\n",
       "    </tr>\n",
       "    <tr>\n",
       "      <th>4</th>\n",
       "      <td>ME2014-01996</td>\n",
       "      <td>12/20/2014 04:42:00 PM</td>\n",
       "      <td>12/20/2014 06:53:00 PM</td>\n",
       "      <td>43.0</td>\n",
       "      <td>Female</td>\n",
       "      <td>Black</td>\n",
       "      <td>False</td>\n",
       "      <td>ACCIDENT</td>\n",
       "      <td>HEROIN TOXICITY</td>\n",
       "      <td>NaN</td>\n",
       "      <td>...</td>\n",
       "      <td>NaN</td>\n",
       "      <td>NaN</td>\n",
       "      <td>NaN</td>\n",
       "      <td>NaN</td>\n",
       "      <td>Bolingbrook</td>\n",
       "      <td>60440</td>\n",
       "      <td>311</td>\n",
       "      <td>NaN</td>\n",
       "      <td>NaN</td>\n",
       "      <td>False</td>\n",
       "    </tr>\n",
       "  </tbody>\n",
       "</table>\n",
       "<p>5 rows × 30 columns</p>\n",
       "</div>"
      ],
      "text/plain": [
       "    Case Number        Date of Incident           Date of Death   Age  Gender  \\\n",
       "0  ME2015-02039                     NaN  05/18/2015 11:30:00 AM   NaN    Male   \n",
       "1  ME2015-04003                     NaN                     NaN   NaN     NaN   \n",
       "2  ME2018-02893  03/01/2018 12:00:00 AM                     NaN   NaN     NaN   \n",
       "3  ME2015-00307  01/21/2015 01:17:00 AM  01/21/2015 02:35:00 AM  82.0    Male   \n",
       "4  ME2014-01996  12/20/2014 04:42:00 PM  12/20/2014 06:53:00 PM  43.0  Female   \n",
       "\n",
       "    Race  Latino Manner of Death  \\\n",
       "0    NaN   False         NATURAL   \n",
       "1    NaN   False             NaN   \n",
       "2    NaN   False             NaN   \n",
       "3  White   False         NATURAL   \n",
       "4  Black   False        ACCIDENT   \n",
       "\n",
       "                                       Primary Cause Primary Cause Line A  \\\n",
       "0                        UNDETERMINED NATURAL CAUSES                  NaN   \n",
       "1                                   NONHUMAN REMAINS                  NaN   \n",
       "2                        NO DEATH CERTIFICATE ISSUED                  NaN   \n",
       "3  HYPERTENSIVE ARTERIOSCLEROTIC CARDIOVASCULAR D...                  NaN   \n",
       "4                                    HEROIN TOXICITY                  NaN   \n",
       "\n",
       "   ... Incident Zip Code longitude latitude location     Residence City  \\\n",
       "0  ...               NaN       NaN      NaN      NaN                NaN   \n",
       "1  ...               NaN       NaN      NaN      NaN                NaN   \n",
       "2  ...               NaN       NaN      NaN      NaN                NaN   \n",
       "3  ...               NaN       NaN      NaN      NaN  Elk Grove Village   \n",
       "4  ...               NaN       NaN      NaN      NaN        Bolingbrook   \n",
       "\n",
       "   Residence Zip  OBJECTID  Chicago Ward Chicago Community Area COVID Related  \n",
       "0            NaN        60           NaN                    NaN         False  \n",
       "1            NaN       121           NaN                    NaN         False  \n",
       "2            NaN       155           NaN                    NaN         False  \n",
       "3          60007       248           NaN                    NaN         False  \n",
       "4          60440       311           NaN                    NaN         False  \n",
       "\n",
       "[5 rows x 30 columns]"
      ]
     },
     "execution_count": 43,
     "metadata": {},
     "output_type": "execute_result"
    }
   ],
   "source": [
    "# Read in EVERY COLUMN as a string\n",
    "# df = pd.read_csv(\"Medical_Examiner_Case_Archive.csv\", dtype=str)\n",
    "# The ZIP code columns are now strings\n",
    "df = pd.read_csv(\"Medical_Examiner_Case_Archive.csv\", dtype={\n",
    "    'Incident Zip Code': str,\n",
    "    'Residence Zip': str\n",
    "}) \n",
    "df.head()"
   ]
  },
  {
   "cell_type": "code",
   "execution_count": 44,
   "metadata": {},
   "outputs": [],
   "source": [
    "df.columns = df.columns.str.lower().str.replace(' ', '_')"
   ]
  },
  {
   "cell_type": "code",
   "execution_count": 45,
   "metadata": {},
   "outputs": [
    {
     "data": {
      "text/plain": [
       "Male       0.687206\n",
       "Female     0.308729\n",
       "NaN        0.003577\n",
       "Unknown    0.000488\n",
       "Name: gender, dtype: float64"
      ]
     },
     "execution_count": 45,
     "metadata": {},
     "output_type": "execute_result"
    }
   ],
   "source": [
    "df.gender.value_counts(normalize=True, dropna=False)"
   ]
  },
  {
   "cell_type": "code",
   "execution_count": 46,
   "metadata": {},
   "outputs": [
    {
     "data": {
      "text/plain": [
       "gender\n",
       "Female     65.0\n",
       "Male       56.0\n",
       "Unknown     0.0\n",
       "Name: age, dtype: float64"
      ]
     },
     "execution_count": 46,
     "metadata": {},
     "output_type": "execute_result"
    }
   ],
   "source": [
    "# This is \"doing your summary too early\"\n",
    "df.groupby(by='gender').age.median()"
   ]
  },
  {
   "cell_type": "code",
   "execution_count": 47,
   "metadata": {},
   "outputs": [],
   "source": [
    "# Display all columns\n",
    "pd.set_option(\"display.max_columns\", None)"
   ]
  },
  {
   "cell_type": "code",
   "execution_count": 48,
   "metadata": {},
   "outputs": [
    {
     "data": {
      "text/plain": [
       "NATURAL         34874\n",
       "ACCIDENT        20252\n",
       "HOMICIDE         6516\n",
       "SUICIDE          3705\n",
       "UNDETERMINED     1124\n",
       "PENDING           704\n",
       "Name: manner_of_death, dtype: int64"
      ]
     },
     "execution_count": 48,
     "metadata": {},
     "output_type": "execute_result"
    }
   ],
   "source": [
    "# What is the most common manner of death?\n",
    "df.manner_of_death.value_counts()"
   ]
  },
  {
   "cell_type": "code",
   "execution_count": 49,
   "metadata": {},
   "outputs": [
    {
     "data": {
      "text/html": [
       "<div>\n",
       "<style scoped>\n",
       "    .dataframe tbody tr th:only-of-type {\n",
       "        vertical-align: middle;\n",
       "    }\n",
       "\n",
       "    .dataframe tbody tr th {\n",
       "        vertical-align: top;\n",
       "    }\n",
       "\n",
       "    .dataframe thead th {\n",
       "        text-align: right;\n",
       "    }\n",
       "</style>\n",
       "<table border=\"1\" class=\"dataframe\">\n",
       "  <thead>\n",
       "    <tr style=\"text-align: right;\">\n",
       "      <th>gender</th>\n",
       "      <th>Female</th>\n",
       "      <th>Male</th>\n",
       "      <th>Unknown</th>\n",
       "    </tr>\n",
       "    <tr>\n",
       "      <th>manner_of_death</th>\n",
       "      <th></th>\n",
       "      <th></th>\n",
       "      <th></th>\n",
       "    </tr>\n",
       "  </thead>\n",
       "  <tbody>\n",
       "    <tr>\n",
       "      <th>ACCIDENT</th>\n",
       "      <td>5921</td>\n",
       "      <td>14326</td>\n",
       "      <td>0</td>\n",
       "    </tr>\n",
       "    <tr>\n",
       "      <th>HOMICIDE</th>\n",
       "      <td>770</td>\n",
       "      <td>5745</td>\n",
       "      <td>0</td>\n",
       "    </tr>\n",
       "    <tr>\n",
       "      <th>NATURAL</th>\n",
       "      <td>12695</td>\n",
       "      <td>22169</td>\n",
       "      <td>1</td>\n",
       "    </tr>\n",
       "    <tr>\n",
       "      <th>PENDING</th>\n",
       "      <td>179</td>\n",
       "      <td>517</td>\n",
       "      <td>2</td>\n",
       "    </tr>\n",
       "    <tr>\n",
       "      <th>SUICIDE</th>\n",
       "      <td>857</td>\n",
       "      <td>2848</td>\n",
       "      <td>0</td>\n",
       "    </tr>\n",
       "    <tr>\n",
       "      <th>UNDETERMINED</th>\n",
       "      <td>371</td>\n",
       "      <td>736</td>\n",
       "      <td>3</td>\n",
       "    </tr>\n",
       "  </tbody>\n",
       "</table>\n",
       "</div>"
      ],
      "text/plain": [
       "gender           Female   Male  Unknown\n",
       "manner_of_death                        \n",
       "ACCIDENT           5921  14326        0\n",
       "HOMICIDE            770   5745        0\n",
       "NATURAL           12695  22169        1\n",
       "PENDING             179    517        2\n",
       "SUICIDE             857   2848        0\n",
       "UNDETERMINED        371    736        3"
      ]
     },
     "execution_count": 49,
     "metadata": {},
     "output_type": "execute_result"
    }
   ],
   "source": [
    "# Two columns, both categories\n",
    "# see how they relate\n",
    "pd.crosstab(df.manner_of_death, df.gender)"
   ]
  },
  {
   "cell_type": "code",
   "execution_count": 50,
   "metadata": {},
   "outputs": [
    {
     "data": {
      "text/plain": [
       "Index(['case_number', 'date_of_incident', 'date_of_death', 'age', 'gender',\n",
       "       'race', 'latino', 'manner_of_death', 'primary_cause',\n",
       "       'primary_cause_line_a', 'primary_cause_line_b', 'primary_cause_line_c',\n",
       "       'secondary_cause', 'gun_related', 'opioid_related', 'cold_related',\n",
       "       'heat_related', 'commissioner_district', 'incident_address',\n",
       "       'incident_city', 'incident_zip_code', 'longitude', 'latitude',\n",
       "       'location', 'residence_city', 'residence_zip', 'objectid',\n",
       "       'chicago_ward', 'chicago_community_area', 'covid_related'],\n",
       "      dtype='object')"
      ]
     },
     "execution_count": 50,
     "metadata": {},
     "output_type": "execute_result"
    }
   ],
   "source": [
    "df.columns"
   ]
  },
  {
   "cell_type": "code",
   "execution_count": 71,
   "metadata": {},
   "outputs": [
    {
     "data": {
      "text/html": [
       "<div>\n",
       "<style scoped>\n",
       "    .dataframe tbody tr th:only-of-type {\n",
       "        vertical-align: middle;\n",
       "    }\n",
       "\n",
       "    .dataframe tbody tr th {\n",
       "        vertical-align: top;\n",
       "    }\n",
       "\n",
       "    .dataframe thead th {\n",
       "        text-align: right;\n",
       "    }\n",
       "</style>\n",
       "<table border=\"1\" class=\"dataframe\">\n",
       "  <thead>\n",
       "    <tr style=\"text-align: right;\">\n",
       "      <th></th>\n",
       "      <th></th>\n",
       "      <th></th>\n",
       "      <th></th>\n",
       "      <th></th>\n",
       "      <th></th>\n",
       "      <th>0</th>\n",
       "    </tr>\n",
       "    <tr>\n",
       "      <th>ACCIDENT</th>\n",
       "      <th>HOMICIDE</th>\n",
       "      <th>NATURAL</th>\n",
       "      <th>PENDING</th>\n",
       "      <th>SUICIDE</th>\n",
       "      <th>UNDETERMINED</th>\n",
       "      <th></th>\n",
       "    </tr>\n",
       "  </thead>\n",
       "  <tbody>\n",
       "    <tr>\n",
       "      <th>20</th>\n",
       "      <th>3</th>\n",
       "      <th>30</th>\n",
       "      <th>0</th>\n",
       "      <th>1</th>\n",
       "      <th>1</th>\n",
       "      <td>1</td>\n",
       "    </tr>\n",
       "    <tr>\n",
       "      <th>38</th>\n",
       "      <th>2</th>\n",
       "      <th>180</th>\n",
       "      <th>6</th>\n",
       "      <th>4</th>\n",
       "      <th>10</th>\n",
       "      <td>1</td>\n",
       "    </tr>\n",
       "    <tr>\n",
       "      <th>227</th>\n",
       "      <th>51</th>\n",
       "      <th>546</th>\n",
       "      <th>7</th>\n",
       "      <th>40</th>\n",
       "      <th>22</th>\n",
       "      <td>1</td>\n",
       "    </tr>\n",
       "    <tr>\n",
       "      <th>340</th>\n",
       "      <th>27</th>\n",
       "      <th>975</th>\n",
       "      <th>10</th>\n",
       "      <th>166</th>\n",
       "      <th>20</th>\n",
       "      <td>1</td>\n",
       "    </tr>\n",
       "    <tr>\n",
       "      <th>7778</th>\n",
       "      <th>5076</th>\n",
       "      <th>13062</th>\n",
       "      <th>341</th>\n",
       "      <th>612</th>\n",
       "      <th>588</th>\n",
       "      <td>1</td>\n",
       "    </tr>\n",
       "    <tr>\n",
       "      <th>11816</th>\n",
       "      <th>1349</th>\n",
       "      <th>19990</th>\n",
       "      <th>331</th>\n",
       "      <th>2880</th>\n",
       "      <th>460</th>\n",
       "      <td>1</td>\n",
       "    </tr>\n",
       "  </tbody>\n",
       "</table>\n",
       "</div>"
      ],
      "text/plain": [
       "                                                        0\n",
       "ACCIDENT HOMICIDE NATURAL PENDING SUICIDE UNDETERMINED   \n",
       "20       3        30      0       1       1             1\n",
       "38       2        180     6       4       10            1\n",
       "227      51       546     7       40      22            1\n",
       "340      27       975     10      166     20            1\n",
       "7778     5076     13062   341     612     588           1\n",
       "11816    1349     19990   331     2880    460           1"
      ]
     },
     "execution_count": 71,
     "metadata": {},
     "output_type": "execute_result"
    }
   ],
   "source": [
    "pd.crosstab(df.race, df.manner_of_death).value_counts().to_frame()"
   ]
  },
  {
   "cell_type": "code",
   "execution_count": 58,
   "metadata": {},
   "outputs": [
    {
     "ename": "AttributeError",
     "evalue": "'StringMethods' object has no attribute 'value_counts'",
     "output_type": "error",
     "traceback": [
      "\u001b[0;31m---------------------------------------------------------------------------\u001b[0m",
      "\u001b[0;31mAttributeError\u001b[0m                            Traceback (most recent call last)",
      "\u001b[1;32m/Users/bean/Dropbox/code/lede/classwork/08-classwork/08-classwork.ipynb Cell 11'\u001b[0m in \u001b[0;36m<cell line: 1>\u001b[0;34m()\u001b[0m\n\u001b[0;32m----> <a href='vscode-notebook-cell:/Users/bean/Dropbox/code/lede/classwork/08-classwork/08-classwork.ipynb#ch0000010?line=0'>1</a>\u001b[0m df\u001b[39m.\u001b[39;49mdate_of_incident\u001b[39m.\u001b[39;49mstr\u001b[39m.\u001b[39;49mvalue_counts()\n",
      "\u001b[0;31mAttributeError\u001b[0m: 'StringMethods' object has no attribute 'value_counts'"
     ]
    }
   ],
   "source": []
  },
  {
   "cell_type": "code",
   "execution_count": 73,
   "metadata": {},
   "outputs": [
    {
     "data": {
      "text/plain": [
       "NOVEL CORONA (COVID-19) VIRAL INFECTION    5917\n",
       "PNEUMONIA                                  2385\n",
       "FALL                                       1885\n",
       "NOVEL CORONA (COVID-19) VIRUS INFECTION    1873\n",
       "MOTOR VEHICLE COLLISION                     703\n",
       "HANGING                                     427\n",
       "MOTOR VEHICLE STRIKING PEDESTRIAN           390\n",
       "FALL FROM HEIGHT                            249\n",
       "FALL DOWN STAIRS                            230\n",
       "MOTOR VEHICLE STRIKING FIXED OBJECT         223\n",
       "MOTOR VEHICLE CRASH                         215\n",
       "UNWITNESSED FALL                            190\n",
       "NOVEL CORONA (COVID-19) VIRAL PNEUMONIA     179\n",
       "ASSAULT                                     171\n",
       "HYPERTENSIVE CARDIOVASCULAR DISEASE         170\n",
       "PROBABLE FALL                               167\n",
       "HOUSE FIRE                                  152\n",
       "PEDESTRIAN STRUCK BY MOTOR VEHICLE          147\n",
       "TRAIN STRIKING PEDESTRIAN                   146\n",
       "CHOKING ON FOOD BOLUS                       140\n",
       "Name: primary_cause_line_a, dtype: int64"
      ]
     },
     "execution_count": 73,
     "metadata": {},
     "output_type": "execute_result"
    }
   ],
   "source": [
    "df.primary_cause_line_a.value_counts().head(20)"
   ]
  },
  {
   "cell_type": "code",
   "execution_count": 76,
   "metadata": {},
   "outputs": [
    {
     "ename": "AttributeError",
     "evalue": "'Series' object has no attribute 'date_of_death'",
     "output_type": "error",
     "traceback": [
      "\u001b[0;31m---------------------------------------------------------------------------\u001b[0m",
      "\u001b[0;31mAttributeError\u001b[0m                            Traceback (most recent call last)",
      "\u001b[1;32m/Users/bean/Dropbox/code/lede/classwork/08-classwork/08-classwork.ipynb Cell 13'\u001b[0m in \u001b[0;36m<cell line: 5>\u001b[0;34m()\u001b[0m\n\u001b[1;32m      <a href='vscode-notebook-cell:/Users/bean/Dropbox/code/lede/classwork/08-classwork/08-classwork.ipynb#ch0000012?line=0'>1</a>\u001b[0m \u001b[39m# Date extract: parens around what you want.\u001b[39;00m\n\u001b[1;32m      <a href='vscode-notebook-cell:/Users/bean/Dropbox/code/lede/classwork/08-classwork/08-classwork.ipynb#ch0000012?line=1'>2</a>\u001b[0m \u001b[39m# numbers are \\d, for example (\\d\\d) means \"match any two numbers\".\u001b[39;00m\n\u001b[1;32m      <a href='vscode-notebook-cell:/Users/bean/Dropbox/code/lede/classwork/08-classwork/08-classwork.ipynb#ch0000012?line=2'>3</a>\u001b[0m \u001b[39m# You're trying to find \"anchor points\" = things that don't change,\u001b[39;00m\n\u001b[1;32m      <a href='vscode-notebook-cell:/Users/bean/Dropbox/code/lede/classwork/08-classwork/08-classwork.ipynb#ch0000012?line=3'>4</a>\u001b[0m \u001b[39m# and then replace the things that change.\u001b[39;00m\n\u001b[0;32m----> <a href='vscode-notebook-cell:/Users/bean/Dropbox/code/lede/classwork/08-classwork/08-classwork.ipynb#ch0000012?line=4'>5</a>\u001b[0m df\u001b[39m.\u001b[39;49mmanner_of_death\u001b[39m.\u001b[39;49mdate_of_death\u001b[39m.\u001b[39mstr\u001b[39m.\u001b[39mextract(\u001b[39m\"\u001b[39m\u001b[39m((\u001b[39m\u001b[39m\\\u001b[39m\u001b[39md\u001b[39m\u001b[39m\\\u001b[39m\u001b[39md)/\u001b[39m\u001b[39m\\\u001b[39m\u001b[39md\u001b[39m\u001b[39m\\\u001b[39m\u001b[39md/\u001b[39m\u001b[39m\\\u001b[39m\u001b[39md\u001b[39m\u001b[39m\\\u001b[39m\u001b[39md\u001b[39m\u001b[39m\\\u001b[39m\u001b[39md\u001b[39m\u001b[39m\\\u001b[39m\u001b[39md\u001b[39m\u001b[39m\"\u001b[39m)\n",
      "File \u001b[0;32m~/.pyenv/versions/3.10.3/lib/python3.10/site-packages/pandas/core/generic.py:5575\u001b[0m, in \u001b[0;36mNDFrame.__getattr__\u001b[0;34m(self, name)\u001b[0m\n\u001b[1;32m   5568\u001b[0m \u001b[39mif\u001b[39;00m (\n\u001b[1;32m   5569\u001b[0m     name \u001b[39mnot\u001b[39;00m \u001b[39min\u001b[39;00m \u001b[39mself\u001b[39m\u001b[39m.\u001b[39m_internal_names_set\n\u001b[1;32m   5570\u001b[0m     \u001b[39mand\u001b[39;00m name \u001b[39mnot\u001b[39;00m \u001b[39min\u001b[39;00m \u001b[39mself\u001b[39m\u001b[39m.\u001b[39m_metadata\n\u001b[1;32m   5571\u001b[0m     \u001b[39mand\u001b[39;00m name \u001b[39mnot\u001b[39;00m \u001b[39min\u001b[39;00m \u001b[39mself\u001b[39m\u001b[39m.\u001b[39m_accessors\n\u001b[1;32m   5572\u001b[0m     \u001b[39mand\u001b[39;00m \u001b[39mself\u001b[39m\u001b[39m.\u001b[39m_info_axis\u001b[39m.\u001b[39m_can_hold_identifiers_and_holds_name(name)\n\u001b[1;32m   5573\u001b[0m ):\n\u001b[1;32m   5574\u001b[0m     \u001b[39mreturn\u001b[39;00m \u001b[39mself\u001b[39m[name]\n\u001b[0;32m-> 5575\u001b[0m \u001b[39mreturn\u001b[39;00m \u001b[39mobject\u001b[39;49m\u001b[39m.\u001b[39;49m\u001b[39m__getattribute__\u001b[39;49m(\u001b[39mself\u001b[39;49m, name)\n",
      "\u001b[0;31mAttributeError\u001b[0m: 'Series' object has no attribute 'date_of_death'"
     ]
    }
   ],
   "source": [
    "# Date extract: parens around what you want.\n",
    "# numbers are \\d, for example (\\d\\d) means \"match any two numbers\".\n",
    "# You're trying to find \"anchor points\" = things that don't change,\n",
    "# and then replace the things that change.\n",
    "df.manner_of_death.date_of_death.str.extract(\"((\\d\\d)/\\d\\d/\\d\\d\\d\\d\")"
   ]
  },
  {
   "cell_type": "code",
   "execution_count": null,
   "metadata": {},
   "outputs": [],
   "source": [
    "# Number 1 rule of data cleaning: If you don't like something, just replace it with an empty string."
   ]
  },
  {
   "cell_type": "code",
   "execution_count": null,
   "metadata": {},
   "outputs": [],
   "source": []
  }
 ],
 "metadata": {
  "kernelspec": {
   "display_name": "Python 3.10.3 64-bit ('3.10.3')",
   "language": "python",
   "name": "python3"
  },
  "language_info": {
   "codemirror_mode": {
    "name": "ipython",
    "version": 3
   },
   "file_extension": ".py",
   "mimetype": "text/x-python",
   "name": "python",
   "nbconvert_exporter": "python",
   "pygments_lexer": "ipython3",
   "version": "3.10.3"
  },
  "orig_nbformat": 4,
  "vscode": {
   "interpreter": {
    "hash": "10626171d4353dd8d0f12b0dae77464b904fee8f635bb045a55f368206a04bde"
   }
  }
 },
 "nbformat": 4,
 "nbformat_minor": 2
}
