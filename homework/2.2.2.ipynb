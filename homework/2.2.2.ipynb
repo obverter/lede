{
 "cells": [
  {
   "cell_type": "code",
   "execution_count": 27,
   "metadata": {},
   "outputs": [
    {
     "name": "stdout",
     "output_type": "stream",
     "text": [
      "Let's create a dictionary called 'tree' that responds to a set of tree-related keys:\n",
      "\n",
      "{'name': None, 'species': None, 'age': None, 'location_name': None, 'latitude': None, 'longitude': None}\n",
      "\n",
      "That's boring. Let's cram the world's largest tree into this empty dictionary:\n",
      "\n",
      "{'name': 'Hyperion', 'species': 'coast redwood', 'age': '750', 'location_name': 'Redwood National Park', 'latitude': '41.3', 'longitude': '-124'}\n",
      "Hyperion is a 750-year-old tree that is in Redwood National Park.\n",
      "\n",
      "Hyperion in Redwood National Park is north of NYC.\n",
      "\n",
      "Okay, let me crunch the numbers...\n",
      "\n",
      "CALCULATING...\n",
      "\n",
      "CALCULATING...\n",
      "\n",
      "CALCULATING...\n",
      "\n",
      "You're never going to believe this, but you're 674 years younger than Hyperion\n"
     ]
    }
   ],
   "source": [
    "# PART TWO: Dictionaries\n",
    "\n",
    "# These will require LATITUDE and LONGITUDE. You can ask Google for latitude and longitude by typing in *coordinates of CITYNAME*, or use any other tool that exists online.\n",
    "\n",
    "# Store the latitude and longitude without the N/S/E/W - if the latitude is S, make it negative. If the longitude is W, make it negative. (See here for explanation (Links to an external site.))\n",
    "\n",
    "# 1) Make a dictionary called 'tree' that responds to 'name', 'species', 'age', 'location_name', 'latitude' and 'longitude'. Pick a tree from: https://en.wikipedia.org/wiki/List_of_trees\n",
    "print(\n",
    "    \"Let's create a dictionary called 'tree' that responds to a set of tree-related keys:\\n\"\n",
    ")\n",
    "tree = {}\n",
    "key_list = [\"name\", \"species\", \"age\", \"location_name\", \"latitude\", \"longitude\"]\n",
    "tree_values = [\n",
    "    \"Hyperion\",\n",
    "    \"coast redwood\",\n",
    "    \"750\",\n",
    "    \"Redwood National Park\",\n",
    "    \"41.3\",\n",
    "    \"-124\",\n",
    "]\n",
    "for i in key_list:\n",
    "    tree[i] = None\n",
    "\n",
    "print(tree)\n",
    "\n",
    "print(\n",
    "    \"\\nThat's boring. Let's cram the world's largest tree into this empty dictionary:\\n\"\n",
    ")\n",
    "\n",
    "tree = {}\n",
    "for key in key_list:\n",
    "    for value in tree_values:\n",
    "        tree[key] = value\n",
    "        tree_values.remove(value)\n",
    "        break\n",
    "\n",
    "print(str(tree))\n",
    "\n",
    "\n",
    "# 2) Print the sentence \"{name} is a {years} year old tree that is in {location_name}\"\n",
    "\n",
    "print(\n",
    "    f\"{tree['name']} is a {tree['age']}-year-old tree that is in {tree['location_name']}.\\n\"\n",
    ")\n",
    "\n",
    "# 3) The coordinates of New York City are 40.7128° N, 74.0059° W. Check to see if the tree is south of NYC, and print \"The tree {name} in {location} is south of NYC\" if it is. If it isn't, print \"The tree {name} in {location} is north of NYC\"\n",
    "\n",
    "nyc = {\"latitude\": \"40.7128\", \"longitude\": \"-74.0059\"}\n",
    "\n",
    "if tree[\"latitude\"] < nyc[\"latitude\"]:\n",
    "    print(f\"{tree['name']} in {tree['location_name']} is south of NYC.\\n\")\n",
    "else:\n",
    "    print(f\"{tree['name']} in {tree['location_name']} is north of NYC.\\n\")\n",
    "\n",
    "# 4) Ask the user how old they are. If they are older than the tree, display \"you are {XXX} years older than {name}.\" If they are younger than the tree, display \"{name} was {XXX} years old when you were born.\"\n",
    "age = input(\"How old are you?\\n >\")\n",
    "\n",
    "print(\"Okay, let me crunch the numbers...\")\n",
    "import time\n",
    "time.sleep(1)\n",
    "\n",
    "for i in range(3):\n",
    "    time.sleep(i)\n",
    "    print(\"\\nCALCULATING...\")\n",
    "\n",
    "\n",
    "if int(age) > int(tree[\"age\"]):\n",
    "    time.sleep(1)\n",
    "    print(\n",
    "        f\"Get a load of this! You're {int(age) - int(tree['age'])} years older than {tree['name']}\"\n",
    "    )\n",
    "else:\n",
    "    time.sleep(1)\n",
    "    print(\n",
    "        f\"\\nYou're never going to believe this, but you're {abs(int(age) - int(tree['age']))} years younger than {tree['name']}\"\n",
    "    )\n",
    "\n"
   ]
  },
  {
   "cell_type": "code",
   "execution_count": 28,
   "metadata": {},
   "outputs": [],
   "source": [
    "# PART TWO: Lists of dictionaries\n",
    "\n",
    "# 1) Make a list of dictionaries of five places across the world - (1) Moscow, (2) Tehran, (3) Falkland Islands, (4) Seoul, and (5) Santiago. Each dictionary should include each city's name and latitude/longitude (see note above).\n",
    "# 2) Loop through the list, printing each city's name and whether it is above or below the equator (How do you know? Think hard about the latitude.). When you get to the Falkland Islands, also display the message \"The Falkland Islands are a biogeographical part of the mild Antarctic zone,\" which is a sentence I stole from Wikipedia.\n",
    "# 3) Loop through the list, printing whether each city is north of south of your tree from the previous section."
   ]
  },
  {
   "cell_type": "code",
   "execution_count": 29,
   "metadata": {},
   "outputs": [],
   "source": [
    "places = {\n",
    "    \"moscow\": \"55.7558° N, 37.6173° E\",\n",
    "    \"tehran\": \"35.7219° N, 51.3347° E\",\n",
    "    \"falkland_islands\": \"51.7963° S, 59.5236° W\",\n",
    "    \"seoul\": \"37.5665° N, 126.9780° E\",\n",
    "    \"santiago\": \"33.4489° S, 70.6693° W\"\n",
    "}"
   ]
  },
  {
   "cell_type": "markdown",
   "metadata": {},
   "source": []
  },
  {
   "cell_type": "code",
   "execution_count": 94,
   "metadata": {},
   "outputs": [
    {
     "ename": "TypeError",
     "evalue": "'float' object is not subscriptable",
     "output_type": "error",
     "traceback": [
      "\u001b[0;31m---------------------------------------------------------------------------\u001b[0m",
      "\u001b[0;31mTypeError\u001b[0m                                 Traceback (most recent call last)",
      "\u001b[1;32m/Users/bean/Dropbox/BKM/lede/homework/2.2.2.ipynb Cell 5'\u001b[0m in \u001b[0;36m<cell line: 7>\u001b[0;34m()\u001b[0m\n\u001b[1;32m     <a href='vscode-notebook-cell:/Users/bean/Dropbox/BKM/lede/homework/2.2.2.ipynb#ch0000004?line=9'>10</a>\u001b[0m long_float \u001b[39m=\u001b[39m splitified[\u001b[39m1\u001b[39m]\n\u001b[1;32m     <a href='vscode-notebook-cell:/Users/bean/Dropbox/BKM/lede/homework/2.2.2.ipynb#ch0000004?line=10'>11</a>\u001b[0m \u001b[39mfor\u001b[39;00m NS \u001b[39min\u001b[39;00m lat_float:\n\u001b[0;32m---> <a href='vscode-notebook-cell:/Users/bean/Dropbox/BKM/lede/homework/2.2.2.ipynb#ch0000004?line=11'>12</a>\u001b[0m     \u001b[39mif\u001b[39;00m lat_float[\u001b[39m-\u001b[39;49m\u001b[39m1\u001b[39;49m] \u001b[39m==\u001b[39m \u001b[39m\"\u001b[39m\u001b[39mS\u001b[39m\u001b[39m\"\u001b[39m:\n\u001b[1;32m     <a href='vscode-notebook-cell:/Users/bean/Dropbox/BKM/lede/homework/2.2.2.ipynb#ch0000004?line=12'>13</a>\u001b[0m         lat_float \u001b[39m=\u001b[39m lat_float[\u001b[39m0\u001b[39m:\u001b[39m-\u001b[39m\u001b[39m3\u001b[39m]\n\u001b[1;32m     <a href='vscode-notebook-cell:/Users/bean/Dropbox/BKM/lede/homework/2.2.2.ipynb#ch0000004?line=13'>14</a>\u001b[0m         \u001b[39m# lat_float = float(lat_float)\u001b[39;00m\n",
      "\u001b[0;31mTypeError\u001b[0m: 'float' object is not subscriptable"
     ]
    }
   ],
   "source": [
    "\n",
    "lat_floats = []\n",
    "long_floats = []\n",
    "coordinates = []\n",
    "for coordinate in places.values():\n",
    "    coordinates.append(coordinate)\n",
    "    \n",
    "for pair in coordinates:\n",
    "    splitified = pair.split(',')\n",
    "    lat_float = splitified[0]\n",
    "    long_float = splitified[1]\n",
    "    for NS in lat_float:\n",
    "        if lat_float[-1] == \"S\":\n",
    "            lat_float = lat_float[0:-3]\n",
    "            # lat_float = float(lat_float)\n",
    "            lat_float = 0 - float(lat_float)\n",
    "            lat_floats.append(lat_float)\n",
    "        else:\n",
    "            lat_float = lat_float[0:-3]\n",
    "            lat_float = float(lat_float)\n",
    "            lat_floats.append(float(lat_float))\n",
    "    for EW in long_float:\n",
    "        if long_float[-1] == \"W\":\n",
    "            long_float = long_float[0:-3]\n",
    "            long_float = float(long_float)\n",
    "            long_float = 0 - long_float\n",
    "            long_floats.append(long_float)\n",
    "        else:\n",
    "            long_float = long_float[0:-3]\n",
    "            long_float = float(long_float)\n",
    "            long_floats.append(long_float)\n",
    "\n",
    "print(long_floats)\n",
    "print(long)\n",
    "#  # break up the coordinate into the latitude and longitude\n",
    "# lat = parts[0]\n",
    "# long = parts[1]\n",
    "#     # while lat_counter < len(lat):\n",
    "# for NS in lat:\n",
    "#     lat_float = lat[0:-3]\n",
    "#     if [-1] == \"S\":\n",
    "#         lat_float = lat_float * -1\n",
    "#     lat_floats.append(lat_float)\n",
    "#     # print(lat_float)\n",
    "# for EW in long:\n",
    "#     if [-1] == \"W\":\n",
    "#         long_float = long[0:-3]\n",
    "#         long_float = long_float * -1\n",
    "#         long_floats.append(long_float)\n",
    "#         # long_counter += 1\n",
    "#     else:\n",
    "#         long_float = long[0:-3]\n",
    "#         long_floats.append(long_float)\n",
    "#     # print(long_float)"
   ]
  },
  {
   "cell_type": "code",
   "execution_count": 79,
   "metadata": {},
   "outputs": [
    {
     "name": "stdout",
     "output_type": "stream",
     "text": [
      "['55.7558° N, 37.6173° E', '35.7219° N, 51.3347° E', '51.7963° S, 59.5236° W', '37.5665° N, 126.9780° E', '33.4489° S, 70.6693° W']\n"
     ]
    }
   ],
   "source": [
    "print(coordinates)"
   ]
  },
  {
   "cell_type": "code",
   "execution_count": null,
   "metadata": {},
   "outputs": [
    {
     "name": "stdout",
     "output_type": "stream",
     "text": [
      "Degree Thingie: 7\n"
     ]
    }
   ],
   "source": [
    "degree_thingie_strindex = lat.find(\"°\")\n",
    "print(\"Degree Thingie: \" + format(degree_thingie_strindex))"
   ]
  },
  {
   "cell_type": "code",
   "execution_count": null,
   "metadata": {},
   "outputs": [],
   "source": [
    "lat_string = lat[0:degree_thingie_strindex]\n",
    "long_string = long[0:degree_thingie_strindex]"
   ]
  }
 ],
 "metadata": {
  "interpreter": {
   "hash": "10626171d4353dd8d0f12b0dae77464b904fee8f635bb045a55f368206a04bde"
  },
  "kernelspec": {
   "display_name": "Python 3.10.3 64-bit ('3.10.3')",
   "language": "python",
   "name": "python3"
  },
  "language_info": {
   "codemirror_mode": {
    "name": "ipython",
    "version": 3
   },
   "file_extension": ".py",
   "mimetype": "text/x-python",
   "name": "python",
   "nbconvert_exporter": "python",
   "pygments_lexer": "ipython3",
   "version": "3.10.3"
  },
  "orig_nbformat": 4
 },
 "nbformat": 4,
 "nbformat_minor": 2
}
