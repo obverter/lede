{
 "cells": [
  {
   "cell_type": "code",
   "execution_count": 200,
   "metadata": {},
   "outputs": [],
   "source": [
    "import json\n",
    "\n",
    "data = json.loads(\n",
    "    '{\"tracks\":[{\"album\":{\"album_type\":\"single\",\"artists\":[{\"external_urls\":{\"spotify\":\"https://open.spotify.com/artist/3TVXtAsR1Inumwj472S9r4\"},\"href\":\"https://api.spotify.com/v1/artists/3TVXtAsR1Inumwj472S9r4\",\"id\":\"3TVXtAsR1Inumwj472S9r4\",\"name\":\"Drake\",\"type\":\"artist\",\"uri\":\"spotify:artist:3TVXtAsR1Inumwj472S9r4\"}],\"available_markets\":[\"CA\",\"MX\",\"US\"],\"external_urls\":{\"spotify\":\"https://open.spotify.com/album/1YxmW7DO2dM05gwMKTbr7l\"},\"href\":\"https://api.spotify.com/v1/albums/1YxmW7DO2dM05gwMKTbr7l\",\"id\":\"1YxmW7DO2dM05gwMKTbr7l\",\"images\":[{\"height\":640,\"url\":\"https://i.scdn.co/image/5b14b24dea78b0a14244ccb86f3bfd20bf77326d\",\"width\":640},{\"height\":300,\"url\":\"https://i.scdn.co/image/177939e6656bd0ae46d12e1f36e9162016d28a3c\",\"width\":300},{\"height\":64,\"url\":\"https://i.scdn.co/image/7b42b976267520f4dbb2f67e1baa63ca13bdbfdb\",\"width\":64}],\"name\":\"Fake Love\",\"type\":\"album\",\"uri\":\"spotify:album:1YxmW7DO2dM05gwMKTbr7l\"},\"artists\":[{\"external_urls\":{\"spotify\":\"https://open.spotify.com/artist/3TVXtAsR1Inumwj472S9r4\"},\"href\":\"https://api.spotify.com/v1/artists/3TVXtAsR1Inumwj472S9r4\",\"id\":\"3TVXtAsR1Inumwj472S9r4\",\"name\":\"Drake\",\"type\":\"artist\",\"uri\":\"spotify:artist:3TVXtAsR1Inumwj472S9r4\"}],\"available_markets\":[\"CA\",\"MX\",\"US\"],\"disc_number\":1,\"duration_ms\":207813,\"explicit\":true,\"external_ids\":{\"isrc\":\"USCM51600333\"},\"external_urls\":{\"spotify\":\"https://open.spotify.com/track/6NMNgWgEAzde5M8U3lc6FN\"},\"href\":\"https://api.spotify.com/v1/tracks/6NMNgWgEAzde5M8U3lc6FN\",\"id\":\"6NMNgWgEAzde5M8U3lc6FN\",\"name\":\"Fake Love\",\"popularity\":90,\"preview_url\":\"https://p.scdn.co/mp3-preview/b1c79b52128cc45a962cb87ba5a616ea6a435356?cid=null\",\"track_number\":1,\"type\":\"track\",\"uri\":\"spotify:track:6NMNgWgEAzde5M8U3lc6FN\"},{\"album\":{\"album_type\":\"album\",\"artists\":[{\"external_urls\":{\"spotify\":\"https://open.spotify.com/artist/3TVXtAsR1Inumwj472S9r4\"},\"href\":\"https://api.spotify.com/v1/artists/3TVXtAsR1Inumwj472S9r4\",\"id\":\"3TVXtAsR1Inumwj472S9r4\",\"name\":\"Drake\",\"type\":\"artist\",\"uri\":\"spotify:artist:3TVXtAsR1Inumwj472S9r4\"}],\"available_markets\":[\"CA\",\"MX\",\"US\"],\"external_urls\":{\"spotify\":\"https://open.spotify.com/album/0G1ffjfFuTUTVjDrVdLimH\"},\"href\":\"https://api.spotify.com/v1/albums/0G1ffjfFuTUTVjDrVdLimH\",\"id\":\"0G1ffjfFuTUTVjDrVdLimH\",\"images\":[{\"height\":640,\"url\":\"https://i.scdn.co/image/e73c706e842eb5233eab7afd3404218a2696d568\",\"width\":640},{\"height\":300,\"url\":\"https://i.scdn.co/image/90f080afbec29a0c58509875a6dd59b3c380e353\",\"width\":300},{\"height\":64,\"url\":\"https://i.scdn.co/image/260c2e74e67a15cf61ac72f8264cc6caec5f7a66\",\"width\":64}],\"name\":\"Views\",\"type\":\"album\",\"uri\":\"spotify:album:0G1ffjfFuTUTVjDrVdLimH\"},\"artists\":[{\"external_urls\":{\"spotify\":\"https://open.spotify.com/artist/3TVXtAsR1Inumwj472S9r4\"},\"href\":\"https://api.spotify.com/v1/artists/3TVXtAsR1Inumwj472S9r4\",\"id\":\"3TVXtAsR1Inumwj472S9r4\",\"name\":\"Drake\",\"type\":\"artist\",\"uri\":\"spotify:artist:3TVXtAsR1Inumwj472S9r4\"},{\"external_urls\":{\"spotify\":\"https://open.spotify.com/artist/3tVQdUvClmAT7URs9V3rsp\"},\"href\":\"https://api.spotify.com/v1/artists/3tVQdUvClmAT7URs9V3rsp\",\"id\":\"3tVQdUvClmAT7URs9V3rsp\",\"name\":\"WizKid\",\"type\":\"artist\",\"uri\":\"spotify:artist:3tVQdUvClmAT7URs9V3rsp\"},{\"external_urls\":{\"spotify\":\"https://open.spotify.com/artist/77DAFfvm3O9zT5dIoG0eIO\"},\"href\":\"https://api.spotify.com/v1/artists/77DAFfvm3O9zT5dIoG0eIO\",\"id\":\"77DAFfvm3O9zT5dIoG0eIO\",\"name\":\"Kyla\",\"type\":\"artist\",\"uri\":\"spotify:artist:77DAFfvm3O9zT5dIoG0eIO\"}],\"available_markets\":[\"CA\",\"MX\",\"US\"],\"disc_number\":1,\"duration_ms\":173986,\"explicit\":false,\"external_ids\":{\"isrc\":\"USCM51600028\"},\"external_urls\":{\"spotify\":\"https://open.spotify.com/track/12VWzyPDBCc8fqeWCAfNwR\"},\"href\":\"https://api.spotify.com/v1/tracks/12VWzyPDBCc8fqeWCAfNwR\",\"id\":\"12VWzyPDBCc8fqeWCAfNwR\",\"name\":\"One Dance\",\"popularity\":84,\"preview_url\":\"https://p.scdn.co/mp3-preview/98f60b086bb1da2ca2e4c217331b8c8cc801358d?cid=null\",\"track_number\":12,\"type\":\"track\",\"uri\":\"spotify:track:12VWzyPDBCc8fqeWCAfNwR\"},{\"album\":{\"album_type\":\"single\",\"artists\":[{\"external_urls\":{\"spotify\":\"https://open.spotify.com/artist/3TVXtAsR1Inumwj472S9r4\"},\"href\":\"https://api.spotify.com/v1/artists/3TVXtAsR1Inumwj472S9r4\",\"id\":\"3TVXtAsR1Inumwj472S9r4\",\"name\":\"Drake\",\"type\":\"artist\",\"uri\":\"spotify:artist:3TVXtAsR1Inumwj472S9r4\"}],\"available_markets\":[\"CA\",\"MX\",\"US\"],\"external_urls\":{\"spotify\":\"https://open.spotify.com/album/2z3NlPY0n0gHJPCPqrzA6V\"},\"href\":\"https://api.spotify.com/v1/albums/2z3NlPY0n0gHJPCPqrzA6V\",\"id\":\"2z3NlPY0n0gHJPCPqrzA6V\",\"images\":[{\"height\":640,\"url\":\"https://i.scdn.co/image/5b14b24dea78b0a14244ccb86f3bfd20bf77326d\",\"width\":640},{\"height\":300,\"url\":\"https://i.scdn.co/image/177939e6656bd0ae46d12e1f36e9162016d28a3c\",\"width\":300},{\"height\":64,\"url\":\"https://i.scdn.co/image/7b42b976267520f4dbb2f67e1baa63ca13bdbfdb\",\"width\":64}],\"name\":\"Sneakin’\",\"type\":\"album\",\"uri\":\"spotify:album:2z3NlPY0n0gHJPCPqrzA6V\"},\"artists\":[{\"external_urls\":{\"spotify\":\"https://open.spotify.com/artist/3TVXtAsR1Inumwj472S9r4\"},\"href\":\"https://api.spotify.com/v1/artists/3TVXtAsR1Inumwj472S9r4\",\"id\":\"3TVXtAsR1Inumwj472S9r4\",\"name\":\"Drake\",\"type\":\"artist\",\"uri\":\"spotify:artist:3TVXtAsR1Inumwj472S9r4\"},{\"external_urls\":{\"spotify\":\"https://open.spotify.com/artist/1URnnhqYAYcrqrcwql10ft\"},\"href\":\"https://api.spotify.com/v1/artists/1URnnhqYAYcrqrcwql10ft\",\"id\":\"1URnnhqYAYcrqrcwql10ft\",\"name\":\"21 Savage\",\"type\":\"artist\",\"uri\":\"spotify:artist:1URnnhqYAYcrqrcwql10ft\"}],\"available_markets\":[\"CA\",\"MX\",\"US\"],\"disc_number\":1,\"duration_ms\":251333,\"explicit\":true,\"external_ids\":{\"isrc\":\"USCM51600337\"},\"external_urls\":{\"spotify\":\"https://open.spotify.com/track/4ckuS4Nj4FZ7i3Def3Br8W\"},\"href\":\"https://api.spotify.com/v1/tracks/4ckuS4Nj4FZ7i3Def3Br8W\",\"id\":\"4ckuS4Nj4FZ7i3Def3Br8W\",\"name\":\"Sneakin’\",\"popularity\":82,\"preview_url\":\"https://p.scdn.co/mp3-preview/4fa89ace286252c33a1ca0d36e7555d6a451a2db?cid=null\",\"track_number\":1,\"type\":\"track\",\"uri\":\"spotify:track:4ckuS4Nj4FZ7i3Def3Br8W\"},{\"album\":{\"album_type\":\"album\",\"artists\":[{\"external_urls\":{\"spotify\":\"https://open.spotify.com/artist/3TVXtAsR1Inumwj472S9r4\"},\"href\":\"https://api.spotify.com/v1/artists/3TVXtAsR1Inumwj472S9r4\",\"id\":\"3TVXtAsR1Inumwj472S9r4\",\"name\":\"Drake\",\"type\":\"artist\",\"uri\":\"spotify:artist:3TVXtAsR1Inumwj472S9r4\"}],\"available_markets\":[\"CA\",\"MX\",\"US\"],\"external_urls\":{\"spotify\":\"https://open.spotify.com/album/0G1ffjfFuTUTVjDrVdLimH\"},\"href\":\"https://api.spotify.com/v1/albums/0G1ffjfFuTUTVjDrVdLimH\",\"id\":\"0G1ffjfFuTUTVjDrVdLimH\",\"images\":[{\"height\":640,\"url\":\"https://i.scdn.co/image/e73c706e842eb5233eab7afd3404218a2696d568\",\"width\":640},{\"height\":300,\"url\":\"https://i.scdn.co/image/90f080afbec29a0c58509875a6dd59b3c380e353\",\"width\":300},{\"height\":64,\"url\":\"https://i.scdn.co/image/260c2e74e67a15cf61ac72f8264cc6caec5f7a66\",\"width\":64}],\"name\":\"Views\",\"type\":\"album\",\"uri\":\"spotify:album:0G1ffjfFuTUTVjDrVdLimH\"},\"artists\":[{\"external_urls\":{\"spotify\":\"https://open.spotify.com/artist/3TVXtAsR1Inumwj472S9r4\"},\"href\":\"https://api.spotify.com/v1/artists/3TVXtAsR1Inumwj472S9r4\",\"id\":\"3TVXtAsR1Inumwj472S9r4\",\"name\":\"Drake\",\"type\":\"artist\",\"uri\":\"spotify:artist:3TVXtAsR1Inumwj472S9r4\"},{\"external_urls\":{\"spotify\":\"https://open.spotify.com/artist/5pKCCKE2ajJHZ9KAiaK11H\"},\"href\":\"https://api.spotify.com/v1/artists/5pKCCKE2ajJHZ9KAiaK11H\",\"id\":\"5pKCCKE2ajJHZ9KAiaK11H\",\"name\":\"Rihanna\",\"type\":\"artist\",\"uri\":\"spotify:artist:5pKCCKE2ajJHZ9KAiaK11H\"}],\"available_markets\":[\"CA\",\"MX\",\"US\"],\"disc_number\":1,\"duration_ms\":263373,\"explicit\":true,\"external_ids\":{\"isrc\":\"USCM51600088\"},\"external_urls\":{\"spotify\":\"https://open.spotify.com/track/7fJtPlEZKxu6gvkfBFc5tW\"},\"href\":\"https://api.spotify.com/v1/tracks/7fJtPlEZKxu6gvkfBFc5tW\",\"id\":\"7fJtPlEZKxu6gvkfBFc5tW\",\"name\":\"Too Good\",\"popularity\":79,\"preview_url\":\"https://p.scdn.co/mp3-preview/e702c76de627c3fb04da1bcbf6a8b53c3326a0cc?cid=null\",\"track_number\":16,\"type\":\"track\",\"uri\":\"spotify:track:7fJtPlEZKxu6gvkfBFc5tW\"},{\"album\":{\"album_type\":\"album\",\"artists\":[{\"external_urls\":{\"spotify\":\"https://open.spotify.com/artist/3TVXtAsR1Inumwj472S9r4\"},\"href\":\"https://api.spotify.com/v1/artists/3TVXtAsR1Inumwj472S9r4\",\"id\":\"3TVXtAsR1Inumwj472S9r4\",\"name\":\"Drake\",\"type\":\"artist\",\"uri\":\"spotify:artist:3TVXtAsR1Inumwj472S9r4\"}],\"available_markets\":[\"CA\",\"MX\",\"US\"],\"external_urls\":{\"spotify\":\"https://open.spotify.com/album/0G1ffjfFuTUTVjDrVdLimH\"},\"href\":\"https://api.spotify.com/v1/albums/0G1ffjfFuTUTVjDrVdLimH\",\"id\":\"0G1ffjfFuTUTVjDrVdLimH\",\"images\":[{\"height\":640,\"url\":\"https://i.scdn.co/image/e73c706e842eb5233eab7afd3404218a2696d568\",\"width\":640},{\"height\":300,\"url\":\"https://i.scdn.co/image/90f080afbec29a0c58509875a6dd59b3c380e353\",\"width\":300},{\"height\":64,\"url\":\"https://i.scdn.co/image/260c2e74e67a15cf61ac72f8264cc6caec5f7a66\",\"width\":64}],\"name\":\"Views\",\"type\":\"album\",\"uri\":\"spotify:album:0G1ffjfFuTUTVjDrVdLimH\"},\"artists\":[{\"external_urls\":{\"spotify\":\"https://open.spotify.com/artist/3TVXtAsR1Inumwj472S9r4\"},\"href\":\"https://api.spotify.com/v1/artists/3TVXtAsR1Inumwj472S9r4\",\"id\":\"3TVXtAsR1Inumwj472S9r4\",\"name\":\"Drake\",\"type\":\"artist\",\"uri\":\"spotify:artist:3TVXtAsR1Inumwj472S9r4\"}],\"available_markets\":[\"CA\",\"MX\",\"US\"],\"disc_number\":1,\"duration_ms\":245226,\"explicit\":true,\"external_ids\":{\"isrc\":\"USCM51600080\"},\"external_urls\":{\"spotify\":\"https://open.spotify.com/track/4CpKEkdGbOJV51cSvx7SoG\"},\"href\":\"https://api.spotify.com/v1/tracks/4CpKEkdGbOJV51cSvx7SoG\",\"id\":\"4CpKEkdGbOJV51cSvx7SoG\",\"name\":\"Controlla\",\"popularity\":79,\"preview_url\":\"https://p.scdn.co/mp3-preview/c5b5845dc83410f5731e395c5a725d6b6e94ff69?cid=null\",\"track_number\":11,\"type\":\"track\",\"uri\":\"spotify:track:4CpKEkdGbOJV51cSvx7SoG\"},{\"album\":{\"album_type\":\"album\",\"artists\":[{\"external_urls\":{\"spotify\":\"https://open.spotify.com/artist/3TVXtAsR1Inumwj472S9r4\"},\"href\":\"https://api.spotify.com/v1/artists/3TVXtAsR1Inumwj472S9r4\",\"id\":\"3TVXtAsR1Inumwj472S9r4\",\"name\":\"Drake\",\"type\":\"artist\",\"uri\":\"spotify:artist:3TVXtAsR1Inumwj472S9r4\"},{\"external_urls\":{\"spotify\":\"https://open.spotify.com/artist/3ubFn9991d8ygM3MSi7NDi\"},\"href\":\"https://api.spotify.com/v1/artists/3ubFn9991d8ygM3MSi7NDi\",\"id\":\"3ubFn9991d8ygM3MSi7NDi\",\"name\":\"Future\",\"type\":\"artist\",\"uri\":\"spotify:artist:3ubFn9991d8ygM3MSi7NDi\"}],\"available_markets\":[\"CA\",\"MX\",\"US\"],\"external_urls\":{\"spotify\":\"https://open.spotify.com/album/1ozpmkWcCHwsQ4QTnxOOdT\"},\"href\":\"https://api.spotify.com/v1/albums/1ozpmkWcCHwsQ4QTnxOOdT\",\"id\":\"1ozpmkWcCHwsQ4QTnxOOdT\",\"images\":[{\"height\":640,\"url\":\"https://i.scdn.co/image/77b0c91524867cc72d1974f66ad8cd21d063a20e\",\"width\":640},{\"height\":300,\"url\":\"https://i.scdn.co/image/f2405b82d0578dd815a3082ca0f7ec4e18e937a1\",\"width\":300},{\"height\":64,\"url\":\"https://i.scdn.co/image/a5435bb3ab4fabe43bc7f7ce46a6c23aa30d8eae\",\"width\":64}],\"name\":\"What A Time To Be Alive\",\"type\":\"album\",\"uri\":\"spotify:album:1ozpmkWcCHwsQ4QTnxOOdT\"},\"artists\":[{\"external_urls\":{\"spotify\":\"https://open.spotify.com/artist/3TVXtAsR1Inumwj472S9r4\"},\"href\":\"https://api.spotify.com/v1/artists/3TVXtAsR1Inumwj472S9r4\",\"id\":\"3TVXtAsR1Inumwj472S9r4\",\"name\":\"Drake\",\"type\":\"artist\",\"uri\":\"spotify:artist:3TVXtAsR1Inumwj472S9r4\"},{\"external_urls\":{\"spotify\":\"https://open.spotify.com/artist/3ubFn9991d8ygM3MSi7NDi\"},\"href\":\"https://api.spotify.com/v1/artists/3ubFn9991d8ygM3MSi7NDi\",\"id\":\"3ubFn9991d8ygM3MSi7NDi\",\"name\":\"Future\",\"type\":\"artist\",\"uri\":\"spotify:artist:3ubFn9991d8ygM3MSi7NDi\"}],\"available_markets\":[\"CA\",\"MX\",\"US\"],\"disc_number\":1,\"duration_ms\":205879,\"explicit\":true,\"external_ids\":{\"isrc\":\"USCM51500300\"},\"external_urls\":{\"spotify\":\"https://open.spotify.com/track/27GmP9AWRs744SzKcpJsTZ\"},\"href\":\"https://api.spotify.com/v1/tracks/27GmP9AWRs744SzKcpJsTZ\",\"id\":\"27GmP9AWRs744SzKcpJsTZ\",\"name\":\"Jumpman\",\"popularity\":77,\"preview_url\":\"https://p.scdn.co/mp3-preview/4f3e954bb232a96c196389017d961016c8cbd7fc?cid=null\",\"track_number\":9,\"type\":\"track\",\"uri\":\"spotify:track:27GmP9AWRs744SzKcpJsTZ\"},{\"album\":{\"album_type\":\"album\",\"artists\":[{\"external_urls\":{\"spotify\":\"https://open.spotify.com/artist/3TVXtAsR1Inumwj472S9r4\"},\"href\":\"https://api.spotify.com/v1/artists/3TVXtAsR1Inumwj472S9r4\",\"id\":\"3TVXtAsR1Inumwj472S9r4\",\"name\":\"Drake\",\"type\":\"artist\",\"uri\":\"spotify:artist:3TVXtAsR1Inumwj472S9r4\"}],\"available_markets\":[\"CA\",\"MX\",\"US\"],\"external_urls\":{\"spotify\":\"https://open.spotify.com/album/0G1ffjfFuTUTVjDrVdLimH\"},\"href\":\"https://api.spotify.com/v1/albums/0G1ffjfFuTUTVjDrVdLimH\",\"id\":\"0G1ffjfFuTUTVjDrVdLimH\",\"images\":[{\"height\":640,\"url\":\"https://i.scdn.co/image/e73c706e842eb5233eab7afd3404218a2696d568\",\"width\":640},{\"height\":300,\"url\":\"https://i.scdn.co/image/90f080afbec29a0c58509875a6dd59b3c380e353\",\"width\":300},{\"height\":64,\"url\":\"https://i.scdn.co/image/260c2e74e67a15cf61ac72f8264cc6caec5f7a66\",\"width\":64}],\"name\":\"Views\",\"type\":\"album\",\"uri\":\"spotify:album:0G1ffjfFuTUTVjDrVdLimH\"},\"artists\":[{\"external_urls\":{\"spotify\":\"https://open.spotify.com/artist/3TVXtAsR1Inumwj472S9r4\"},\"href\":\"https://api.spotify.com/v1/artists/3TVXtAsR1Inumwj472S9r4\",\"id\":\"3TVXtAsR1Inumwj472S9r4\",\"name\":\"Drake\",\"type\":\"artist\",\"uri\":\"spotify:artist:3TVXtAsR1Inumwj472S9r4\"}],\"available_markets\":[\"CA\",\"MX\",\"US\"],\"disc_number\":1,\"duration_ms\":267066,\"explicit\":false,\"external_ids\":{\"isrc\":\"USCM51500238\"},\"external_urls\":{\"spotify\":\"https://open.spotify.com/track/1OAYKfE0YdrN7C1yLWaLJo\"},\"href\":\"https://api.spotify.com/v1/tracks/1OAYKfE0YdrN7C1yLWaLJo\",\"id\":\"1OAYKfE0YdrN7C1yLWaLJo\",\"name\":\"Hotline Bling\",\"popularity\":75,\"preview_url\":\"https://p.scdn.co/mp3-preview/53a8f039eb0b567e47868f5a53de4683ba5d5f0c?cid=null\",\"track_number\":20,\"type\":\"track\",\"uri\":\"spotify:track:1OAYKfE0YdrN7C1yLWaLJo\"},{\"album\":{\"album_type\":\"album\",\"artists\":[{\"external_urls\":{\"spotify\":\"https://open.spotify.com/artist/3TVXtAsR1Inumwj472S9r4\"},\"href\":\"https://api.spotify.com/v1/artists/3TVXtAsR1Inumwj472S9r4\",\"id\":\"3TVXtAsR1Inumwj472S9r4\",\"name\":\"Drake\",\"type\":\"artist\",\"uri\":\"spotify:artist:3TVXtAsR1Inumwj472S9r4\"}],\"available_markets\":[\"CA\",\"MX\",\"US\"],\"external_urls\":{\"spotify\":\"https://open.spotify.com/album/0G1ffjfFuTUTVjDrVdLimH\"},\"href\":\"https://api.spotify.com/v1/albums/0G1ffjfFuTUTVjDrVdLimH\",\"id\":\"0G1ffjfFuTUTVjDrVdLimH\",\"images\":[{\"height\":640,\"url\":\"https://i.scdn.co/image/e73c706e842eb5233eab7afd3404218a2696d568\",\"width\":640},{\"height\":300,\"url\":\"https://i.scdn.co/image/90f080afbec29a0c58509875a6dd59b3c380e353\",\"width\":300},{\"height\":64,\"url\":\"https://i.scdn.co/image/260c2e74e67a15cf61ac72f8264cc6caec5f7a66\",\"width\":64}],\"name\":\"Views\",\"type\":\"album\",\"uri\":\"spotify:album:0G1ffjfFuTUTVjDrVdLimH\"},\"artists\":[{\"external_urls\":{\"spotify\":\"https://open.spotify.com/artist/3TVXtAsR1Inumwj472S9r4\"},\"href\":\"https://api.spotify.com/v1/artists/3TVXtAsR1Inumwj472S9r4\",\"id\":\"3TVXtAsR1Inumwj472S9r4\",\"name\":\"Drake\",\"type\":\"artist\",\"uri\":\"spotify:artist:3TVXtAsR1Inumwj472S9r4\"}],\"available_markets\":[\"CA\",\"MX\",\"US\"],\"disc_number\":1,\"duration_ms\":189853,\"explicit\":true,\"external_ids\":{\"isrc\":\"USCM51600078\"},\"external_urls\":{\"spotify\":\"https://open.spotify.com/track/4YJmZfvlheSziXem8HBWrj\"},\"href\":\"https://api.spotify.com/v1/tracks/4YJmZfvlheSziXem8HBWrj\",\"id\":\"4YJmZfvlheSziXem8HBWrj\",\"name\":\"Still Here\",\"popularity\":73,\"preview_url\":\"https://p.scdn.co/mp3-preview/39384d3485d21184dd3719cfd8d644182b0b1d8b?cid=null\",\"track_number\":10,\"type\":\"track\",\"uri\":\"spotify:track:4YJmZfvlheSziXem8HBWrj\"},{\"album\":{\"album_type\":\"single\",\"artists\":[{\"external_urls\":{\"spotify\":\"https://open.spotify.com/artist/3TVXtAsR1Inumwj472S9r4\"},\"href\":\"https://api.spotify.com/v1/artists/3TVXtAsR1Inumwj472S9r4\",\"id\":\"3TVXtAsR1Inumwj472S9r4\",\"name\":\"Drake\",\"type\":\"artist\",\"uri\":\"spotify:artist:3TVXtAsR1Inumwj472S9r4\"}],\"available_markets\":[\"CA\",\"MX\",\"US\"],\"external_urls\":{\"spotify\":\"https://open.spotify.com/album/79qV4McLzhs8U3FyRKnocz\"},\"href\":\"https://api.spotify.com/v1/albums/79qV4McLzhs8U3FyRKnocz\",\"id\":\"79qV4McLzhs8U3FyRKnocz\",\"images\":[{\"height\":640,\"url\":\"https://i.scdn.co/image/2151a609fd5a5ec69586920a85bf308cdf56f3a1\",\"width\":640},{\"height\":300,\"url\":\"https://i.scdn.co/image/9c6eb30ff5270c115b1ecd2b74430e505c281f25\",\"width\":300},{\"height\":64,\"url\":\"https://i.scdn.co/image/ef4e90b4dde72134365a732659dccf9e1bd7b519\",\"width\":64}],\"name\":\"Back To Back\",\"type\":\"album\",\"uri\":\"spotify:album:79qV4McLzhs8U3FyRKnocz\"},\"artists\":[{\"external_urls\":{\"spotify\":\"https://open.spotify.com/artist/3TVXtAsR1Inumwj472S9r4\"},\"href\":\"https://api.spotify.com/v1/artists/3TVXtAsR1Inumwj472S9r4\",\"id\":\"3TVXtAsR1Inumwj472S9r4\",\"name\":\"Drake\",\"type\":\"artist\",\"uri\":\"spotify:artist:3TVXtAsR1Inumwj472S9r4\"}],\"available_markets\":[\"CA\",\"MX\",\"US\"],\"disc_number\":1,\"duration_ms\":170637,\"explicit\":true,\"external_ids\":{\"isrc\":\"USCM51500241\"},\"external_urls\":{\"spotify\":\"https://open.spotify.com/track/5lFDtgWsjRJu8fPOAyJIAK\"},\"href\":\"https://api.spotify.com/v1/tracks/5lFDtgWsjRJu8fPOAyJIAK\",\"id\":\"5lFDtgWsjRJu8fPOAyJIAK\",\"name\":\"Back To Back\",\"popularity\":73,\"preview_url\":\"https://p.scdn.co/mp3-preview/b5bb11586af5cfde7c0eaef26300b2f6f62d2ac4?cid=null\",\"track_number\":1,\"type\":\"track\",\"uri\":\"spotify:track:5lFDtgWsjRJu8fPOAyJIAK\"},{\"album\":{\"album_type\":\"album\",\"artists\":[{\"external_urls\":{\"spotify\":\"https://open.spotify.com/artist/3TVXtAsR1Inumwj472S9r4\"},\"href\":\"https://api.spotify.com/v1/artists/3TVXtAsR1Inumwj472S9r4\",\"id\":\"3TVXtAsR1Inumwj472S9r4\",\"name\":\"Drake\",\"type\":\"artist\",\"uri\":\"spotify:artist:3TVXtAsR1Inumwj472S9r4\"}],\"available_markets\":[\"CA\",\"MX\",\"US\"],\"external_urls\":{\"spotify\":\"https://open.spotify.com/album/0ptlfJfwGTy0Yvrk14JK1I\"},\"href\":\"https://api.spotify.com/v1/albums/0ptlfJfwGTy0Yvrk14JK1I\",\"id\":\"0ptlfJfwGTy0Yvrk14JK1I\",\"images\":[{\"height\":640,\"url\":\"https://i.scdn.co/image/d329671363eb7826b5871eef978841c7db97c757\",\"width\":640},{\"height\":300,\"url\":\"https://i.scdn.co/image/bcd6801c26cb293a45df9b092227395c5b403b4c\",\"width\":300},{\"height\":64,\"url\":\"https://i.scdn.co/image/14d65d4565838431345e35575b8b74d95134990a\",\"width\":64}],\"name\":\"If You\\'re Reading This It\\'s Too Late\",\"type\":\"album\",\"uri\":\"spotify:album:0ptlfJfwGTy0Yvrk14JK1I\"},\"artists\":[{\"external_urls\":{\"spotify\":\"https://open.spotify.com/artist/3TVXtAsR1Inumwj472S9r4\"},\"href\":\"https://api.spotify.com/v1/artists/3TVXtAsR1Inumwj472S9r4\",\"id\":\"3TVXtAsR1Inumwj472S9r4\",\"name\":\"Drake\",\"type\":\"artist\",\"uri\":\"spotify:artist:3TVXtAsR1Inumwj472S9r4\"}],\"available_markets\":[\"CA\",\"MX\",\"US\"],\"disc_number\":1,\"duration_ms\":241853,\"explicit\":true,\"external_ids\":{\"isrc\":\"USCM51500010\"},\"external_urls\":{\"spotify\":\"https://open.spotify.com/track/1ID1QFSNNxi0hiZCNcwjUC\"},\"href\":\"https://api.spotify.com/v1/tracks/1ID1QFSNNxi0hiZCNcwjUC\",\"id\":\"1ID1QFSNNxi0hiZCNcwjUC\",\"name\":\"Legend\",\"popularity\":72,\"preview_url\":\"https://p.scdn.co/mp3-preview/34fe00d7d951e42017bbbd8a424244c3cf1006e1?cid=null\",\"track_number\":1,\"type\":\"track\",\"uri\":\"spotify:track:1ID1QFSNNxi0hiZCNcwjUC\"}]}'\n",
    ")"
   ]
  },
  {
   "cell_type": "code",
   "execution_count": 201,
   "metadata": {},
   "outputs": [
    {
     "name": "stdout",
     "output_type": "stream",
     "text": [
      "<class 'dict'>\n"
     ]
    }
   ],
   "source": [
    "# Let's see what we have\n",
    "print(type(data))"
   ]
  },
  {
   "cell_type": "code",
   "execution_count": 202,
   "metadata": {},
   "outputs": [
    {
     "name": "stdout",
     "output_type": "stream",
     "text": [
      "dict_keys(['tracks'])\n"
     ]
    }
   ],
   "source": [
    "# data is a dictionary.\n",
    "# what are its keys?\n",
    "print(data.keys())"
   ]
  },
  {
   "cell_type": "code",
   "execution_count": 204,
   "metadata": {},
   "outputs": [
    {
     "name": "stdout",
     "output_type": "stream",
     "text": [
      "single\n"
     ]
    }
   ],
   "source": [
    "# It has one key: 'tracks'\n",
    "# let's print 'tracks'\n",
    "print(data['tracks'][0]['album']['album_type'])"
   ]
  },
  {
   "cell_type": "code",
   "execution_count": 5,
   "metadata": {},
   "outputs": [
    {
     "name": "stdout",
     "output_type": "stream",
     "text": [
      "<class 'list'>\n"
     ]
    }
   ],
   "source": [
    "# It's a hot mess.\n",
    "# What type is 'tracks'?\n",
    "print(type(data['tracks']))"
   ]
  },
  {
   "cell_type": "code",
   "execution_count": 6,
   "metadata": {},
   "outputs": [
    {
     "name": "stdout",
     "output_type": "stream",
     "text": [
      "10\n"
     ]
    }
   ],
   "source": [
    "# The hot mess is a list.\n",
    "# How long is the list?\n",
    "print(len(data['tracks']))"
   ]
  },
  {
   "cell_type": "code",
   "execution_count": 7,
   "metadata": {},
   "outputs": [
    {
     "name": "stdout",
     "output_type": "stream",
     "text": [
      "{'album': {'album_type': 'single', 'artists': [{'external_urls': {'spotify': 'https://open.spotify.com/artist/3TVXtAsR1Inumwj472S9r4'}, 'href': 'https://api.spotify.com/v1/artists/3TVXtAsR1Inumwj472S9r4', 'id': '3TVXtAsR1Inumwj472S9r4', 'name': 'Drake', 'type': 'artist', 'uri': 'spotify:artist:3TVXtAsR1Inumwj472S9r4'}], 'available_markets': ['CA', 'MX', 'US'], 'external_urls': {'spotify': 'https://open.spotify.com/album/1YxmW7DO2dM05gwMKTbr7l'}, 'href': 'https://api.spotify.com/v1/albums/1YxmW7DO2dM05gwMKTbr7l', 'id': '1YxmW7DO2dM05gwMKTbr7l', 'images': [{'height': 640, 'url': 'https://i.scdn.co/image/5b14b24dea78b0a14244ccb86f3bfd20bf77326d', 'width': 640}, {'height': 300, 'url': 'https://i.scdn.co/image/177939e6656bd0ae46d12e1f36e9162016d28a3c', 'width': 300}, {'height': 64, 'url': 'https://i.scdn.co/image/7b42b976267520f4dbb2f67e1baa63ca13bdbfdb', 'width': 64}], 'name': 'Fake Love', 'type': 'album', 'uri': 'spotify:album:1YxmW7DO2dM05gwMKTbr7l'}, 'artists': [{'external_urls': {'spotify': 'https://open.spotify.com/artist/3TVXtAsR1Inumwj472S9r4'}, 'href': 'https://api.spotify.com/v1/artists/3TVXtAsR1Inumwj472S9r4', 'id': '3TVXtAsR1Inumwj472S9r4', 'name': 'Drake', 'type': 'artist', 'uri': 'spotify:artist:3TVXtAsR1Inumwj472S9r4'}], 'available_markets': ['CA', 'MX', 'US'], 'disc_number': 1, 'duration_ms': 207813, 'explicit': True, 'external_ids': {'isrc': 'USCM51600333'}, 'external_urls': {'spotify': 'https://open.spotify.com/track/6NMNgWgEAzde5M8U3lc6FN'}, 'href': 'https://api.spotify.com/v1/tracks/6NMNgWgEAzde5M8U3lc6FN', 'id': '6NMNgWgEAzde5M8U3lc6FN', 'name': 'Fake Love', 'popularity': 90, 'preview_url': 'https://p.scdn.co/mp3-preview/b1c79b52128cc45a962cb87ba5a616ea6a435356?cid=null', 'track_number': 1, 'type': 'track', 'uri': 'spotify:track:6NMNgWgEAzde5M8U3lc6FN'}\n"
     ]
    }
   ],
   "source": [
    "# 'tracks' has len 10\n",
    "# What's the first item in 'tracks'?\n",
    "print(data['tracks'][0])"
   ]
  },
  {
   "cell_type": "code",
   "execution_count": 8,
   "metadata": {},
   "outputs": [
    {
     "name": "stdout",
     "output_type": "stream",
     "text": [
      "<class 'dict'>\n"
     ]
    }
   ],
   "source": [
    "# It's another, hotter mess.\n",
    "# What's this mess's type?\n",
    "print(type(data['tracks'][0]))"
   ]
  },
  {
   "cell_type": "code",
   "execution_count": 9,
   "metadata": {},
   "outputs": [
    {
     "name": "stdout",
     "output_type": "stream",
     "text": [
      "dict_keys(['album', 'artists', 'available_markets', 'disc_number', 'duration_ms', 'explicit', 'external_ids', 'external_urls', 'href', 'id', 'name', 'popularity', 'preview_url', 'track_number', 'type', 'uri'])\n"
     ]
    }
   ],
   "source": [
    "# Oh hey it's another dictionary.\n",
    "# What's in this dictionary?\n",
    "print(data[\"tracks\"][0].keys())"
   ]
  },
  {
   "cell_type": "code",
   "execution_count": 10,
   "metadata": {},
   "outputs": [],
   "source": [
    "# A list of keys.\n",
    "# dict_keys(['album', 'artists', 'available_markets', 'disc_number', 'duration_ms', 'explicit', 'external_ids', 'external_urls', 'href', 'id', 'name', 'popularity', 'preview_url', 'track_number', 'type', 'uri'])"
   ]
  },
  {
   "cell_type": "code",
   "execution_count": 11,
   "metadata": {},
   "outputs": [
    {
     "name": "stdout",
     "output_type": "stream",
     "text": [
      "♪♬♩♪♬♩♪♬♩♪♬♩♪♬♩♪♬♩♪♬♩♪♬♩♪♬♩♪♬♩♪♬♩♪♬♩♪♬♩♪♬♩♪♬♩♪♬♩♪♬♩♪♬♩\n"
     ]
    }
   ],
   "source": [
    "hline = \"♪♬♩♪♬♩♪♬♩♪♬♩♪♬♩♪♬♩♪♬♩♪♬♩♪♬♩♪♬♩♪♬♩♪♬♩♪♬♩♪♬♩♪♬♩♪♬♩♪♬♩♪♬♩\"\n",
    "\n",
    "print(hline)"
   ]
  },
  {
   "cell_type": "code",
   "execution_count": 12,
   "metadata": {},
   "outputs": [
    {
     "name": "stdout",
     "output_type": "stream",
     "text": [
      "\n",
      "1. How many songs are this mess?\n",
      "\n",
      "There are 10 songs in this mess.\n",
      "\n"
     ]
    }
   ],
   "source": [
    "## ?1\n",
    "\n",
    "print(\"\\n1. How many songs are this mess?\\n\")\n",
    "print(f\"There are {len(data['tracks'])} songs in this mess.\\n\")"
   ]
  },
  {
   "cell_type": "code",
   "execution_count": 13,
   "metadata": {},
   "outputs": [
    {
     "name": "stdout",
     "output_type": "stream",
     "text": [
      "\n",
      "2. List the name of each song in this mess along with its popularity.\n",
      "\n",
      "Here is a list of the songs in this mess along with their popularity scores:\n",
      "\n",
      "Fake Love: 90\n",
      "One Dance: 84\n",
      "Sneakin’: 82\n",
      "Too Good: 79\n",
      "Controlla: 79\n",
      "Jumpman: 77\n",
      "Hotline Bling: 75\n",
      "Still Here: 73\n",
      "Back To Back: 73\n",
      "Legend: 72\n"
     ]
    }
   ],
   "source": [
    "## ?2\n",
    "\n",
    "print(\"\\n2. List the name of each song in this mess along with its popularity.\\n\")\n",
    "print(f\"Here is a list of the songs in this mess along with their popularity scores:\\n\")\n",
    "dt = data['tracks']\n",
    "for i in dt:\n",
    "    print(f\"{i['name']}: {i['popularity']}\")"
   ]
  },
  {
   "cell_type": "code",
   "execution_count": 14,
   "metadata": {},
   "outputs": [
    {
     "name": "stdout",
     "output_type": "stream",
     "text": [
      "\n",
      "3. How long would it take, in minutes, to listen to all of these songs in a row?\n",
      "It would take about 36 minutes, 57 seconds to suffer through all of these songs.\n",
      "\n"
     ]
    }
   ],
   "source": [
    "## ?3\n",
    "\n",
    "print(\"\\n3. How long would it take, in minutes, to listen to all of these songs in a row?\")\n",
    "\n",
    "duration_sum = 0  # init duration summifier variable\n",
    "for i in dt:  # summify song durations\n",
    "    duration = i['duration_ms']\n",
    "    duration_sum += int(duration)\n",
    "\n",
    "convert_ms = (duration_sum/1000)  # variables to convert milliseconds to macroseconds\n",
    "minutes = convert_ms // 60\n",
    "seconds = convert_ms % 60\n",
    "\n",
    "print(f\"It would take about {int(minutes)} minutes, {round(seconds)} seconds to suffer through all of these songs.\\n\")"
   ]
  },
  {
   "cell_type": "code",
   "execution_count": 15,
   "metadata": {},
   "outputs": [
    {
     "name": "stdout",
     "output_type": "stream",
     "text": [
      "['Drake']\n",
      "['Drake']\n",
      "['Drake', 'WizKid']\n",
      "['Drake', 'WizKid', 'Kyla']\n",
      "['Drake']\n",
      "['Drake', '21 Savage']\n",
      "['Drake']\n",
      "['Drake', 'Rihanna']\n",
      "['Drake']\n",
      "['Drake']\n",
      "['Drake', 'Future']\n",
      "['Drake']\n",
      "['Drake']\n",
      "['Drake']\n",
      "['Drake']\n"
     ]
    }
   ],
   "source": [
    "contributors = []\n",
    "for i in dt:\n",
    "    dudes = []\n",
    "    for j in i['artists']:\n",
    "        dudes.append(j['name'])\n",
    "        print(dudes)"
   ]
  },
  {
   "cell_type": "code",
   "execution_count": 16,
   "metadata": {},
   "outputs": [
    {
     "name": "stdout",
     "output_type": "stream",
     "text": [
      "[]\n"
     ]
    }
   ],
   "source": [
    "print(contributors)"
   ]
  },
  {
   "cell_type": "markdown",
   "metadata": {},
   "source": [
    "We need to generate a dictionary of track-dictionaries containing a key for artists.\n",
    "\n",
    "1. Generate an empty \"final\" dictionary. ✅\n",
    "2. Generate a loop through raw data targeting each track. ✅\n",
    "   1. Init target dictionary, which will feed final dictionary. ✅\n",
    "   2. Index loop through data ✅\n",
    "      1. For each track, retrieve track title ✅\n",
    "      2. Store track title in a list. ✅\n",
    "         1. For contributing artists: ✅\n",
    "         2. Store contributing artists in a list.\n",
    "   3. Feed lists into target dictionary\n",
    "   4. Feed target dictionary into final dictionary."
   ]
  },
  {
   "cell_type": "code",
   "execution_count": 17,
   "metadata": {},
   "outputs": [
    {
     "name": "stdout",
     "output_type": "stream",
     "text": [
      "The track 'Fake Love' features Drake\n",
      "The track 'One Dance' features Drake, WizKid, Kyla\n",
      "The track 'Sneakin’' features Drake, 21 Savage\n",
      "The track 'Too Good' features Drake, Rihanna\n",
      "The track 'Controlla' features Drake\n",
      "The track 'Jumpman' features Drake, Future\n",
      "The track 'Hotline Bling' features Drake\n",
      "The track 'Still Here' features Drake\n",
      "The track 'Back To Back' features Drake\n",
      "The track 'Legend' features Drake\n"
     ]
    }
   ],
   "source": [
    "for i in dt:  # master loop # track dict to feed to staging list\n",
    "    track_master = {}  # init track dict\n",
    "    track_name = []  # init track name list\n",
    "    track_name.append(i[\"name\"])  # append track name to track name list\n",
    "\n",
    "    for track in track_name:\n",
    "        track_master[\"track\"] = track\n",
    "\n",
    "    contributors_master = {}\n",
    "    contributors = []\n",
    "    for artist in i[\"artists\"]:\n",
    "        contributors.append(artist[\"name\"])\n",
    "    for i in contributors:\n",
    "        contributors_master[\"artists\"] = contributors\n",
    "\n",
    "    for i in track_master:\n",
    "        artist_count = len(contributors_master[\"artists\"])\n",
    "        artist_pop = artist_count - 1\n",
    "        if artist_count >= 2:\n",
    "            for each in track_master:\n",
    "                collab = \", \".join(list(*(contributors_master.values())))\n",
    "                print(f\"The track '{track_master['track']}' features {collab}\")\n",
    "        else:\n",
    "            print(\n",
    "                f\"The track '{track_master['track']}' features {contributors_master['artists'].pop()}\"\n",
    "            )\n",
    "        # print(\n",
    "        #     f\"The track {track_master['track']} features {contributors_master['artists'].pop(artist_pop)}\"\n",
    "        # )"
   ]
  },
  {
   "cell_type": "code",
   "execution_count": 18,
   "metadata": {},
   "outputs": [
    {
     "name": "stdout",
     "output_type": "stream",
     "text": [
      "The track 'Fake Love' features nobody. Not even Drake.\n",
      "The track 'One Dance' features WizKid and Kyla.\n",
      "The track 'Sneakin’' features 21 Savage.\n",
      "The track 'Too Good' features Rihanna.\n",
      "The track 'Controlla' features nobody. Not even Drake.\n",
      "The track 'Jumpman' features Future.\n",
      "The track 'Hotline Bling' features nobody. Not even Drake.\n",
      "The track 'Still Here' features nobody. Not even Drake.\n",
      "The track 'Back To Back' features nobody. Not even Drake.\n",
      "The track 'Legend' features nobody. Not even Drake.\n"
     ]
    }
   ],
   "source": [
    "for i in dt:  # master loop # track dict to feed to staging list\n",
    "    track_master = {}  # init track dict\n",
    "    track_name = []  # init track name list\n",
    "    track_name.append(i[\"name\"])  # append track name to track name list\n",
    "\n",
    "    for track in track_name:\n",
    "        track_master[\"track\"] = track\n",
    "\n",
    "    contributors_master = {}\n",
    "    contributors = []\n",
    "    for artist in i[\"artists\"]:\n",
    "        contributors.append(artist[\"name\"])\n",
    "    for i in contributors:\n",
    "        contributors_master[\"artists\"] = contributors\n",
    "\n",
    "    for i in track_master:\n",
    "        contributors_master[\"artists\"] = ['' if item == 'Drake' else item for item in contributors_master[\"artists\"]]\n",
    "        artist_count = len(contributors_master[\"artists\"])\n",
    "        artist_pop = artist_count - 1\n",
    "        cma = contributors_master[\"artists\"]\n",
    "        if artist_count > 2:\n",
    "            for each in track_master:\n",
    "                print(f\"The track '{track_master['track']}' features {cma[1]} and {cma[2]}.\")\n",
    "        elif artist_count > 1:\n",
    "            for each in track_master:\n",
    "                print(f\"The track '{track_master['track']}' features {cma[1]}.\")\n",
    "        else:\n",
    "            print(\n",
    "                f\"The track '{track_master['track']}' features nobody. Not even Drake.\"\n",
    "            )"
   ]
  },
  {
   "cell_type": "code",
   "execution_count": 19,
   "metadata": {},
   "outputs": [
    {
     "ename": "KeyError",
     "evalue": "'name'",
     "output_type": "error",
     "traceback": [
      "\u001b[0;31m---------------------------------------------------------------------------\u001b[0m",
      "\u001b[0;31mKeyError\u001b[0m                                  Traceback (most recent call last)",
      "\u001b[1;32m/Users/bean/Dropbox/BKM/lede/homework/2.3.ipynb Cell 20'\u001b[0m in \u001b[0;36m<cell line: 1>\u001b[0;34m()\u001b[0m\n\u001b[1;32m     <a href='vscode-notebook-cell:/Users/bean/Dropbox/BKM/lede/homework/2.3.ipynb#ch0000019?line=11'>12</a>\u001b[0m     contributors\u001b[39m.\u001b[39mappend(artist[\u001b[39m'\u001b[39m\u001b[39mname\u001b[39m\u001b[39m'\u001b[39m])\n\u001b[1;32m     <a href='vscode-notebook-cell:/Users/bean/Dropbox/BKM/lede/homework/2.3.ipynb#ch0000019?line=13'>14</a>\u001b[0m \u001b[39mfor\u001b[39;00m i \u001b[39min\u001b[39;00m track_master:\n\u001b[0;32m---> <a href='vscode-notebook-cell:/Users/bean/Dropbox/BKM/lede/homework/2.3.ipynb#ch0000019?line=14'>15</a>\u001b[0m     \u001b[39mprint\u001b[39m(\u001b[39mf\u001b[39m\u001b[39m\"\u001b[39m\u001b[39mThe track \u001b[39m\u001b[39m{\u001b[39;00mtrack_master[\u001b[39m'\u001b[39m\u001b[39mtrack\u001b[39m\u001b[39m'\u001b[39m]\u001b[39m}\u001b[39;00m\u001b[39m features \u001b[39m\u001b[39m{\u001b[39;00mcontributors_master[\u001b[39m'\u001b[39m\u001b[39mname\u001b[39m\u001b[39m'\u001b[39m]\u001b[39m}\u001b[39;00m\u001b[39m\"\u001b[39m)\n",
      "\u001b[0;31mKeyError\u001b[0m: 'name'"
     ]
    }
   ],
   "source": [
    "for i in dt:  # master loop # track dict to feed to staging list\n",
    "    track_master = {}  # init track dict\n",
    "    track_name = []  # init track name list\n",
    "    track_name.append(i['name'])  # append track name to track name list\n",
    "    \n",
    "    for track in track_name: \n",
    "        track_master['track'] = track\n",
    "    \n",
    "    contributors_master = {}\n",
    "    contributors = []\n",
    "    for artist in i['artists']:\n",
    "        contributors.append(artist['name'])\n",
    "    \n",
    "    for i in track_master:\n",
    "        print(f\"The track {track_master['track']} features {contributors_master['name']}\")"
   ]
  },
  {
   "cell_type": "code",
   "execution_count": 35,
   "metadata": {},
   "outputs": [
    {
     "ename": "TypeError",
     "evalue": "list indices must be integers or slices, not str",
     "output_type": "error",
     "traceback": [
      "\u001b[0;31m---------------------------------------------------------------------------\u001b[0m",
      "\u001b[0;31mTypeError\u001b[0m                                 Traceback (most recent call last)",
      "\u001b[1;32m/Users/bean/Dropbox/BKM/lede/homework/2.3.ipynb Cell 21'\u001b[0m in \u001b[0;36m<cell line: 4>\u001b[0;34m()\u001b[0m\n\u001b[1;32m      <a href='vscode-notebook-cell:/Users/bean/Dropbox/BKM/lede/homework/2.3.ipynb#ch0000020?line=1'>2</a>\u001b[0m tracks \u001b[39m=\u001b[39m []\n\u001b[1;32m      <a href='vscode-notebook-cell:/Users/bean/Dropbox/BKM/lede/homework/2.3.ipynb#ch0000020?line=2'>3</a>\u001b[0m popularity \u001b[39m=\u001b[39m []\n\u001b[0;32m----> <a href='vscode-notebook-cell:/Users/bean/Dropbox/BKM/lede/homework/2.3.ipynb#ch0000020?line=3'>4</a>\u001b[0m \u001b[39mprint\u001b[39m(dt[\u001b[39m'\u001b[39;49m\u001b[39mtrack\u001b[39;49m\u001b[39m'\u001b[39;49m])\n\u001b[1;32m      <a href='vscode-notebook-cell:/Users/bean/Dropbox/BKM/lede/homework/2.3.ipynb#ch0000020?line=4'>5</a>\u001b[0m \u001b[39mfor\u001b[39;00m track \u001b[39min\u001b[39;00m dt:\n\u001b[1;32m      <a href='vscode-notebook-cell:/Users/bean/Dropbox/BKM/lede/homework/2.3.ipynb#ch0000020?line=5'>6</a>\u001b[0m     tracks\u001b[39m.\u001b[39mappend(i[\u001b[39m'\u001b[39m\u001b[39mtrack\u001b[39m\u001b[39m'\u001b[39m])\n",
      "\u001b[0;31mTypeError\u001b[0m: list indices must be integers or slices, not str"
     ]
    }
   ],
   "source": [
    "sorter = {}\n",
    "tracks = []\n",
    "popularity = []\n",
    "print(dt['track'])\n",
    "for track in dt:\n",
    "    tracks.append(i['track'])\n",
    "    popularity.append(i['popularity'])\n",
    "print(track)\n",
    "print(popularity)\n"
   ]
  },
  {
   "cell_type": "code",
   "execution_count": 63,
   "metadata": {},
   "outputs": [
    {
     "name": "stdout",
     "output_type": "stream",
     "text": [
      "The most popular song is Fake Love, which had a popularity score of 90 on an arbitrary scale.\n"
     ]
    }
   ],
   "source": [
    "popularity = []\n",
    "name = []\n",
    "sorter = {}\n",
    "for song in dt:\n",
    "    popularity.append(song[\"popularity\"])\n",
    "    name.append(song[\"name\"])\n",
    "sorter = zip(name, popularity)\n",
    "sorter = dict(sorter)\n",
    "score = sorter.values()\n",
    "highest_score = max(score)\n",
    "most_popular = [k for k, v in sorter.items() if v == 90]\n",
    "\n",
    "print(\n",
    "    f\"The most popular song is '{most_popular[0]}', which had a popularity score of {highest_score} on a completely arbitrary scale.\"\n",
    ")"
   ]
  },
  {
   "cell_type": "code",
   "execution_count": 39,
   "metadata": {},
   "outputs": [
    {
     "name": "stdout",
     "output_type": "stream",
     "text": [
      "Legend: 72\n"
     ]
    }
   ],
   "source": [
    "print(f\"{i['name']}: {i['popularity']}\")"
   ]
  },
  {
   "cell_type": "code",
   "execution_count": 66,
   "metadata": {},
   "outputs": [
    {
     "ename": "TypeError",
     "evalue": "list indices must be integers or slices, not str",
     "output_type": "error",
     "traceback": [
      "\u001b[0;31m---------------------------------------------------------------------------\u001b[0m",
      "\u001b[0;31mTypeError\u001b[0m                                 Traceback (most recent call last)",
      "\u001b[1;32m/Users/bean/Dropbox/BKM/lede/homework/2.3.ipynb Cell 24'\u001b[0m in \u001b[0;36m<cell line: 2>\u001b[0;34m()\u001b[0m\n\u001b[1;32m      <a href='vscode-notebook-cell:/Users/bean/Dropbox/BKM/lede/homework/2.3.ipynb#ch0000023?line=0'>1</a>\u001b[0m lazy \u001b[39m=\u001b[39m []\n\u001b[1;32m      <a href='vscode-notebook-cell:/Users/bean/Dropbox/BKM/lede/homework/2.3.ipynb#ch0000023?line=1'>2</a>\u001b[0m \u001b[39mfor\u001b[39;00m song \u001b[39min\u001b[39;00m dt:\n\u001b[0;32m----> <a href='vscode-notebook-cell:/Users/bean/Dropbox/BKM/lede/homework/2.3.ipynb#ch0000023?line=2'>3</a>\u001b[0m     \u001b[39mprint\u001b[39m(dt[\u001b[39m'\u001b[39;49m\u001b[39msong\u001b[39;49m\u001b[39m'\u001b[39;49m])\n",
      "\u001b[0;31mTypeError\u001b[0m: list indices must be integers or slices, not str"
     ]
    }
   ],
   "source": []
  },
  {
   "cell_type": "code",
   "execution_count": 69,
   "metadata": {},
   "outputs": [
    {
     "ename": "KeyError",
     "evalue": "'album_type'",
     "output_type": "error",
     "traceback": [
      "\u001b[0;31m---------------------------------------------------------------------------\u001b[0m",
      "\u001b[0;31mKeyError\u001b[0m                                  Traceback (most recent call last)",
      "\u001b[1;32m/Users/bean/Dropbox/BKM/lede/homework/2.3.ipynb Cell 25'\u001b[0m in \u001b[0;36m<cell line: 3>\u001b[0;34m()\u001b[0m\n\u001b[1;32m      <a href='vscode-notebook-cell:/Users/bean/Dropbox/BKM/lede/homework/2.3.ipynb#ch0000024?line=1'>2</a>\u001b[0m single \u001b[39m=\u001b[39m \u001b[39m0\u001b[39m\n\u001b[1;32m      <a href='vscode-notebook-cell:/Users/bean/Dropbox/BKM/lede/homework/2.3.ipynb#ch0000024?line=2'>3</a>\u001b[0m \u001b[39mfor\u001b[39;00m song \u001b[39min\u001b[39;00m dt:\n\u001b[0;32m----> <a href='vscode-notebook-cell:/Users/bean/Dropbox/BKM/lede/homework/2.3.ipynb#ch0000024?line=3'>4</a>\u001b[0m     \u001b[39mif\u001b[39;00m song[\u001b[39m'\u001b[39;49m\u001b[39malbum_type\u001b[39;49m\u001b[39m'\u001b[39;49m] \u001b[39m==\u001b[39m \u001b[39m'\u001b[39m\u001b[39malbum\u001b[39m\u001b[39m'\u001b[39m:\n\u001b[1;32m      <a href='vscode-notebook-cell:/Users/bean/Dropbox/BKM/lede/homework/2.3.ipynb#ch0000024?line=4'>5</a>\u001b[0m         album \u001b[39m+\u001b[39m\u001b[39m=\u001b[39m \u001b[39m1\u001b[39m\n\u001b[1;32m      <a href='vscode-notebook-cell:/Users/bean/Dropbox/BKM/lede/homework/2.3.ipynb#ch0000024?line=5'>6</a>\u001b[0m \u001b[39mprint\u001b[39m(album)\n",
      "\u001b[0;31mKeyError\u001b[0m: 'album_type'"
     ]
    }
   ],
   "source": [
    "album = 0\n",
    "single = 0\n",
    "for song in dt:\n",
    "    if song['album_type'] == 'album':\n",
    "        album += 1\n",
    "print(album)"
   ]
  },
  {
   "cell_type": "code",
   "execution_count": 108,
   "metadata": {},
   "outputs": [
    {
     "name": "stdout",
     "output_type": "stream",
     "text": [
      "0\n"
     ]
    }
   ],
   "source": [
    "single = 0\n",
    "for song in dt:\n",
    "    if song['album'] == 'album':\n",
    "        single += 1\n",
    "print(single)"
   ]
  },
  {
   "cell_type": "code",
   "execution_count": 172,
   "metadata": {},
   "outputs": [
    {
     "name": "stdout",
     "output_type": "stream",
     "text": [
      "<class 'dict_keys'>\n"
     ]
    }
   ],
   "source": [
    "print(type(dt[0].keys()))"
   ]
  },
  {
   "cell_type": "code",
   "execution_count": 189,
   "metadata": {},
   "outputs": [
    {
     "name": "stdout",
     "output_type": "stream",
     "text": [
      "{'tracks': [{'album': 'uri', 'artists': [{'external_urls': {'spotify': 'https://open.spotify.com/artist/3TVXtAsR1Inumwj472S9r4'}, 'href': 'https://api.spotify.com/v1/artists/3TVXtAsR1Inumwj472S9r4', 'id': '3TVXtAsR1Inumwj472S9r4', 'name': 'Drake', 'type': 'artist', 'uri': 'spotify:artist:3TVXtAsR1Inumwj472S9r4'}], 'available_markets': ['CA', 'MX', 'US'], 'disc_number': 1, 'duration_ms': 207813, 'explicit': True, 'external_ids': {'isrc': 'USCM51600333'}, 'external_urls': {'spotify': 'https://open.spotify.com/track/6NMNgWgEAzde5M8U3lc6FN'}, 'href': 'https://api.spotify.com/v1/tracks/6NMNgWgEAzde5M8U3lc6FN', 'id': '6NMNgWgEAzde5M8U3lc6FN', 'name': 'Fake Love', 'popularity': 90, 'preview_url': 'https://p.scdn.co/mp3-preview/b1c79b52128cc45a962cb87ba5a616ea6a435356?cid=null', 'track_number': 1, 'type': 'track', 'uri': 'spotify:track:6NMNgWgEAzde5M8U3lc6FN'}, {'album': 'uri', 'artists': [{'external_urls': {'spotify': 'https://open.spotify.com/artist/3TVXtAsR1Inumwj472S9r4'}, 'href': 'https://api.spotify.com/v1/artists/3TVXtAsR1Inumwj472S9r4', 'id': '3TVXtAsR1Inumwj472S9r4', 'name': 'Drake', 'type': 'artist', 'uri': 'spotify:artist:3TVXtAsR1Inumwj472S9r4'}, {'external_urls': {'spotify': 'https://open.spotify.com/artist/3tVQdUvClmAT7URs9V3rsp'}, 'href': 'https://api.spotify.com/v1/artists/3tVQdUvClmAT7URs9V3rsp', 'id': '3tVQdUvClmAT7URs9V3rsp', 'name': 'WizKid', 'type': 'artist', 'uri': 'spotify:artist:3tVQdUvClmAT7URs9V3rsp'}, {'external_urls': {'spotify': 'https://open.spotify.com/artist/77DAFfvm3O9zT5dIoG0eIO'}, 'href': 'https://api.spotify.com/v1/artists/77DAFfvm3O9zT5dIoG0eIO', 'id': '77DAFfvm3O9zT5dIoG0eIO', 'name': 'Kyla', 'type': 'artist', 'uri': 'spotify:artist:77DAFfvm3O9zT5dIoG0eIO'}], 'available_markets': ['CA', 'MX', 'US'], 'disc_number': 1, 'duration_ms': 173986, 'explicit': False, 'external_ids': {'isrc': 'USCM51600028'}, 'external_urls': {'spotify': 'https://open.spotify.com/track/12VWzyPDBCc8fqeWCAfNwR'}, 'href': 'https://api.spotify.com/v1/tracks/12VWzyPDBCc8fqeWCAfNwR', 'id': '12VWzyPDBCc8fqeWCAfNwR', 'name': 'One Dance', 'popularity': 84, 'preview_url': 'https://p.scdn.co/mp3-preview/98f60b086bb1da2ca2e4c217331b8c8cc801358d?cid=null', 'track_number': 12, 'type': 'track', 'uri': 'spotify:track:12VWzyPDBCc8fqeWCAfNwR'}, {'album': 'uri', 'artists': [{'external_urls': {'spotify': 'https://open.spotify.com/artist/3TVXtAsR1Inumwj472S9r4'}, 'href': 'https://api.spotify.com/v1/artists/3TVXtAsR1Inumwj472S9r4', 'id': '3TVXtAsR1Inumwj472S9r4', 'name': 'Drake', 'type': 'artist', 'uri': 'spotify:artist:3TVXtAsR1Inumwj472S9r4'}, {'external_urls': {'spotify': 'https://open.spotify.com/artist/1URnnhqYAYcrqrcwql10ft'}, 'href': 'https://api.spotify.com/v1/artists/1URnnhqYAYcrqrcwql10ft', 'id': '1URnnhqYAYcrqrcwql10ft', 'name': '21 Savage', 'type': 'artist', 'uri': 'spotify:artist:1URnnhqYAYcrqrcwql10ft'}], 'available_markets': ['CA', 'MX', 'US'], 'disc_number': 1, 'duration_ms': 251333, 'explicit': True, 'external_ids': {'isrc': 'USCM51600337'}, 'external_urls': {'spotify': 'https://open.spotify.com/track/4ckuS4Nj4FZ7i3Def3Br8W'}, 'href': 'https://api.spotify.com/v1/tracks/4ckuS4Nj4FZ7i3Def3Br8W', 'id': '4ckuS4Nj4FZ7i3Def3Br8W', 'name': 'Sneakin’', 'popularity': 82, 'preview_url': 'https://p.scdn.co/mp3-preview/4fa89ace286252c33a1ca0d36e7555d6a451a2db?cid=null', 'track_number': 1, 'type': 'track', 'uri': 'spotify:track:4ckuS4Nj4FZ7i3Def3Br8W'}, {'album': 'uri', 'artists': [{'external_urls': {'spotify': 'https://open.spotify.com/artist/3TVXtAsR1Inumwj472S9r4'}, 'href': 'https://api.spotify.com/v1/artists/3TVXtAsR1Inumwj472S9r4', 'id': '3TVXtAsR1Inumwj472S9r4', 'name': 'Drake', 'type': 'artist', 'uri': 'spotify:artist:3TVXtAsR1Inumwj472S9r4'}, {'external_urls': {'spotify': 'https://open.spotify.com/artist/5pKCCKE2ajJHZ9KAiaK11H'}, 'href': 'https://api.spotify.com/v1/artists/5pKCCKE2ajJHZ9KAiaK11H', 'id': '5pKCCKE2ajJHZ9KAiaK11H', 'name': 'Rihanna', 'type': 'artist', 'uri': 'spotify:artist:5pKCCKE2ajJHZ9KAiaK11H'}], 'available_markets': ['CA', 'MX', 'US'], 'disc_number': 1, 'duration_ms': 263373, 'explicit': True, 'external_ids': {'isrc': 'USCM51600088'}, 'external_urls': {'spotify': 'https://open.spotify.com/track/7fJtPlEZKxu6gvkfBFc5tW'}, 'href': 'https://api.spotify.com/v1/tracks/7fJtPlEZKxu6gvkfBFc5tW', 'id': '7fJtPlEZKxu6gvkfBFc5tW', 'name': 'Too Good', 'popularity': 79, 'preview_url': 'https://p.scdn.co/mp3-preview/e702c76de627c3fb04da1bcbf6a8b53c3326a0cc?cid=null', 'track_number': 16, 'type': 'track', 'uri': 'spotify:track:7fJtPlEZKxu6gvkfBFc5tW'}, {'album': 'uri', 'artists': [{'external_urls': {'spotify': 'https://open.spotify.com/artist/3TVXtAsR1Inumwj472S9r4'}, 'href': 'https://api.spotify.com/v1/artists/3TVXtAsR1Inumwj472S9r4', 'id': '3TVXtAsR1Inumwj472S9r4', 'name': 'Drake', 'type': 'artist', 'uri': 'spotify:artist:3TVXtAsR1Inumwj472S9r4'}], 'available_markets': ['CA', 'MX', 'US'], 'disc_number': 1, 'duration_ms': 245226, 'explicit': True, 'external_ids': {'isrc': 'USCM51600080'}, 'external_urls': {'spotify': 'https://open.spotify.com/track/4CpKEkdGbOJV51cSvx7SoG'}, 'href': 'https://api.spotify.com/v1/tracks/4CpKEkdGbOJV51cSvx7SoG', 'id': '4CpKEkdGbOJV51cSvx7SoG', 'name': 'Controlla', 'popularity': 79, 'preview_url': 'https://p.scdn.co/mp3-preview/c5b5845dc83410f5731e395c5a725d6b6e94ff69?cid=null', 'track_number': 11, 'type': 'track', 'uri': 'spotify:track:4CpKEkdGbOJV51cSvx7SoG'}, {'album': 'uri', 'artists': [{'external_urls': {'spotify': 'https://open.spotify.com/artist/3TVXtAsR1Inumwj472S9r4'}, 'href': 'https://api.spotify.com/v1/artists/3TVXtAsR1Inumwj472S9r4', 'id': '3TVXtAsR1Inumwj472S9r4', 'name': 'Drake', 'type': 'artist', 'uri': 'spotify:artist:3TVXtAsR1Inumwj472S9r4'}, {'external_urls': {'spotify': 'https://open.spotify.com/artist/3ubFn9991d8ygM3MSi7NDi'}, 'href': 'https://api.spotify.com/v1/artists/3ubFn9991d8ygM3MSi7NDi', 'id': '3ubFn9991d8ygM3MSi7NDi', 'name': 'Future', 'type': 'artist', 'uri': 'spotify:artist:3ubFn9991d8ygM3MSi7NDi'}], 'available_markets': ['CA', 'MX', 'US'], 'disc_number': 1, 'duration_ms': 205879, 'explicit': True, 'external_ids': {'isrc': 'USCM51500300'}, 'external_urls': {'spotify': 'https://open.spotify.com/track/27GmP9AWRs744SzKcpJsTZ'}, 'href': 'https://api.spotify.com/v1/tracks/27GmP9AWRs744SzKcpJsTZ', 'id': '27GmP9AWRs744SzKcpJsTZ', 'name': 'Jumpman', 'popularity': 77, 'preview_url': 'https://p.scdn.co/mp3-preview/4f3e954bb232a96c196389017d961016c8cbd7fc?cid=null', 'track_number': 9, 'type': 'track', 'uri': 'spotify:track:27GmP9AWRs744SzKcpJsTZ'}, {'album': 'uri', 'artists': [{'external_urls': {'spotify': 'https://open.spotify.com/artist/3TVXtAsR1Inumwj472S9r4'}, 'href': 'https://api.spotify.com/v1/artists/3TVXtAsR1Inumwj472S9r4', 'id': '3TVXtAsR1Inumwj472S9r4', 'name': 'Drake', 'type': 'artist', 'uri': 'spotify:artist:3TVXtAsR1Inumwj472S9r4'}], 'available_markets': ['CA', 'MX', 'US'], 'disc_number': 1, 'duration_ms': 267066, 'explicit': False, 'external_ids': {'isrc': 'USCM51500238'}, 'external_urls': {'spotify': 'https://open.spotify.com/track/1OAYKfE0YdrN7C1yLWaLJo'}, 'href': 'https://api.spotify.com/v1/tracks/1OAYKfE0YdrN7C1yLWaLJo', 'id': '1OAYKfE0YdrN7C1yLWaLJo', 'name': 'Hotline Bling', 'popularity': 75, 'preview_url': 'https://p.scdn.co/mp3-preview/53a8f039eb0b567e47868f5a53de4683ba5d5f0c?cid=null', 'track_number': 20, 'type': 'track', 'uri': 'spotify:track:1OAYKfE0YdrN7C1yLWaLJo'}, {'album': 'uri', 'artists': [{'external_urls': {'spotify': 'https://open.spotify.com/artist/3TVXtAsR1Inumwj472S9r4'}, 'href': 'https://api.spotify.com/v1/artists/3TVXtAsR1Inumwj472S9r4', 'id': '3TVXtAsR1Inumwj472S9r4', 'name': 'Drake', 'type': 'artist', 'uri': 'spotify:artist:3TVXtAsR1Inumwj472S9r4'}], 'available_markets': ['CA', 'MX', 'US'], 'disc_number': 1, 'duration_ms': 189853, 'explicit': True, 'external_ids': {'isrc': 'USCM51600078'}, 'external_urls': {'spotify': 'https://open.spotify.com/track/4YJmZfvlheSziXem8HBWrj'}, 'href': 'https://api.spotify.com/v1/tracks/4YJmZfvlheSziXem8HBWrj', 'id': '4YJmZfvlheSziXem8HBWrj', 'name': 'Still Here', 'popularity': 73, 'preview_url': 'https://p.scdn.co/mp3-preview/39384d3485d21184dd3719cfd8d644182b0b1d8b?cid=null', 'track_number': 10, 'type': 'track', 'uri': 'spotify:track:4YJmZfvlheSziXem8HBWrj'}, {'album': 'uri', 'artists': [{'external_urls': {'spotify': 'https://open.spotify.com/artist/3TVXtAsR1Inumwj472S9r4'}, 'href': 'https://api.spotify.com/v1/artists/3TVXtAsR1Inumwj472S9r4', 'id': '3TVXtAsR1Inumwj472S9r4', 'name': 'Drake', 'type': 'artist', 'uri': 'spotify:artist:3TVXtAsR1Inumwj472S9r4'}], 'available_markets': ['CA', 'MX', 'US'], 'disc_number': 1, 'duration_ms': 170637, 'explicit': True, 'external_ids': {'isrc': 'USCM51500241'}, 'external_urls': {'spotify': 'https://open.spotify.com/track/5lFDtgWsjRJu8fPOAyJIAK'}, 'href': 'https://api.spotify.com/v1/tracks/5lFDtgWsjRJu8fPOAyJIAK', 'id': '5lFDtgWsjRJu8fPOAyJIAK', 'name': 'Back To Back', 'popularity': 73, 'preview_url': 'https://p.scdn.co/mp3-preview/b5bb11586af5cfde7c0eaef26300b2f6f62d2ac4?cid=null', 'track_number': 1, 'type': 'track', 'uri': 'spotify:track:5lFDtgWsjRJu8fPOAyJIAK'}, {'album': 'uri', 'artists': [{'external_urls': {'spotify': 'https://open.spotify.com/artist/3TVXtAsR1Inumwj472S9r4'}, 'href': 'https://api.spotify.com/v1/artists/3TVXtAsR1Inumwj472S9r4', 'id': '3TVXtAsR1Inumwj472S9r4', 'name': 'Drake', 'type': 'artist', 'uri': 'spotify:artist:3TVXtAsR1Inumwj472S9r4'}], 'available_markets': ['CA', 'MX', 'US'], 'disc_number': 1, 'duration_ms': 241853, 'explicit': True, 'external_ids': {'isrc': 'USCM51500010'}, 'external_urls': {'spotify': 'https://open.spotify.com/track/1ID1QFSNNxi0hiZCNcwjUC'}, 'href': 'https://api.spotify.com/v1/tracks/1ID1QFSNNxi0hiZCNcwjUC', 'id': '1ID1QFSNNxi0hiZCNcwjUC', 'name': 'Legend', 'popularity': 72, 'preview_url': 'https://p.scdn.co/mp3-preview/34fe00d7d951e42017bbbd8a424244c3cf1006e1?cid=null', 'track_number': 1, 'type': 'track', 'uri': 'spotify:track:1ID1QFSNNxi0hiZCNcwjUC'}]}\n"
     ]
    }
   ],
   "source": [
    "print(data)"
   ]
  },
  {
   "cell_type": "code",
   "execution_count": 186,
   "metadata": {},
   "outputs": [
    {
     "name": "stdout",
     "output_type": "stream",
     "text": [
      "{'album': 'uri', 'artists': [{'external_urls': {'spotify': 'https://open.spotify.com/artist/3TVXtAsR1Inumwj472S9r4'}, 'href': 'https://api.spotify.com/v1/artists/3TVXtAsR1Inumwj472S9r4', 'id': '3TVXtAsR1Inumwj472S9r4', 'name': 'Drake', 'type': 'artist', 'uri': 'spotify:artist:3TVXtAsR1Inumwj472S9r4'}], 'available_markets': ['CA', 'MX', 'US'], 'disc_number': 1, 'duration_ms': 241853, 'explicit': True, 'external_ids': {'isrc': 'USCM51500010'}, 'external_urls': {'spotify': 'https://open.spotify.com/track/1ID1QFSNNxi0hiZCNcwjUC'}, 'href': 'https://api.spotify.com/v1/tracks/1ID1QFSNNxi0hiZCNcwjUC', 'id': '1ID1QFSNNxi0hiZCNcwjUC', 'name': 'Legend', 'popularity': 72, 'preview_url': 'https://p.scdn.co/mp3-preview/34fe00d7d951e42017bbbd8a424244c3cf1006e1?cid=null', 'track_number': 1, 'type': 'track', 'uri': 'spotify:track:1ID1QFSNNxi0hiZCNcwjUC'}\n"
     ]
    }
   ],
   "source": [
    "print(data['tracks'][-1])"
   ]
  },
  {
   "cell_type": "code",
   "execution_count": 317,
   "metadata": {},
   "outputs": [
    {
     "ename": "TypeError",
     "evalue": "string indices must be integers",
     "output_type": "error",
     "traceback": [
      "\u001b[0;31m---------------------------------------------------------------------------\u001b[0m",
      "\u001b[0;31mTypeError\u001b[0m                                 Traceback (most recent call last)",
      "\u001b[1;32m/Users/bean/Dropbox/BKM/lede/homework/2.3.ipynb Cell 30'\u001b[0m in \u001b[0;36m<cell line: 4>\u001b[0;34m()\u001b[0m\n\u001b[1;32m      <a href='vscode-notebook-cell:/Users/bean/Dropbox/BKM/lede/homework/2.3.ipynb#ch0000030?line=2'>3</a>\u001b[0m iter_track \u001b[39m=\u001b[39m [\u001b[39m0\u001b[39m]\n\u001b[1;32m      <a href='vscode-notebook-cell:/Users/bean/Dropbox/BKM/lede/homework/2.3.ipynb#ch0000030?line=3'>4</a>\u001b[0m \u001b[39mfor\u001b[39;00m i \u001b[39min\u001b[39;00m dt:\n\u001b[0;32m----> <a href='vscode-notebook-cell:/Users/bean/Dropbox/BKM/lede/homework/2.3.ipynb#ch0000030?line=4'>5</a>\u001b[0m     \u001b[39mif\u001b[39;00m album[\u001b[39m'\u001b[39;49m\u001b[39malbum_type\u001b[39;49m\u001b[39m'\u001b[39;49m] \u001b[39m==\u001b[39m \u001b[39m'\u001b[39m\u001b[39msingle\u001b[39m\u001b[39m'\u001b[39m:\n\u001b[1;32m      <a href='vscode-notebook-cell:/Users/bean/Dropbox/BKM/lede/homework/2.3.ipynb#ch0000030?line=5'>6</a>\u001b[0m         single_count \u001b[39m+\u001b[39m\u001b[39m=\u001b[39m \u001b[39m1\u001b[39m\n\u001b[1;32m      <a href='vscode-notebook-cell:/Users/bean/Dropbox/BKM/lede/homework/2.3.ipynb#ch0000030?line=6'>7</a>\u001b[0m     \u001b[39melse\u001b[39;00m:\n",
      "\u001b[0;31mTypeError\u001b[0m: string indices must be integers"
     ]
    }
   ],
   "source": [
    "album_count = 0\n",
    "single_count = 0\n",
    "iter_track = [0]\n",
    "for i in dt:\n",
    "    if album['album_type'] == 'single':\n",
    "        single_count += 1\n",
    "    else:\n",
    "        album_count += 1\n",
    "    iter_track += 1\n",
    "print(album_count)\n",
    "print(single_count)"
   ]
  },
  {
   "cell_type": "code",
   "execution_count": 321,
   "metadata": {},
   "outputs": [
    {
     "ename": "TypeError",
     "evalue": "string indices must be integers",
     "output_type": "error",
     "traceback": [
      "\u001b[0;31m---------------------------------------------------------------------------\u001b[0m",
      "\u001b[0;31mTypeError\u001b[0m                                 Traceback (most recent call last)",
      "\u001b[1;32m/Users/bean/Dropbox/BKM/lede/homework/2.3.ipynb Cell 31'\u001b[0m in \u001b[0;36m<cell line: 1>\u001b[0;34m()\u001b[0m\n\u001b[1;32m      <a href='vscode-notebook-cell:/Users/bean/Dropbox/BKM/lede/homework/2.3.ipynb#ch0000031?line=1'>2</a>\u001b[0m albums \u001b[39m=\u001b[39m []\n\u001b[1;32m      <a href='vscode-notebook-cell:/Users/bean/Dropbox/BKM/lede/homework/2.3.ipynb#ch0000031?line=2'>3</a>\u001b[0m singles \u001b[39m=\u001b[39m []\n\u001b[0;32m----> <a href='vscode-notebook-cell:/Users/bean/Dropbox/BKM/lede/homework/2.3.ipynb#ch0000031?line=3'>4</a>\u001b[0m \u001b[39mif\u001b[39;00m album[\u001b[39m'\u001b[39;49m\u001b[39malbum_type\u001b[39;49m\u001b[39m'\u001b[39;49m] \u001b[39m==\u001b[39m \u001b[39m'\u001b[39m\u001b[39msingle\u001b[39m\u001b[39m'\u001b[39m:\n\u001b[1;32m      <a href='vscode-notebook-cell:/Users/bean/Dropbox/BKM/lede/homework/2.3.ipynb#ch0000031?line=4'>5</a>\u001b[0m     singles\u001b[39m.\u001b[39mappend(\u001b[39m'\u001b[39m\u001b[39myup\u001b[39m\u001b[39m'\u001b[39m)\n\u001b[1;32m      <a href='vscode-notebook-cell:/Users/bean/Dropbox/BKM/lede/homework/2.3.ipynb#ch0000031?line=5'>6</a>\u001b[0m \u001b[39melse\u001b[39;00m:\n",
      "\u001b[0;31mTypeError\u001b[0m: string indices must be integers"
     ]
    }
   ],
   "source": [
    "for i in dt:\n",
    "    albums = []\n",
    "    singles = []\n",
    "    if album['album_type'] == 'single':\n",
    "        singles.append('yup')\n",
    "    else:\n",
    "        albums.append('yup')"
   ]
  },
  {
   "cell_type": "code",
   "execution_count": 246,
   "metadata": {},
   "outputs": [
    {
     "name": "stdout",
     "output_type": "stream",
     "text": [
      "<class 'list'>\n"
     ]
    }
   ],
   "source": [
    "print(type(dt))"
   ]
  },
  {
   "cell_type": "code",
   "execution_count": null,
   "metadata": {},
   "outputs": [],
   "source": []
  },
  {
   "cell_type": "code",
   "execution_count": 339,
   "metadata": {},
   "outputs": [
    {
     "name": "stdout",
     "output_type": "stream",
     "text": [
      "Of the tracks from this mess, 7 are from albums and 3 are singles.\n"
     ]
    }
   ],
   "source": [
    "song = 0\n",
    "albums = []\n",
    "singles = []\n",
    "while song < 10:\n",
    "    if data[\"tracks\"][song][\"album\"][\"album_type\"] == \"single\":\n",
    "        singles.append(song)\n",
    "        song += 1\n",
    "    else:\n",
    "        albums.append(song)\n",
    "        song += 1\n",
    "\n",
    "print(\n",
    "    f\"Of the tracks from this mess, {len(albums)} are from albums and {len(singles)} are singles.\"\n",
    ")"
   ]
  },
  {
   "cell_type": "code",
   "execution_count": 329,
   "metadata": {},
   "outputs": [
    {
     "name": "stdout",
     "output_type": "stream",
     "text": [
      "10\n"
     ]
    }
   ],
   "source": [
    "print(len(dt))"
   ]
  },
  {
   "cell_type": "code",
   "execution_count": 347,
   "metadata": {},
   "outputs": [
    {
     "name": "stdout",
     "output_type": "stream",
     "text": [
      "Of the tracks from this mess, 8 are labeled as 'explicit' and 2 are not labeled as 'explicit'. If my calculations are correct, then 80% of the tracks are labeled as 'explicit.\n"
     ]
    }
   ],
   "source": [
    "song = 0\n",
    "explicit = []\n",
    "disney = []\n",
    "while song < 10:\n",
    "    if data[\"tracks\"][song]['explicit'] == True:\n",
    "        explicit.append(song)\n",
    "        song += 1\n",
    "    else:\n",
    "        disney.append(song)\n",
    "        song += 1\n",
    "\n",
    "print(\n",
    "    f\"Of the tracks from this mess, {len(explicit)} are labeled as 'explicit' and {len(disney)} are not labeled as 'explicit'. If my calculations are correct, then {int(len(explicit) / song * 100)}% of the tracks are labeled as 'explicit.\"\n",
    ")"
   ]
  },
  {
   "cell_type": "code",
   "execution_count": 389,
   "metadata": {},
   "outputs": [
    {
     "name": "stdout",
     "output_type": "stream",
     "text": [
      "You can listen to Fake Love at the following url:\n",
      "https://api.spotify.com/v1/tracks/6NMNgWgEAzde5M8U3lc6FN\n",
      "You can listen to One Dance at the following url:\n",
      "https://api.spotify.com/v1/tracks/12VWzyPDBCc8fqeWCAfNwR\n",
      "You can listen to Sneakin’ at the following url:\n",
      "https://api.spotify.com/v1/tracks/4ckuS4Nj4FZ7i3Def3Br8W\n",
      "You can listen to Too Good at the following url:\n",
      "https://api.spotify.com/v1/tracks/7fJtPlEZKxu6gvkfBFc5tW\n",
      "You can listen to Controlla at the following url:\n",
      "https://api.spotify.com/v1/tracks/4CpKEkdGbOJV51cSvx7SoG\n",
      "You can listen to Jumpman at the following url:\n",
      "https://api.spotify.com/v1/tracks/27GmP9AWRs744SzKcpJsTZ\n",
      "You can listen to Hotline Bling at the following url:\n",
      "https://api.spotify.com/v1/tracks/1OAYKfE0YdrN7C1yLWaLJo\n",
      "You can listen to Still Here at the following url:\n",
      "https://api.spotify.com/v1/tracks/4YJmZfvlheSziXem8HBWrj\n",
      "You can listen to Back To Back at the following url:\n",
      "https://api.spotify.com/v1/tracks/5lFDtgWsjRJu8fPOAyJIAK\n",
      "You can listen to Legend at the following url:\n",
      "https://api.spotify.com/v1/tracks/1ID1QFSNNxi0hiZCNcwjUC\n"
     ]
    }
   ],
   "source": [
    "jam = 0\n",
    "links = []\n",
    "while jam < 10:\n",
    "    for song in dt:\n",
    "        links.append(dt[jam]['href'])\n",
    "        jam += 1\n",
    "\n",
    "for url in range(len(dt)):\n",
    "    print(\n",
    "        f\"You can listen to {dt[url]['name']} at the following url:\\n{links[url]}\\n\"\n",
    "    )\n"
   ]
  },
  {
   "cell_type": "code",
   "execution_count": 372,
   "metadata": {},
   "outputs": [
    {
     "name": "stdout",
     "output_type": "stream",
     "text": [
      "https://api.spotify.com/v1/tracks/7fJtPlEZKxu6gvkfBFc5tW\n"
     ]
    }
   ],
   "source": [
    "thing = 3\n",
    "print(dt[thing]['href'])"
   ]
  },
  {
   "cell_type": "code",
   "execution_count": null,
   "metadata": {},
   "outputs": [],
   "source": []
  }
 ],
 "metadata": {
  "interpreter": {
   "hash": "10626171d4353dd8d0f12b0dae77464b904fee8f635bb045a55f368206a04bde"
  },
  "kernelspec": {
   "display_name": "Python 3.10.3 64-bit ('3.10.3')",
   "language": "python",
   "name": "python3"
  },
  "language_info": {
   "codemirror_mode": {
    "name": "ipython",
    "version": 3
   },
   "file_extension": ".py",
   "mimetype": "text/x-python",
   "name": "python",
   "nbconvert_exporter": "python",
   "pygments_lexer": "ipython3",
   "version": "3.10.3"
  },
  "orig_nbformat": 4
 },
 "nbformat": 4,
 "nbformat_minor": 2
}
