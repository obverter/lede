{
 "cells": [
  {
   "cell_type": "code",
   "execution_count": 60,
   "metadata": {},
   "outputs": [
    {
     "name": "stdout",
     "output_type": "stream",
     "text": [
      "Let's create a dictionary called 'tree' that responds to a set of tree-related keys:\n",
      "\n",
      "{'name': None, 'species': None, 'age': None, 'location_name': None, 'latitude': None, 'longitude': None}\n",
      "\n",
      "That's boring. Let's cram the world's largest tree into this empty dictionary:\n",
      "\n",
      "{'name': 'Hyperion', 'species': 'coast redwood', 'age': '750', 'location_name': 'Redwood National Park', 'latitude': '41.3', 'longitude': '-124'}\n",
      "Hyperion is a 750-year-old tree that is in Redwood National Park.\n",
      "\n",
      "Hyperion in Redwood National Park is north of NYC.\n",
      "\n",
      "Okay, let me crunch the numbers...\n",
      "\n",
      "CALCULATING...\n",
      "\n",
      "CALCULATING...\n",
      "\n",
      "CALCULATING...\n",
      "\n",
      "You're never going to believe this, but you're 713 years younger than Hyperion\n"
     ]
    }
   ],
   "source": [
    "# PART TWO: Dictionaries\n",
    "\n",
    "# These will require longITUDE and LONGITUDE. You can ask Google for latitude and longitude by typing in *coordinates of CITYNAME*, or use any other tool that exists online.\n",
    "\n",
    "# Store the latitude and longitude without the N/S/E/W - if the latitude is S, make it negative. If the longitude is W, make it negative. (See here for explanation (Links to an external site.))\n",
    "\n",
    "# 1) Make a dictionary called 'tree' that responds to 'name', 'species', 'age', 'location_name', 'latitude' and 'longitude'. Pick a tree from: https://en.wikipedia.org/wiki/List_of_trees\n",
    "print(\n",
    "    \"Let's create a dictionary called 'tree' that responds to a set of tree-related keys:\\n\"\n",
    ")\n",
    "tree = {}\n",
    "key_list = [\"name\", \"species\", \"age\", \"location_name\", \"latitude\", \"longitude\"]\n",
    "tree_values = [\n",
    "    \"Hyperion\",\n",
    "    \"coast redwood\",\n",
    "    \"750\",\n",
    "    \"Redwood National Park\",\n",
    "    \"41.3\",\n",
    "    \"-124\",\n",
    "]\n",
    "for i in key_list:\n",
    "    tree[i] = None\n",
    "\n",
    "print(tree)\n",
    "\n",
    "print(\n",
    "    \"\\nThat's boring. Let's cram the world's largest tree into this empty dictionary:\\n\"\n",
    ")\n",
    "\n",
    "tree = {}\n",
    "for key in key_list:\n",
    "    for value in tree_values:\n",
    "        tree[key] = value\n",
    "        tree_values.remove(value)\n",
    "        break\n",
    "\n",
    "print(str(tree))\n",
    "\n",
    "\n",
    "# 2) Print the sentence \"{name} is a {years} year old tree that is in {location_name}\"\n",
    "\n",
    "print(\n",
    "    f\"{tree['name']} is a {tree['age']}-year-old tree that is in {tree['location_name']}.\\n\"\n",
    ")\n",
    "\n",
    "# 3) The coordinates of New York City are 40.7128° N, 74.0059° W. Check to see if the tree is south of NYC, and print \"The tree {name} in {location} is south of NYC\" if it is. If it isn't, print \"The tree {name} in {location} is north of NYC\"\n",
    "\n",
    "nyc = {\"latitude\": \"40.7128\", \"longitude\": \"-74.0059\"}\n",
    "\n",
    "if tree[\"latitude\"] < nyc[\"latitude\"]:\n",
    "    print(f\"{tree['name']} in {tree['location_name']} is south of NYC.\\n\")\n",
    "else:\n",
    "    print(f\"{tree['name']} in {tree['location_name']} is north of NYC.\\n\")\n",
    "\n",
    "# 4) Ask the user how old they are. If they are older than the tree, display \"you are {XXX} years older than {name}.\" If they are younger than the tree, display \"{name} was {XXX} years old when you were born.\"\n",
    "age = input(\"How old are you?\\n >\")\n",
    "\n",
    "print(\"Okay, let me crunch the numbers...\")\n",
    "import time\n",
    "time.sleep(1)\n",
    "\n",
    "for i in range(3):\n",
    "    time.sleep(i)\n",
    "    print(\"\\nCALCULATING...\")\n",
    "\n",
    "\n",
    "if int(age) > int(tree[\"age\"]):\n",
    "    time.sleep(1)\n",
    "    print(\n",
    "        f\"Get a load of this! You're {int(age) - int(tree['age'])} years older than {tree['name']}\"\n",
    "    )\n",
    "else:\n",
    "    time.sleep(1)\n",
    "    print(\n",
    "        f\"\\nYou're never going to believe this, but you're {abs(int(age) - int(tree['age']))} years younger than {tree['name']}\"\n",
    "    )\n",
    "\n"
   ]
  },
  {
   "cell_type": "code",
   "execution_count": 61,
   "metadata": {},
   "outputs": [],
   "source": [
    "# PART TWO: Lists of dictionaries\n",
    "\n",
    "# 1) Make a list of dictionaries of five places across the world - (1) Moscow, (2) Tehran, (3) Falkland Islands, (4) Seoul, and (5) Santiago. Each dictionary should include each city's name and latitude/longitude (see note above).\n",
    "# 2) Loop through the list, printing each city's name and whether it is above or below the equator (How do you know? Think hard about the latitude.). When you get to the Falkland Islands, also display the message \"The Falkland Islands are a biogeographical part of the mild Antarctic zone,\" which is a sentence I stole from Wikipedia.\n",
    "# 3) Loop through the list, printing whether each city is north of south of your tree from the previous section."
   ]
  },
  {
   "cell_type": "code",
   "execution_count": 62,
   "metadata": {},
   "outputs": [],
   "source": [
    "places = {\n",
    "    \"moscow\": \"55.7558° N, 37.6173° E\",\n",
    "    \"tehran\": \"35.7219° N, 51.3347° E\",\n",
    "    \"falkland_islands\": \"51.7963° S, 59.5236° W\",\n",
    "    \"seoul\": \"37.5665° N, 126.9780° E\",\n",
    "    \"santiago\": \"33.4489° S, 70.6693° W\"\n",
    "}"
   ]
  },
  {
   "cell_type": "code",
   "execution_count": 63,
   "metadata": {},
   "outputs": [
    {
     "name": "stdout",
     "output_type": "stream",
     "text": [
      "[55.7558, 35.7219, -51.7963, 37.5665, -33.4489]\n",
      "[37.6173, 51.3347, -59.5236, 126.978, -70.6693]\n"
     ]
    }
   ],
   "source": [
    "coordinates = []\n",
    "lats = []\n",
    "longs = []\n",
    "\n",
    "for pair in places.values():\n",
    "    pair = pair.split(\",\")\n",
    "    for coords in pair:\n",
    "        if \"N\" in coords or \"S\" in coords:\n",
    "            lat = coords\n",
    "            lat = lat.strip()\n",
    "            if \"S\" in lat:\n",
    "                lat = lat[0:-3]\n",
    "                lat = float(lat)\n",
    "                lat = lat * -1\n",
    "                lats.append(lat)\n",
    "            else:\n",
    "                lat = lat[0:-3]\n",
    "                lat = float(lat)\n",
    "                lats.append(lat)\n",
    "        else:\n",
    "            long = coords\n",
    "            long = long.strip()\n",
    "            if \"W\" in long:\n",
    "                long = long[0:-3]\n",
    "                long = float(long)\n",
    "                long = long * -1\n",
    "                longs.append(long)\n",
    "            else:\n",
    "                long = long[0:-3]\n",
    "                long = float(long)\n",
    "                longs.append(long)\n",
    "print(lats)\n",
    "print(longs)"
   ]
  },
  {
   "cell_type": "code",
   "execution_count": 59,
   "metadata": {},
   "outputs": [
    {
     "name": "stdout",
     "output_type": "stream",
     "text": [
      "[{'name': 'moscow', 'lat': 55.7558, 'long': 37.6173}, {'name': 'tehran', 'lat': 35.7219, 'long': 51.3347}, {'name': 'falkland_islands', 'lat': -51.7963, 'long': -59.5236}, {'name': 'seoul', 'lat': 37.5665, 'long': 126.978}, {'name': 'santiago', 'lat': -33.4489, 'long': -70.6693}]\n"
     ]
    }
   ],
   "source": [
    "cities = []\n",
    "city_counter = 0\n",
    "for city in places:\n",
    "    city = {\n",
    "        'name': city,\n",
    "        'lat': lats[city_counter],\n",
    "        'long': longs[city_counter]\n",
    "    }\n",
    "    city_counter += 1\n",
    "    cities.append(city)\n",
    "print(cities)"
   ]
  },
  {
   "cell_type": "code",
   "execution_count": 69,
   "metadata": {},
   "outputs": [
    {
     "name": "stdout",
     "output_type": "stream",
     "text": [
      "Moscow is north of the equator.\n",
      "\n",
      "Tehran is north of the equator.\n",
      "\n",
      "Falkland_islands is south of the equator.\n",
      "The Falkland Islands are a biogeographical part of the mild Antarctic zone.\n",
      "\n",
      "Seoul is north of the equator.\n",
      "\n",
      "Santiago is south of the equator.\n",
      "\n",
      "🗺🌲🗺🌲🗺🌲🗺🌲🗺🌲🗺🌲🗺🌲🗺🌲🗺🌲🗺🌲🗺\n",
      "\n",
      "Moscow is north of Hyperion.\n",
      "\n",
      "Tehran is south of Hyperion.\n",
      "\n",
      "Falkland_islands is south of Hyperion.\n",
      "\n",
      "Seoul is south of Hyperion.\n",
      "\n",
      "Santiago is south of Hyperion.\n",
      "\n"
     ]
    }
   ],
   "source": [
    "for destination in cities:\n",
    "    dname = destination['name']\n",
    "    if \"falkland\" not in dname:\n",
    "        if destination['lat'] > 0:\n",
    "            print(f\"{str(dname).capitalize()} is north of the equator.\\n\")\n",
    "        else:\n",
    "            print(f\"{str(dname).capitalize()} is south of the equator.\\n\")\n",
    "    else:\n",
    "        if destination['lat'] > 0:\n",
    "            print(f\"{str(dname).capitalize()} is north of the equator.\")\n",
    "        else:\n",
    "            print(f\"{str(dname).capitalize()} is south of the equator.\")\n",
    "        print(\"The Falkland Islands are a biogeographical part of the mild Antarctic zone.\\n\")\n",
    "\n",
    "print(\"🗺🌲🗺🌲🗺🌲🗺🌲🗺🌲🗺🌲🗺🌲🗺🌲🗺🌲🗺🌲🗺\\n\")\n",
    "        \n",
    "for destination in cities:\n",
    "    dname = destination['name']\n",
    "    if destination['lat'] > float(tree['latitude']):\n",
    "        print(f\"{str(dname).capitalize()} is north of {tree['name']}.\\n\")\n",
    "    else:\n",
    "        print(f\"{str(dname).capitalize()} is south of {tree['name']}.\\n\")\n",
    "    \n",
    "    "
   ]
  },
  {
   "cell_type": "code",
   "execution_count": null,
   "metadata": {},
   "outputs": [],
   "source": []
  }
 ],
 "metadata": {
  "interpreter": {
   "hash": "10626171d4353dd8d0f12b0dae77464b904fee8f635bb045a55f368206a04bde"
  },
  "kernelspec": {
   "display_name": "Python 3.10.3 64-bit ('3.10.3')",
   "language": "python",
   "name": "python3"
  },
  "language_info": {
   "codemirror_mode": {
    "name": "ipython",
    "version": 3
   },
   "file_extension": ".py",
   "mimetype": "text/x-python",
   "name": "python",
   "nbconvert_exporter": "python",
   "pygments_lexer": "ipython3",
   "version": "3.10.3"
  },
  "orig_nbformat": 4
 },
 "nbformat": 4,
 "nbformat_minor": 2
}
