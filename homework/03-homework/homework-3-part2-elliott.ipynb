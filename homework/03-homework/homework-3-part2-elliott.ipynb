{
 "cells": [
  {
   "cell_type": "code",
   "execution_count": null,
   "metadata": {},
   "outputs": [],
   "source": [
    "# Register for an account at weatherapi.com. \n",
    "\n",
    "# What is the URL to the documentation?\n",
    "# Make a request for the current weather where you are born, or somewhere you've lived.\n",
    "# Print out the country this location is in.\n",
    "# Print out the difference between the current temperature and how warm it feels. Use \"It feels ___ degrees colder\" or \"It feels ___ degrees warmer,\" not negative numbers.\n",
    "# What's the current temperature at Heathrow International Airport? Use the airport's IATA code to search.\n",
    "# What URL would I use to request a 3-day forecast at Heathrow?\n",
    "# Print the date of each of the 3 days you're getting a forecast for.\n",
    "# Print the maximum temperature of each of the days.\n",
    "# Print the day with the highest maximum temperature.\n",
    "# TIPS\n",
    "\n",
    "# Be sure to read the documentation!!!\n",
    "\n",
    "# If a question cannot be answered using the API, answer it as \"cannot be answered using the API.\"\n",
    "\n",
    "# Make sure you've registered for an API key! It goes in the URL like this - http://api.weatherapi.com/v1/current.json?key=c52fbcfa1fa84d819e114406200211&q=London - note that instead of being part of the URL, your variables are URL parameters. \n",
    "\n",
    "# Be careful when cutting and paste your API key, it's easy to accidentally also copy and paste \"LIVE\"\n",
    "\n",
    "# Take advantage of the API Explorer - https://www.weatherapi.com/api-explorer.aspx (Links to an external site.) - it will build requests for you with simple dropdowns. Don't forget to paste in your API key!\n",
    "\n",
    "# For the airport code, you'll need to read the documentation for forecasts as well as Google for the airport code.\n",
    "\n",
    "# To get the \"day with the highest maximum temperature,\" you might pay attention to the end of me doing the Spotify homework. I sped through it, but the code isn't too different!"
   ]
  },
  {
   "cell_type": "code",
   "execution_count": null,
   "metadata": {},
   "outputs": [],
   "source": [
    "print(\"What is the URL to the documentation?\\n\")\n",
    "print(\"https://www.weatherapi.com/docs/\\n\")\n",
    "print(\"\\n- - - - - - - - - - - - - - - - - - -\\n\")"
   ]
  },
  {
   "cell_type": "code",
   "execution_count": 2,
   "metadata": {},
   "outputs": [],
   "source": [
    "import requests"
   ]
  },
  {
   "cell_type": "code",
   "execution_count": 17,
   "metadata": {},
   "outputs": [
    {
     "name": "stdout",
     "output_type": "stream",
     "text": [
      "Make a request for the current weather where you are born, or somewhere you've lived.\n",
      "\n",
      "The current temperature in Stockton, California is 64.0°F\n"
     ]
    }
   ],
   "source": [
    "print(\"Make a request for the current weather where you are born, or somewhere you've lived.\\n\")\n",
    "key = \"6e398a633db74946801165709221306\"\n",
    "loc = \"Stockton\"\n",
    "query_url = \"http://api.weatherapi.com/v1/current.json?key=\" + key + \"&q=\" + loc\n",
    "stockton = requests.get(query_url)\n",
    "stockton = stockton.json()\n",
    "# print(stockton)\n",
    "print(f\"The current temperature in {stockton['location']['name']}, {stockton['location']['region']} is {stockton['current']['temp_f']}°F\")\n"
   ]
  },
  {
   "cell_type": "code",
   "execution_count": 20,
   "metadata": {},
   "outputs": [
    {
     "name": "stdout",
     "output_type": "stream",
     "text": [
      "Stockton, California is located in the United States of America.\n"
     ]
    }
   ],
   "source": [
    "# Print out the country this location is in.\n",
    "print(f\"{stockton['location']['name']}, {stockton['location']['region']} is located in the {stockton['location']['country']}.\")\n"
   ]
  },
  {
   "cell_type": "code",
   "execution_count": 23,
   "metadata": {},
   "outputs": [
    {
     "name": "stdout",
     "output_type": "stream",
     "text": [
      "The current temperature in Stockton, California is 64.0°F, and that's exactly the temperature it feels.\n"
     ]
    }
   ],
   "source": [
    "# Print out the difference between the current temperature and how warm it feels. Use \"It feels ___ degrees colder\" or \"It feels ___ degrees warmer,\" not negative numbers.\n",
    "\n",
    "if stockton['current']['temp_f'] > stockton['current']['feelslike_f']:\n",
    "    print(f\"The current temperature in {stockton['location']['name']}, {stockton['location']['region']} is {stockton['current']['temp_f']}°F, but it feels {abs(stockton['current']['temp_f'] - stockton['current']['feelslike_f'])}°F cooler.\")\n",
    "elif stockton['current']['temp_f'] < stockton['current']['feelslike_f']:\n",
    "    print(f\"The current temperature in {stockton['location']['name']}, {stockton['location']['region']} is {stockton['current']['temp_f']}°F, but it feels {abs(stockton['current']['temp_f'] - stockton['current']['feelslike_f'])}°F warmer.\")\n",
    "elif stockton['current']['temp_f'] == stockton['current']['feelslike_f']:\n",
    "    print(f\"The current temperature in {stockton['location']['name']}, {stockton['location']['region']} is {stockton['current']['temp_f']}°F, and that's exactly the temperature it feels.\")\n"
   ]
  },
  {
   "cell_type": "code",
   "execution_count": 27,
   "metadata": {},
   "outputs": [
    {
     "name": "stdout",
     "output_type": "stream",
     "text": [
      "\n",
      "What's the current temperature at Heathrow International Airport?\n",
      "\n",
      "The current temperature in London Heathrow Airport, London is 23.0°C.\n"
     ]
    }
   ],
   "source": [
    "print(\"\\nWhat's the current temperature at Heathrow International Airport?\\n\")  # Use the airport's IATA code to search.\"\n",
    "loc = \"LHR\"\n",
    "query_url = \"http://api.weatherapi.com/v1/current.json?key=\" + key + \"&q=\" + loc\n",
    "location = requests.get(query_url)\n",
    "location = location.json()\n",
    "# print(stockton)\n",
    "print(f\"The current temperature in {stockton['location']['name']}, {stockton['location']['region']} is {stockton['current']['temp_c']}°C.\")"
   ]
  },
  {
   "cell_type": "code",
   "execution_count": 36,
   "metadata": {},
   "outputs": [
    {
     "name": "stdout",
     "output_type": "stream",
     "text": [
      "In order to get a 3-day forecast at LHR, you would target the following url:\n",
      "http://api.weatherapi.com/v1/forecast.json?key=6e398a633db74946801165709221306&q=LHR&days=3\n",
      "\n",
      "\n"
     ]
    }
   ],
   "source": [
    "# What URL would I use to request a 3-day forecast at Heathrow?\n",
    "days = \"3\"\n",
    "forecast_location = \"LHR\"\n",
    "query_url = \"http://api.weatherapi.com/v1/forecast.json?key=\" + key + \"&q=\" + forecast_location + \"&days=\" + days\n",
    "dayloc = requests.get(query_url)\n",
    "dayloc = dayloc.json()\n",
    "\n",
    "print(f\"In order to get a {days}-day forecast at {forecast_location}, you would target the following url:\\n{query_url}\\n\\n\")"
   ]
  },
  {
   "cell_type": "markdown",
   "metadata": {},
   "source": []
  },
  {
   "cell_type": "code",
   "execution_count": 47,
   "metadata": {},
   "outputs": [
    {
     "name": "stdout",
     "output_type": "stream",
     "text": [
      "Here are the dates that are included in the 3-day forecast for LHR:\n",
      "['2022-06-14', '2022-06-15', '2022-06-16']\n",
      "\n",
      "\n"
     ]
    }
   ],
   "source": [
    "# Print the date of each of the 3 days you're getting a forecast for.\n",
    "date = []\n",
    "for day in range(0, 3):\n",
    "    date.append(dayloc['forecast']['forecastday'][day]['date'])\n",
    "print(f\"Here are the dates that are included in the {days}-day forecast for {forecast_location}:\\n{date}\\n\\n\")"
   ]
  },
  {
   "cell_type": "code",
   "execution_count": 59,
   "metadata": {},
   "outputs": [
    {
     "name": "stdout",
     "output_type": "stream",
     "text": [
      "Print the maximum temperature of each of the days.\n",
      "\n",
      "On 2022-06-14, the maximum temperature is forecasted to be 24.9°C\n",
      "On 2022-06-15, the maximum temperature is forecasted to be 26.0°C\n",
      "On 2022-06-16, the maximum temperature is forecasted to be 28.5°C\n",
      "\n",
      "\n",
      "\n"
     ]
    }
   ],
   "source": [
    "print(\"Print the maximum temperature of each of the days.\\n\")\n",
    "for day in range (0, 3):\n",
    "    print(f\"On {date[day]}, the maximum temperature is forecasted to be {dayloc['forecast']['forecastday'][day]['day']['maxtemp_c']}°C\")\n",
    "print(\"\\n\\n\")"
   ]
  },
  {
   "cell_type": "code",
   "execution_count": 94,
   "metadata": {},
   "outputs": [
    {
     "name": "stdout",
     "output_type": "stream",
     "text": [
      "Print the day with the highest maximum temperature.\n",
      "\n",
      "On 2022-06-16, the maximum temperature is forecasted to be 28.5°C.\n",
      "This is the highest temperature in the 3-day forecast comprising the date range 2022-06-14 — 2022-06-16.\n",
      "The mean temperature for this range is 26.5°C.\n",
      "The standard deviation for this range is 1.8.\n",
      "The square root of the maximum temperature from the forecasted range is 5.338539126015656°C.\n",
      "And, in case you were wondering, pi times the forecast's maximum temperature raised to the power of its square root is about 184 million degrees celsius. Dress in layers.\n"
     ]
    }
   ],
   "source": [
    "print(\"Print the day with the highest maximum temperature.\\n\")\n",
    "import statistics\n",
    "import math\n",
    "temps = []\n",
    "for day in range (0, 3):\n",
    "    temps.append(dayloc['forecast']['forecastday'][day]['day']['maxtemp_c'])\n",
    "max_temp = max(temps)\n",
    "max_index = temps.index(max_temp)\n",
    "mean_temp = statistics.mean(temps)\n",
    "stddev_temp = statistics.stdev(temps)\n",
    "sqrt_temp = statistics.sqrt(max_temp)\n",
    "print(f\"On {date[max_index]}, the maximum temperature is forecasted to be {max_temp}°C.\\nThis is the highest temperature in the {days}-day forecast comprising the date range {date[0]} — {date[2]}.\\nThe mean temperature for this range is {round(mean_temp, 1)}°C.\\nThe standard deviation for this range is {(round(stddev_temp, 1))}.\\nThe square root of the maximum temperature from the forecasted range is {sqrt_temp}°C.\\nAnd, in case you were wondering, pi times the forecast's maximum temperature raised to the power of its square root is about {round(math.pi * max_temp ** sqrt_temp / 1000000)} million degrees celsius. Dress in layers.\")"
   ]
  },
  {
   "cell_type": "code",
   "execution_count": null,
   "metadata": {},
   "outputs": [],
   "source": []
  }
 ],
 "metadata": {
  "kernelspec": {
   "display_name": "Python 3 (ipykernel)",
   "language": "python",
   "name": "python3"
  },
  "language_info": {
   "codemirror_mode": {
    "name": "ipython",
    "version": 3
   },
   "file_extension": ".py",
   "mimetype": "text/x-python",
   "name": "python",
   "nbconvert_exporter": "python",
   "pygments_lexer": "ipython3",
   "version": "3.10.3"
  },
  "vscode": {
   "interpreter": {
    "hash": "10626171d4353dd8d0f12b0dae77464b904fee8f635bb045a55f368206a04bde"
   }
  }
 },
 "nbformat": 4,
 "nbformat_minor": 2
}
