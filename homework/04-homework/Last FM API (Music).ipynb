{
 "cells": [
  {
   "cell_type": "markdown",
   "metadata": {},
   "source": [
    "# Last FM API (Music)\n",
    "\n",
    "Spotify's API is dead to us, so we're using Last.fm's - it's still music, just not as nice of an API.\n",
    "\n",
    "1. Create an account at https://www.last.fm/api/\n",
    "2. Create an \"application\" to get a key: https://www.last.fm/api/account/create\n",
    "    - It isn't a real application, it's just your project\n",
    "    - Name/description doesn't matter, ignore callback key and callback url\n",
    "3. And save the API key that shows up on the next screen\n",
    "\n",
    "You can find documentation at https://www.last.fm/api/\n",
    "\n",
    "The domain for the API is `http://ws.audioscrobbler.com`, so all of your endpoints will be connected to that. To test your API key, check the following URL in your browser: `http://ws.audioscrobbler.com/2.0/?method=artist.search&artist=cher&api_key=XXXXXXXXXXXXXXXXXXXX&format=json` (change the `XXXXXX` to be your API key, of course!).\n",
    "\n",
    "> Last.fm used to be called **AudioScrobbler**, which is why its URLs don't have \"last.fm\" in them.\n",
    "> While we're asking about URLs, notice that the API endpoints have a lot of `?` and `&` in them - these are key/value pairs, kind of like dictionaries, but for URLs instead of Python."
   ]
  },
  {
   "cell_type": "markdown",
   "metadata": {},
   "source": [
    "# FIRST: SETUP"
   ]
  },
  {
   "cell_type": "markdown",
   "metadata": {},
   "source": [
    "## 1) Import the libraries/packages you might need\n",
    "\n",
    "We need a library to read in the data for us! We don't like `urllib2`, so it must be something cooler and better."
   ]
  },
  {
   "cell_type": "code",
   "execution_count": 18,
   "metadata": {},
   "outputs": [
    {
     "name": "stdout",
     "output_type": "stream",
     "text": [
      "CPU times: user 14 µs, sys: 1 µs, total: 15 µs\n",
      "Wall time: 22.9 µs\n"
     ]
    }
   ],
   "source": [
    "%%time\n",
    "# Import what you need here\n",
    "import requests\n",
    "import random\n",
    "import time\n",
    "LFM_key = 'dceeeb420753458b13ba2cc8af00e91b'\n",
    "LFM_master_ep = 'http://ws.audioscrobbler.com/2.0/?method='"
   ]
  },
  {
   "cell_type": "markdown",
   "metadata": {},
   "source": [
    "## 2) Save your API key\n",
    "\n",
    "Write your API key here so you don't forget it - it's the \"api key\" one, not the \"shared secret\" one"
   ]
  },
  {
   "cell_type": "markdown",
   "metadata": {},
   "source": [
    "## 3) The death of an API\n",
    "\n",
    "I used to have some code here that allowed you to display images, but _the images don't work any more._ Let this be an important lesson: when you depend on external services, they can die at any time."
   ]
  },
  {
   "cell_type": "markdown",
   "metadata": {},
   "source": [
    "# NOW: YOUR ASSIGNMENT"
   ]
  },
  {
   "cell_type": "markdown",
   "metadata": {},
   "source": [
    "## 1) Search for and print a list of 50 musicians with `lil` in their name, along with the number of listeners they have\n",
    "\n",
    "There are a lot of musicians with \"Lil\" in their name - it used to be all Lil Wayne and Lil Kim, but we live in a new world now!\n",
    "\n",
    "- *Tip: Remember, the domain for the API is `http://ws.audioscrobbler.com`*\n",
    "- *Tip: Make sure you ask the API for 50 musicians! This involves adding another parameter to the URL - notice they all have a `&` before them. [Read the documentation](http://www.last.fm/api/show/artist.search) to find the parameter's name.* \n",
    "- *Tip: When you are looking at any piece of data - is it a dictionary? Look at the keys! Is it a list? Look at the first element!*\n",
    "- *Tip: LOOK AT THE KEYS. and then the other keys and the other keys and the other keys. It's an ugly series of dictionaries!*"
   ]
  },
  {
   "cell_type": "markdown",
   "metadata": {},
   "source": [
    "Let's jsonify our artist pile:"
   ]
  },
  {
   "cell_type": "code",
   "execution_count": 19,
   "metadata": {},
   "outputs": [],
   "source": [
    "artist = 'lil'\n",
    "result_count = 51\n",
    "artist_query = f'{LFM_master_ep}artist.search&artist={artist}&api_key={LFM_key}&limit={result_count}&format=json'\n",
    "artist_query\n",
    "artist_result = requests.get(artist_query)\n",
    "artist_result = artist_result.json()\n"
   ]
  },
  {
   "cell_type": "markdown",
   "metadata": {},
   "source": [
    "Let's watch me root around in the pile for a minute just to get my bearings:"
   ]
  },
  {
   "cell_type": "code",
   "execution_count": 20,
   "metadata": {},
   "outputs": [],
   "source": [
    "# print(artist_result.keys())\n",
    "# print(artist_result['results'].keys())\n",
    "# print(artist_result['results']['artistmatches'])\n",
    "# print(artist_result['results']['artistmatches']['artist'][1])"
   ]
  },
  {
   "cell_type": "markdown",
   "metadata": {},
   "source": [
    "Let's use a loop pull out our artists and listeners to a working lists, throw those into dictionaries, append those dictionaries to a list called clown car, and then reset everything for the next Lil:"
   ]
  },
  {
   "cell_type": "code",
   "execution_count": 21,
   "metadata": {},
   "outputs": [
    {
     "name": "stdout",
     "output_type": "stream",
     "text": [
      "[{'artist': 'LIL UZI VERT', 'listeners': 813261}, {'artist': 'LIL PEEP', 'listeners': 1377102}, {'artist': 'Lil Nas X', 'listeners': 3377140}]\n"
     ]
    }
   ],
   "source": [
    "listeners = []\n",
    "lil_clown_car = []  # master list of dicts\n",
    "lil_dic = {}  # each lil dict\n",
    "lil_location = artist_result[\"results\"][\"artistmatches\"][\"artist\"]\n",
    "lil_counter = 0\n",
    "lils = [lil_location[lil_counter][\"name\"]]\n",
    "for _ in range(len(lil_location)):\n",
    "    lils.append(lil_location[int(lil_counter)][\"name\"])\n",
    "    listeners.append(\n",
    "        int(lil_location[int(lil_counter)][\"listeners\"])\n",
    "    )  # I'll need this later.\n",
    "\n",
    "    lil_dic[\"artist\"] = lils[int(lil_counter)]\n",
    "    lil_dic[\"listeners\"] = listeners[int(lil_counter)]\n",
    "\n",
    "    lil_clown_car.append(lil_dic)\n",
    "    lil_dic = {}\n",
    "    lil_counter += 1\n",
    "# print(lils)\n",
    "# print(\"-----\")\n",
    "# print(lils)\n",
    "# print(\"-----\")\n",
    "# print(listeners)\n",
    "# print(\"-----\")\n",
    "# print(f\"len(lils): {len(lils)}\")\n",
    "# print(\"-----\")\n",
    "# print(f\"len(listeners): {len(listeners)}\")\n",
    "# print(\"-----\")\n",
    "# print(f\"len(lil_clown_car): {len(listeners)}\")\n",
    "# print(\"-----\")\n",
    "# print(lil_clown_car[:3])\n",
    "lil_clown_car.pop(0)\n",
    "# print(\"-----\")\n",
    "print(lil_clown_car[:3])"
   ]
  },
  {
   "cell_type": "markdown",
   "metadata": {},
   "source": [
    "Now let's print our answer list:"
   ]
  },
  {
   "cell_type": "code",
   "execution_count": 22,
   "metadata": {},
   "outputs": [
    {
     "name": "stdout",
     "output_type": "stream",
     "text": [
      "Here's a list of 50 LastFM artists with lil in their name:\n",
      "\n",
      "\n",
      "Lil Uzi Vert has about 813,000 LastFM listeners.\n",
      "Lil Peep has about 1.38 million LastFM listeners.\n",
      "Lil Nas X has about 3.38 million LastFM listeners.\n",
      "Lil' Wayne has about 2.51 million LastFM listeners.\n",
      "Lily Allen has about 623,000 LastFM listeners.\n",
      "Lil Baby has about 535,000 LastFM listeners.\n",
      "Lil Tecca has about 585,000 LastFM listeners.\n",
      "Lil Yachty has about 424,000 LastFM listeners.\n",
      "Lil Tjay has about 693,000 LastFM listeners.\n",
      "Lil Wayne has about 372,000 LastFM listeners.\n",
      "Lil Durk has about 383,000 LastFM listeners.\n",
      "Lil Skies has about 196,000 LastFM listeners.\n",
      "Lil Darkie has about 468,000 LastFM listeners.\n",
      "Lil Mosey has about 194,000 LastFM listeners.\n",
      "Lil Ugly Mane has about 322,000 LastFM listeners.\n",
      "Lil B has about 410,000 LastFM listeners.\n",
      "Lil Pump has about 153,000 LastFM listeners.\n",
      "Lil Tracy has about 189,000 LastFM listeners.\n",
      "Lil Keed has about 391,000 LastFM listeners.\n",
      "Lil Dicky has about 577,000 LastFM listeners.\n",
      "Lil' Kim has about 262,000 LastFM listeners.\n",
      "Lil Xan has about 434,000 LastFM listeners.\n",
      "Lilly Wood & The Prick has about 101,000 LastFM listeners.\n",
      "Lil Loaded has about 67,000 LastFM listeners.\n",
      "Lilypichu has about 669,000 LastFM listeners.\n",
      "Lil Jon has about 157,000 LastFM listeners.\n",
      "Lil Gnar has about 598,000 LastFM listeners.\n",
      "Lil Jon & The East Side Boyz has about 79,000 LastFM listeners.\n",
      "Lilbubblegum has about 205,000 LastFM listeners.\n",
      "Lilac has about 119,000 LastFM listeners.\n",
      "Lil Aaron has about 212,000 LastFM listeners.\n",
      "Fenne Lily has about 122,000 LastFM listeners.\n",
      "Lil Eazzyy has about 186,000 LastFM listeners.\n",
      "Lila Downs has about 71,000 LastFM listeners.\n",
      "Lil Bo Weep has about 67,000 LastFM listeners.\n",
      "Lil Gotit has about 119,000 LastFM listeners.\n",
      "Lily James has about 71,000 LastFM listeners.\n",
      "Lil Kleine has about 30,000 LastFM listeners.\n",
      "Lil Revive has about 422,000 LastFM listeners.\n",
      "Lil Boosie has about 122,000 LastFM listeners.\n",
      "The Tiger Lillies has about 63,000 LastFM listeners.\n",
      "Lil Dusty G has about 69,000 LastFM listeners.\n",
      "Lil' Kleine has about 57,000 LastFM listeners.\n",
      "Lil Lotus has about 66,000 LastFM listeners.\n",
      "Lil Mariko has about 65,000 LastFM listeners.\n",
      "Lily Chou-Chou has about 272,000 LastFM listeners.\n",
      "Lil Wyte has about 67,000 LastFM listeners.\n",
      "Lil Boodang has about 75,000 LastFM listeners.\n",
      "Lil Candy Paint has about 361,000 LastFM listeners.\n",
      "Lil' Flip has about 48,000 LastFM listeners.\n",
      "\n",
      "LIL PUMP is my absolute favorite.\n"
     ]
    }
   ],
   "source": [
    "print(\n",
    "    f\"Here's a list of {len(lil_clown_car)} LastFM artists with {artist} in their name:\\n\\n\"\n",
    ")\n",
    "\n",
    "for clown_count, lil in enumerate(lil_clown_car):\n",
    "    if int(lil_clown_car[clown_count][\"listeners\"]) > 1000000:\n",
    "        print(\n",
    "            f'{(lil_clown_car[clown_count][\"artist\"].title())} has about {round(float(lil_clown_car[clown_count][\"listeners\"]) / 1_000_000, 2)} million LastFM listeners.'\n",
    "        )\n",
    "    else:\n",
    "        print(\n",
    "            f'{(lil_clown_car[clown_count][\"artist\"].title())} has about {round(float(lil_clown_car[clown_count][\"listeners\"]) / 1_000)},000 LastFM listeners.'\n",
    "        )\n",
    "print(\n",
    "    f\"\\n{lil_clown_car[random.randint(0, 49)]['artist']} is my absolute favorite.\"\n",
    ")"
   ]
  },
  {
   "cell_type": "markdown",
   "metadata": {},
   "source": [
    "Your results should begin something like this:\n",
    "    \n",
    "```\n",
    "Lil' Wayne has 3086628 listeners\n",
    "Lily Allen has 2074266 listeners\n",
    "Lil B has 194116 listeners\n",
    "Lilly Wood & The Prick has 359886 listeners\n",
    "Lil Ugly Mane has 31955 listeners\n",
    "LIL UZI VERT has 88517 listeners\n",
    "```"
   ]
  },
  {
   "cell_type": "markdown",
   "metadata": {},
   "source": [
    "## 2) How many listeners does your list have in total?\n",
    "\n",
    "The answer should be roughly **15,000,000**. If it's lower, make sure you have 50 artists instead of 30 artists.\n",
    "\n",
    "- *Tip: What's the data type of the `listeners` count? It's going to cause a problem!*\n",
    "- *Tip: If you were crazy you could use sum and a list comprehension. But you really don't have to!*"
   ]
  },
  {
   "cell_type": "markdown",
   "metadata": {},
   "source": [
    "Let's give ourselves a big pat on the back for doing some extra work in the previous question so that we can use a one-liner here."
   ]
  },
  {
   "cell_type": "code",
   "execution_count": 23,
   "metadata": {},
   "outputs": [
    {
     "name": "stdout",
     "output_type": "stream",
     "text": [
      "My Lil list comprises about 20.86 million Lil listeners.\n"
     ]
    }
   ],
   "source": [
    "print(\n",
    "    f\"My Lil list comprises about {round(float(sum(listeners) / 1_000_000), 2)} million Lil listeners.\"\n",
    ")"
   ]
  },
  {
   "cell_type": "markdown",
   "metadata": {},
   "source": [
    "## 4) Find Lil Jon's `mbid` (or anyone else's!).\n",
    "\n",
    "Oftentimes in an API, you can do a few things: you can **search** for items, and you can **see more information** about items. To find more information about the item, you need to use their **unique id**. In this dataset, it's called an `mbid` (MusicBrainz, I think - another company associated with last.fm!).\n",
    "\n",
    "Go through the artists and print their **name and mbid**. Find Lil Jon's `mbid`. I *wanted* Lil Uzi Vert's, but for some reason it isn't there. Then I wanted us to look at Lily Allen's, but I just couldn't bring myself to do that. If you'd rather do someone else, go for it."
   ]
  },
  {
   "cell_type": "markdown",
   "metadata": {},
   "source": [
    "Let's mess around with Lil Dicky's mbid:"
   ]
  },
  {
   "cell_type": "code",
   "execution_count": 24,
   "metadata": {},
   "outputs": [],
   "source": [
    "lil_dicky = lil_clown_car[19]['artist']\n",
    "mbid_query_endpoint = \"https://musicbrainz.org/ws/2/artist/?query=artist:\"\n",
    "dicky_mbid_finder = (\n",
    "    mbid_query_endpoint\n",
    "    + ((lil_dicky).replace(\" \",\"%\")).lower()\n",
    "    + \"&fmt=json\"\n",
    ")\n",
    "# print(str(artist_mbid_finder))\n",
    "dicky_mbid_finder = requests.get(dicky_mbid_finder)\n",
    "dicky_mbid_finder = dicky_mbid_finder.json()"
   ]
  },
  {
   "cell_type": "markdown",
   "metadata": {},
   "source": [
    "Let's watch me root around blindly for a few lines until I find what I'm looking for:"
   ]
  },
  {
   "cell_type": "code",
   "execution_count": 25,
   "metadata": {},
   "outputs": [
    {
     "name": "stdout",
     "output_type": "stream",
     "text": [
      "3268f062-6e76-480a-a384-e1dd2a276afb\n"
     ]
    }
   ],
   "source": [
    "# print(dicky_mbid_finder.keys())  # where's that mbid?\n",
    "# print(dicky_mbid_finder['artists'])\n",
    "# print(dicky_mbid_finder['artists'][0])\n",
    "# print(dicky_mbid_finder['artists'][0]['id'])  # here it is\n",
    "\n",
    "\n",
    "lil_dicky_mbid = dicky_mbid_finder['artists'][0]['id']\n",
    "print(lil_dicky_mbid)"
   ]
  },
  {
   "cell_type": "markdown",
   "metadata": {},
   "source": [
    "Let's print our Lil Dicky's mbid."
   ]
  },
  {
   "cell_type": "code",
   "execution_count": 26,
   "metadata": {},
   "outputs": [
    {
     "name": "stdout",
     "output_type": "stream",
     "text": [
      "Lil Dicky's mbid is 3268f062-6e76-480a-a384-e1dd2a276afb.\n"
     ]
    }
   ],
   "source": [
    "print(\n",
    "    f\"{lil_dicky}'s mbid is {lil_dicky_mbid}.\"\n",
    ")"
   ]
  },
  {
   "cell_type": "markdown",
   "metadata": {},
   "source": [
    "Let's make a loop that adds every artist's mbid to their dictionary:"
   ]
  },
  {
   "cell_type": "code",
   "execution_count": 27,
   "metadata": {},
   "outputs": [
    {
     "name": "stdout",
     "output_type": "stream",
     "text": [
      "lilbubblegum\n",
      "https://musicbrainz.org/ws/2/artist/?query=artist:lilbubblegum&fmt=json\n"
     ]
    }
   ],
   "source": [
    "clown = lils[29]\n",
    "print((clown).replace(\" \",\"%\"))\n",
    "print(mbid_query_endpoint\n",
    "    + ((clown).replace(\" \",\"%\"))\n",
    "    + \"&fmt=json\"\n",
    "    )"
   ]
  },
  {
   "cell_type": "code",
   "execution_count": 28,
   "metadata": {},
   "outputs": [
    {
     "ename": "IndexError",
     "evalue": "list index out of range",
     "output_type": "error",
     "traceback": [
      "\u001b[0;31m---------------------------------------------------------------------------\u001b[0m",
      "\u001b[0;31mIndexError\u001b[0m                                Traceback (most recent call last)",
      "\u001b[1;32m/Users/bean/Dropbox/code/lede/homework/04-homework/Last FM API (Music).ipynb Cell 30'\u001b[0m in \u001b[0;36m<cell line: 2>\u001b[0;34m()\u001b[0m\n\u001b[1;32m      <a href='vscode-notebook-cell:/Users/bean/Dropbox/code/lede/homework/04-homework/Last%20FM%20API%20%28Music%29.ipynb#ch0000029?line=7'>8</a>\u001b[0m clown_mbid \u001b[39m=\u001b[39m requests\u001b[39m.\u001b[39mget(clown_mbid)\n\u001b[1;32m      <a href='vscode-notebook-cell:/Users/bean/Dropbox/code/lede/homework/04-homework/Last%20FM%20API%20%28Music%29.ipynb#ch0000029?line=8'>9</a>\u001b[0m clown_mbid \u001b[39m=\u001b[39m clown_mbid\u001b[39m.\u001b[39mjson()\n\u001b[0;32m---> <a href='vscode-notebook-cell:/Users/bean/Dropbox/code/lede/homework/04-homework/Last%20FM%20API%20%28Music%29.ipynb#ch0000029?line=9'>10</a>\u001b[0m \u001b[39mprint\u001b[39m(\u001b[39mf\u001b[39m\u001b[39m\"\u001b[39m\u001b[39m{\u001b[39;00mclown_counter\u001b[39m}\u001b[39;00m\u001b[39m: \u001b[39m\u001b[39m{\u001b[39;00mlils[clown_counter]\u001b[39m}\u001b[39;00m\u001b[39m — MBID: \u001b[39m\u001b[39m{\u001b[39;00mclown_mbid[\u001b[39m'\u001b[39m\u001b[39martists\u001b[39m\u001b[39m'\u001b[39m][\u001b[39m0\u001b[39m][\u001b[39m'\u001b[39m\u001b[39mid\u001b[39m\u001b[39m'\u001b[39m]\u001b[39m}\u001b[39;00m\u001b[39m\"\u001b[39m)\n\u001b[1;32m     <a href='vscode-notebook-cell:/Users/bean/Dropbox/code/lede/homework/04-homework/Last%20FM%20API%20%28Music%29.ipynb#ch0000029?line=10'>11</a>\u001b[0m time\u001b[39m.\u001b[39msleep(\u001b[39m0.25\u001b[39m)\n",
      "\u001b[0;31mIndexError\u001b[0m: list index out of range"
     ]
    }
   ],
   "source": [
    "mbid_query_endpoint = \"https://musicbrainz.org/ws/2/artist/?query=artist:\"\n",
    "for clown_counter, _ in enumerate(range(50), start=29):\n",
    "    clown_mbid = (\n",
    "    mbid_query_endpoint\n",
    "    + ((lils[clown_counter]).replace(\" \",\"%\"))\n",
    "    + \"&fmt=json\"\n",
    "    )\n",
    "    clown_mbid = requests.get(clown_mbid)\n",
    "    clown_mbid = clown_mbid.json()\n",
    "    print(f\"{clown_counter}: {lils[clown_counter]} — MBID: {clown_mbid['artists'][0]['id']}\")\n",
    "    time.sleep(0.25)"
   ]
  },
  {
   "cell_type": "code",
   "execution_count": null,
   "metadata": {},
   "outputs": [
    {
     "data": {
      "text/plain": [
       "dict_keys(['id', 'type', 'type-id', 'score', 'gender-id', 'name', 'sort-name', 'gender', 'country', 'area', 'begin-area', 'disambiguation', 'ipis', 'life-span', 'aliases', 'tags'])"
      ]
     },
     "execution_count": 198,
     "metadata": {},
     "output_type": "execute_result"
    }
   ],
   "source": [
    "# mbid_query = mbid_query_endpoint + str(lil_clown_car[0][\"artist\"]).replace(\" \", \"%\").lower() + \"&fmt=json\"\n",
    "# mbid_query = requests.get(mbid_query)\n",
    "# mbid_query = mbid_query.json()\n",
    "# mbid_query['artists'][0].keys()"
   ]
  },
  {
   "cell_type": "code",
   "execution_count": null,
   "metadata": {},
   "outputs": [],
   "source": [
    "# lil_mbid = (\n",
    "#         mbid_query_endpoint\n",
    "#         + str(lil_clown_car[0][\"artist\"]).replace(\" \", \"%\").lower()\n",
    "#         + (\"&limit={result_count}\")\n",
    "#         + \"&fmt=json\"\n",
    "#     )\n",
    "# lil_mbid = requests.get(lil_mbid)\n",
    "# lil_mbid = lil_mbid.json()\n",
    "# lil_mbid"
   ]
  },
  {
   "cell_type": "code",
   "execution_count": null,
   "metadata": {},
   "outputs": [
    {
     "data": {
      "text/plain": [
       "{'artist': 'Lil Baby',\n",
       " 'listeners': 534853,\n",
       " 'xl-image': 'https://lastfm.freetls.fastly.net/i/u/300x300/2a96cbd8b46e442fc41c2b86b821562f.png',\n",
       " 'bio-summary': 'Lil Dicky (or LD) (born David Andrew Burd on 15 March 1988) is an American rapper and comedian. He came to prominence with the release of the music video of his song \"Ex-Boyfriend\", which went viral with more than one million views on YouTube in 24 hours. He released his debut album Professional Rapper on July 31, 2015. In 2018, his song \"Freaky Friday\", featuring Chris Brown, became a worldwide hit.\\n\\nIn an era where rap is dominated by racial, social <a href=\"https://www.last.fm/music/Lil+Dicky\">Read more on Last.fm</a>',\n",
       " 'bio-content': 'Lil Dicky (or LD) (born David Andrew Burd on 15 March 1988) is an American rapper and comedian. He came to prominence with the release of the music video of his song \"Ex-Boyfriend\", which went viral with more than one million views on YouTube in 24 hours. He released his debut album Professional Rapper on July 31, 2015. In 2018, his song \"Freaky Friday\", featuring Chris Brown, became a worldwide hit.\\n\\nIn an era where rap is dominated by racial, social, and economic minorities, LD decided to put the upper-middle class on his frail, Jewish shoulders. The results have been monumental. His debut mixtape, So Hard, has been categorized as “funny,” and “impressive” by his friends.\\n\\nOn 31st July 2015, Mr. Leftward-Sloping Penis released PROFESSIONAL RAPPER, featuring Snoop Dogg, Fetty Wap, Rich Homie Quan, T-Pain, Jace of Two-9 & brain. \\n\\nA non-traditional rapper, Lil Dicky uses a mix of comedy, lyrical ingenuity, and self-deprecation to spew out entertaining and relatable content.\\n\\nWhen he was 14, he opened up for the R&B group 112 at his overnight camp. He’s been rapping ever since. <a href=\"https://www.last.fm/music/Lil+Dicky\">Read more on Last.fm</a>. User-contributed text is available under the Creative Commons By-SA License; additional terms may apply.',\n",
       " 'tags': [{'name': 'Hip-Hop', 'url': 'https://www.last.fm/tag/Hip-Hop'},\n",
       "  {'name': 'rap', 'url': 'https://www.last.fm/tag/rap'},\n",
       "  {'name': 'comedy', 'url': 'https://www.last.fm/tag/comedy'},\n",
       "  {'name': 'hip hop', 'url': 'https://www.last.fm/tag/hip+hop'},\n",
       "  {'name': 'seen live', 'url': 'https://www.last.fm/tag/seen+live'}],\n",
       " 'mbid': '690dbe70-267c-417f-af1f-c449bf40f09b'}"
      ]
     },
     "execution_count": 205,
     "metadata": {},
     "output_type": "execute_result"
    }
   ],
   "source": [
    "lil_clown_car[5]"
   ]
  },
  {
   "cell_type": "code",
   "execution_count": null,
   "metadata": {},
   "outputs": [
    {
     "data": {
      "text/plain": [
       "{'artist': 'Lil Darkie',\n",
       " 'listeners': 468433,\n",
       " 'xl-image': 'https://lastfm.freetls.fastly.net/i/u/300x300/2a96cbd8b46e442fc41c2b86b821562f.png',\n",
       " 'bio-summary': 'Lil Dicky (or LD) (born David Andrew Burd on 15 March 1988) is an American rapper and comedian. He came to prominence with the release of the music video of his song \"Ex-Boyfriend\", which went viral with more than one million views on YouTube in 24 hours. He released his debut album Professional Rapper on July 31, 2015. In 2018, his song \"Freaky Friday\", featuring Chris Brown, became a worldwide hit.\\n\\nIn an era where rap is dominated by racial, social <a href=\"https://www.last.fm/music/Lil+Dicky\">Read more on Last.fm</a>',\n",
       " 'bio-content': 'Lil Dicky (or LD) (born David Andrew Burd on 15 March 1988) is an American rapper and comedian. He came to prominence with the release of the music video of his song \"Ex-Boyfriend\", which went viral with more than one million views on YouTube in 24 hours. He released his debut album Professional Rapper on July 31, 2015. In 2018, his song \"Freaky Friday\", featuring Chris Brown, became a worldwide hit.\\n\\nIn an era where rap is dominated by racial, social, and economic minorities, LD decided to put the upper-middle class on his frail, Jewish shoulders. The results have been monumental. His debut mixtape, So Hard, has been categorized as “funny,” and “impressive” by his friends.\\n\\nOn 31st July 2015, Mr. Leftward-Sloping Penis released PROFESSIONAL RAPPER, featuring Snoop Dogg, Fetty Wap, Rich Homie Quan, T-Pain, Jace of Two-9 & brain. \\n\\nA non-traditional rapper, Lil Dicky uses a mix of comedy, lyrical ingenuity, and self-deprecation to spew out entertaining and relatable content.\\n\\nWhen he was 14, he opened up for the R&B group 112 at his overnight camp. He’s been rapping ever since. <a href=\"https://www.last.fm/music/Lil+Dicky\">Read more on Last.fm</a>. User-contributed text is available under the Creative Commons By-SA License; additional terms may apply.',\n",
       " 'tags': [{'name': 'Hip-Hop', 'url': 'https://www.last.fm/tag/Hip-Hop'},\n",
       "  {'name': 'rap', 'url': 'https://www.last.fm/tag/rap'},\n",
       "  {'name': 'comedy', 'url': 'https://www.last.fm/tag/comedy'},\n",
       "  {'name': 'hip hop', 'url': 'https://www.last.fm/tag/hip+hop'},\n",
       "  {'name': 'seen live', 'url': 'https://www.last.fm/tag/seen+live'}],\n",
       " 'mbid': '4c3e4a6b-8c52-4037-bfdf-cdefac1be052'}"
      ]
     },
     "execution_count": 208,
     "metadata": {},
     "output_type": "execute_result"
    }
   ],
   "source": [
    "lil_clown_car[12]"
   ]
  },
  {
   "cell_type": "code",
   "execution_count": null,
   "metadata": {},
   "outputs": [
    {
     "name": "stdout",
     "output_type": "stream",
     "text": [
      "0: Lil Uzi Vert: (ID) 1\n",
      "1: Lil Peep: (ID) 1\n",
      "2: Lil Nas X: (ID) 1\n",
      "3: Lil Wayne: (ID) 1\n",
      "4: Lily Allen: (ID) 1\n",
      "5: 400+: (ID) 1\n",
      "6: Lil Tecca: (ID) 1\n",
      "7: Lil Yachty: (ID) 1\n",
      "8: Lil Tjay: (ID) 1\n",
      "9: Lil Wayne: (ID) 1\n",
      "10: Lil Durk: (ID) 1\n",
      "11: Lil Skies: (ID) 1\n",
      "12: 400+: (ID) 1\n",
      "13: Lil Mosey: (ID) 1\n",
      "14: Lil Ugly Mane: (ID) 1\n",
      "15: Lil B: (ID) 1\n",
      "16: Lil Pump: (ID) 1\n",
      "17: Lil Tracy: (ID) 1\n",
      "18: Lil Keed: (ID) 1\n",
      "19: Lil Dicky: (ID) 1\n",
      "20: Lil’ Kim: (ID) 1\n",
      "21: Lil Xan: (ID) 1\n",
      "22: Lilly Wood & The Prick: (ID) 1\n",
      "23: Lil Loaded: (ID) 1\n",
      "24: LilyPichu: (ID) 1\n",
      "25: Lil Jon: (ID) 1\n",
      "26: Lil Gnar: (ID) 1\n",
      "27: Lil Jon: (ID) 1\n"
     ]
    },
    {
     "ename": "IndexError",
     "evalue": "list index out of range",
     "output_type": "error",
     "traceback": [
      "\u001b[0;31m---------------------------------------------------------------------------\u001b[0m",
      "\u001b[0;31mIndexError\u001b[0m                                Traceback (most recent call last)",
      "\u001b[1;32m/Users/bean/Dropbox/code/lede/homework/04-homework/Last FM API (Music).ipynb Cell 32'\u001b[0m in \u001b[0;36m<cell line: 2>\u001b[0;34m()\u001b[0m\n\u001b[1;32m      <a href='vscode-notebook-cell:/Users/bean/Dropbox/code/lede/homework/04-homework/Last%20FM%20API%20%28Music%29.ipynb#ch0000021?line=3'>4</a>\u001b[0m mbid_query \u001b[39m=\u001b[39m requests\u001b[39m.\u001b[39mget(mbid_query)\n\u001b[1;32m      <a href='vscode-notebook-cell:/Users/bean/Dropbox/code/lede/homework/04-homework/Last%20FM%20API%20%28Music%29.ipynb#ch0000021?line=4'>5</a>\u001b[0m mbid_query \u001b[39m=\u001b[39m mbid_query\u001b[39m.\u001b[39mjson()\n\u001b[0;32m----> <a href='vscode-notebook-cell:/Users/bean/Dropbox/code/lede/homework/04-homework/Last%20FM%20API%20%28Music%29.ipynb#ch0000021?line=5'>6</a>\u001b[0m \u001b[39mif\u001b[39;00m \u001b[39m'\u001b[39m\u001b[39mid\u001b[39m\u001b[39m'\u001b[39m \u001b[39min\u001b[39;00m mbid_query[\u001b[39m'\u001b[39;49m\u001b[39martists\u001b[39;49m\u001b[39m'\u001b[39;49m][\u001b[39m0\u001b[39;49m]\u001b[39m.\u001b[39mkeys():\n\u001b[1;32m      <a href='vscode-notebook-cell:/Users/bean/Dropbox/code/lede/homework/04-homework/Last%20FM%20API%20%28Music%29.ipynb#ch0000021?line=6'>7</a>\u001b[0m     \u001b[39mprint\u001b[39m(\u001b[39mf\u001b[39m\u001b[39m\"\u001b[39m\u001b[39m{\u001b[39;00mclown_count\u001b[39m}\u001b[39;00m\u001b[39m: \u001b[39m\u001b[39m{\u001b[39;00mmbid_query[\u001b[39m'\u001b[39m\u001b[39martists\u001b[39m\u001b[39m'\u001b[39m][\u001b[39m0\u001b[39m][\u001b[39m'\u001b[39m\u001b[39mname\u001b[39m\u001b[39m'\u001b[39m]\u001b[39m}\u001b[39;00m\u001b[39m: (ID) 1\u001b[39m\u001b[39m\"\u001b[39m)\n\u001b[1;32m      <a href='vscode-notebook-cell:/Users/bean/Dropbox/code/lede/homework/04-homework/Last%20FM%20API%20%28Music%29.ipynb#ch0000021?line=7'>8</a>\u001b[0m \u001b[39melif\u001b[39;00m \u001b[39m'\u001b[39m\u001b[39mmbid\u001b[39m\u001b[39m'\u001b[39m \u001b[39min\u001b[39;00m mbid_query[\u001b[39m'\u001b[39m\u001b[39martists\u001b[39m\u001b[39m'\u001b[39m]\u001b[39m.\u001b[39mkeys():\n",
      "\u001b[0;31mIndexError\u001b[0m: list index out of range"
     ]
    }
   ],
   "source": [
    "for clown_count, clown in enumerate(lil_clown_car):\n",
    "    mbid_query = mbid_query_endpoint + str(lil_clown_car[clown_count][\"artist\"]).replace(\" \", \"%\").lower() + \"&fmt=json\"\n",
    "    mbid_query = requests.get(mbid_query)\n",
    "    mbid_query = mbid_query.json()\n",
    "    if 'id' in mbid_query['artists'][0].keys():\n",
    "        print(f\"{clown_count}: {mbid_query['artists'][0]['name']}: (ID) 1\")\n",
    "    elif 'mbid' in mbid_query['artists'].keys():\n",
    "        print(f\"{clown_count}: {mbid_query['artists'][0]['name']}: (MBID) 1\")\n",
    "    else: print(f\"{clown_count}: ?\") # lil_clown_car[clown_count][\"mbid\"] = None\n",
    "\n",
    "    time.sleep(0.5)\n"
   ]
  },
  {
   "cell_type": "code",
   "execution_count": null,
   "metadata": {},
   "outputs": [
    {
     "data": {
      "text/plain": [
       "'https://musicbrainz.org/ws/2/artist/?query=artist:lil%darkie&method=indexed&fmt=json'"
      ]
     },
     "execution_count": 211,
     "metadata": {},
     "output_type": "execute_result"
    }
   ],
   "source": [
    "mbid_query = mbid_query_endpoint + str(lil_clown_car[12][\"artist\"]).replace(\" \", \"%\").lower() + \"&method=indexed\" + \"&fmt=json\"\n",
    "mbid_query"
   ]
  },
  {
   "cell_type": "code",
   "execution_count": null,
   "metadata": {},
   "outputs": [
    {
     "data": {
      "text/plain": [
       "dict_keys(['artist', 'listeners', 'xl-image', 'bio-summary', 'bio-content', 'tags', 'mbid'])"
      ]
     },
     "execution_count": 98,
     "metadata": {},
     "output_type": "execute_result"
    }
   ],
   "source": [
    "lil_clown_car[1].keys()"
   ]
  },
  {
   "cell_type": "code",
   "execution_count": null,
   "metadata": {},
   "outputs": [],
   "source": [
    "LFM_mbid_query = ('')\n",
    "mbid_bio_search = (\n",
    "    LFM_master_ep\n",
    "    + \"artist.getinfo&mbid=\"\n",
    "    + lil_dicky_mbid\n",
    "    + \"&api_key=\"\n",
    "    + LFM_key\n",
    "    + \"&format=json\"\n",
    ")\n",
    "# print(mbid_bio_search)\n",
    "mbid_bio_search = requests.get(mbid_bio_search)\n",
    "mbid_bio_search = mbid_bio_search.json()\n",
    "clown_count = 0\n",
    "for clown_count in range(50):  # lil_clown_car:\n",
    "    lil_clown_car[clown_count]['xl-image'] = mbid_bio_search['artist']['image'][-3]['#text']\n",
    "    lil_clown_car[clown_count]['bio-summary'] = mbid_bio_search['artist']['bio']['summary']\n",
    "    lil_clown_car[clown_count]['bio-content'] = mbid_bio_search['artist']['bio']['content']\n",
    "    lil_clown_car[clown_count]['tags'] = mbid_bio_search['artist']['tags']['tag']\n",
    "    clown_count += 1\n",
    "    time.sleep(0.5)"
   ]
  },
  {
   "cell_type": "markdown",
   "metadata": {},
   "source": [
    "## 6) Print every tag of that artist"
   ]
  },
  {
   "cell_type": "markdown",
   "metadata": {},
   "source": [
    "Let's make sure we know where these tags are:"
   ]
  },
  {
   "cell_type": "code",
   "execution_count": null,
   "metadata": {},
   "outputs": [
    {
     "data": {
      "text/plain": [
       "'Hip-Hop'"
      ]
     },
     "execution_count": 66,
     "metadata": {},
     "output_type": "execute_result"
    }
   ],
   "source": [
    "# lil_clown_car[19].keys()\n",
    "# lil_clown_car[19]['tags']\n",
    "# lil_clown_car[19]['tags'][0]['name']  # Yahtzee.\n"
   ]
  },
  {
   "cell_type": "code",
   "execution_count": null,
   "metadata": {},
   "outputs": [
    {
     "name": "stdout",
     "output_type": "stream",
     "text": [
      "Here's a list of all of Lil Dicky's tags:\n",
      "['Hip-Hop', 'rap']\n",
      "\n"
     ]
    }
   ],
   "source": [
    "artist_index = 19\n",
    "artist_tags = [lil_clown_car[artist_index]['tags'][tag]['name'] for tag in range(len(lil_clown_car[artist_index]['tags'][0]))]\n",
    "\n",
    "print(\n",
    "    f\"Here's a list of all of {lil_clown_car[artist_index]['artist']}'s tags:\\n{artist_tags}\\n\"\n",
    ")"
   ]
  },
  {
   "cell_type": "markdown",
   "metadata": {},
   "source": [
    "# GETTING A LITTLE CRAZY\n",
    "\n",
    "So you know your original list of musicians? I want to get tag data for ALL OF THEM. How are we going to do that?\n",
    "\n",
    "## 7) Find the mbids (again)\n",
    "\n",
    "If we have a musician with an mbid of `AAA-AAA-AAA`, we get their info from a url like `http://ws.audioscrobbler.com/blahblah/?api_key=12345&mbid=AAA-AAA-AAA`.\n",
    "\n",
    "|artist|url|\n",
    "|---|---|\n",
    "|`AAA-AAA-AAA`|`http://ws.audioscrobbler.com/blahblah/?api_key=12345&mbid=AAA-AAA-AAA`|\n",
    "|`BBB-BBB-BBB`|`http://ws.audioscrobbler.com/blahblah/?api_key=12345&mbid=BBB-BBB-BBB`|\n",
    "|`CCC-CCC-CCC`|`http://ws.audioscrobbler.com/blahblah/?api_key=12345&mbid=CCC-CCC-CCC`|\n",
    "\n",
    "I guess we should start trying to get a list of all of the mbids.\n",
    "\n",
    "**Loop through your artists, and print out the `mbid` for each artist**\n",
    "\n",
    "- *Tip: You probably need to request your artist search result data again, because you probably saved over `data` with your other API request. Maybe call it `artist_data` this time?*\n",
    "- *Tip: If the artist does NOT have an `mbid`, don't print it.*"
   ]
  },
  {
   "cell_type": "markdown",
   "metadata": {},
   "source": [
    "Let's give myself an even larger pat on the back for doing some heavy lifting earlier, meaning that I can can answer this question with a one-liner."
   ]
  },
  {
   "cell_type": "code",
   "execution_count": null,
   "metadata": {},
   "outputs": [
    {
     "ename": "KeyError",
     "evalue": "'mbid'",
     "output_type": "error",
     "traceback": [
      "\u001b[0;31m---------------------------------------------------------------------------\u001b[0m",
      "\u001b[0;31mKeyError\u001b[0m                                  Traceback (most recent call last)",
      "\u001b[1;32m/Users/bean/Dropbox/code/lede/homework/04-homework/Last FM API (Music).ipynb Cell 39'\u001b[0m in \u001b[0;36m<cell line: 1>\u001b[0;34m()\u001b[0m\n\u001b[0;32m----> <a href='vscode-notebook-cell:/Users/bean/Dropbox/code/lede/homework/04-homework/Last%20FM%20API%20%28Music%29.ipynb#ch0000082?line=0'>1</a>\u001b[0m lil_clown_car[\u001b[39m34\u001b[39;49m][\u001b[39m'\u001b[39;49m\u001b[39mmbid\u001b[39;49m\u001b[39m'\u001b[39;49m]\n",
      "\u001b[0;31mKeyError\u001b[0m: 'mbid'"
     ]
    }
   ],
   "source": [
    "lil_clown_car[34]['mbid']"
   ]
  },
  {
   "cell_type": "code",
   "execution_count": null,
   "metadata": {},
   "outputs": [
    {
     "name": "stdout",
     "output_type": "stream",
     "text": [
      "8837b875-3689-4646-b3fd-d8b53815c7a8\n",
      "df61a38c-83b3-4d67-8a9c-f9c7c09302cf\n",
      "207f750c-5d9d-4202-a2e6-e04661ebb38f\n",
      "4af16f2c-89c0-4715-9e76-3aa986f67031\n",
      "7dcd94eb-e94b-4f0e-92b1-1b9955721531\n",
      "690dbe70-267c-417f-af1f-c449bf40f09b\n",
      "d42a5768-ada1-4fb6-85fd-f61aba6264e0\n",
      "d42a5768-ada1-4fb6-85fd-f61aba6264e0\n",
      "981d39fc-bd00-4cc6-ac67-6410f8b89098\n",
      "981d39fc-bd00-4cc6-ac67-6410f8b89098\n",
      "981d39fc-bd00-4cc6-ac67-6410f8b89098\n",
      "d42a5768-ada1-4fb6-85fd-f61aba6264e0\n",
      "4c3e4a6b-8c52-4037-bfdf-cdefac1be052\n",
      "bc1b5c95-e6d6-46b5-957a-5e8908b02c1e\n",
      "1948ff24-1bd9-4624-815e-296d0a46e81f\n",
      "d74c1850-6006-4334-8ad8-ab2306918442\n",
      "251541e9-4212-4350-99f0-d347a055cda6\n",
      "e4ee24c5-50a6-42c7-8591-13cd80543e76\n",
      "9b5ce0c1-1bc0-4ea2-a8d3-f5ee7af9eda8\n",
      "49357c05-083b-4009-aab1-1b57512d8b58\n",
      "c5c0b34c-8711-4428-b6e9-3e20bbf1a525\n",
      "6aeda67e-11fc-4669-b166-5bab0cd9b54d\n",
      "9c8c3c18-615b-4c01-af46-5c3e038178fe\n",
      "cdf110e0-7265-4c2d-94a7-e0cd93fb3211\n"
     ]
    },
    {
     "ename": "KeyError",
     "evalue": "'mbid'",
     "output_type": "error",
     "traceback": [
      "\u001b[0;31m---------------------------------------------------------------------------\u001b[0m",
      "\u001b[0;31mKeyError\u001b[0m                                  Traceback (most recent call last)",
      "\u001b[1;32m/Users/bean/Dropbox/code/lede/homework/04-homework/Last FM API (Music).ipynb Cell 39'\u001b[0m in \u001b[0;36m<cell line: 2>\u001b[0;34m()\u001b[0m\n\u001b[1;32m      <a href='vscode-notebook-cell:/Users/bean/Dropbox/code/lede/homework/04-homework/Last%20FM%20API%20%28Music%29.ipynb#ch0000029?line=0'>1</a>\u001b[0m clown_count \u001b[39m=\u001b[39m \u001b[39m0\u001b[39m\n\u001b[1;32m      <a href='vscode-notebook-cell:/Users/bean/Dropbox/code/lede/homework/04-homework/Last%20FM%20API%20%28Music%29.ipynb#ch0000029?line=1'>2</a>\u001b[0m \u001b[39mfor\u001b[39;00m clown_count \u001b[39min\u001b[39;00m \u001b[39mrange\u001b[39m(\u001b[39mlen\u001b[39m(lil_clown_car)):\n\u001b[0;32m----> <a href='vscode-notebook-cell:/Users/bean/Dropbox/code/lede/homework/04-homework/Last%20FM%20API%20%28Music%29.ipynb#ch0000029?line=2'>3</a>\u001b[0m     \u001b[39mif\u001b[39;00m lil_clown_car[clown_count][\u001b[39m'\u001b[39;49m\u001b[39mmbid\u001b[39;49m\u001b[39m'\u001b[39;49m] \u001b[39m!=\u001b[39m \u001b[39mNone\u001b[39;00m:\n\u001b[1;32m      <a href='vscode-notebook-cell:/Users/bean/Dropbox/code/lede/homework/04-homework/Last%20FM%20API%20%28Music%29.ipynb#ch0000029?line=3'>4</a>\u001b[0m         \u001b[39mprint\u001b[39m(lil_clown_car[clown_count][\u001b[39m'\u001b[39m\u001b[39mmbid\u001b[39m\u001b[39m'\u001b[39m])\n\u001b[1;32m      <a href='vscode-notebook-cell:/Users/bean/Dropbox/code/lede/homework/04-homework/Last%20FM%20API%20%28Music%29.ipynb#ch0000029?line=4'>5</a>\u001b[0m     clown_count \u001b[39m+\u001b[39m\u001b[39m=\u001b[39m \u001b[39m1\u001b[39m\n",
      "\u001b[0;31mKeyError\u001b[0m: 'mbid'"
     ]
    }
   ],
   "source": [
    "clown_count = 0\n",
    "for clown_count in range(len(lil_clown_car)):\n",
    "    if lil_clown_car[clown_count]['mbid'] != None:\n",
    "        print(lil_clown_car[clown_count]['mbid'])\n",
    "    clown_count += 1"
   ]
  },
  {
   "cell_type": "code",
   "execution_count": null,
   "metadata": {},
   "outputs": [],
   "source": []
  },
  {
   "cell_type": "markdown",
   "metadata": {},
   "source": [
    "Your results should look something like\n",
    "\n",
    "```\n",
    "6e0c7c0e-cba5-4c2c-a652-38f71ef5785d\n",
    "1550f952-c91b-40d7-9b4d-d26a259ee932\n",
    "1b72331b-3a97-4981-a81c-eeee9c275d28\n",
    "5f1adfe1-4d07-4141-b181-79e5d379d539\n",
    "a95384b1-6aec-468c-ae0d-8c6daf87c4c2\n",
    "bc1b5c95-e6d6-46b5-957a-5e8908b02c1e\n",
    "243c6f61-d83b-4459-bebd-5899df0da111\n",
    "```"
   ]
  },
  {
   "cell_type": "markdown",
   "metadata": {},
   "source": [
    "## 8) Saving those mbids\n",
    "\n",
    "For those `mbid` values, instead of printing them out, save them to a new list of just mbid values. Call this list `mbids`.\n",
    "\n",
    "- *Tip: Use `.append` to add a single element onto a list*"
   ]
  },
  {
   "cell_type": "code",
   "execution_count": null,
   "metadata": {},
   "outputs": [],
   "source": []
  },
  {
   "cell_type": "markdown",
   "metadata": {},
   "source": [
    "Your results should look something like\n",
    "\n",
    "```['6e0c7c0e-cba5-4c2c-a652-38f71ef5785d',\n",
    " '1550f952-c91b-40d7-9b4d-d26a259ee932',\n",
    " '1b72331b-3a97-4981-a81c-eeee9c275d28',\n",
    " '5f1adfe1-4d07-4141-b181-79e5d379d539',\n",
    " 'a95384b1-6aec-468c-ae0d-8c6daf87c4c2',\n",
    " 'bc1b5c95-e6d6-46b5-957a-5e8908b02c1e',\n",
    " '243c6f61-d83b-4459-bebd-5899df0da111',\n",
    " '8ba17cf6-bec2-4ae4-9820-b1cda47adc08',\n",
    " 'ad29ae1c-2eda-4071-9dc8-31910e7e546c',\n",
    " '3268f062-6e76-480a-a384-e1dd2a276afb',\n",
    " '3ad4f6ec-253f-4050-8849-ca26266edfb8',\n",
    " '9b5ce0c1-1bc0-4ea2-a8d3-f5ee7af9eda8',\n",
    " '981d39fc-bd00-4cc6-ac67-6410f8b89098',\n",
    " 'b89f4c50-72f5-48ce-b08c-a643b191b24f',\n",
    " 'bc21df5c-3d79-479b-b638-8ddb5ecea403',\n",
    " 'c9cd225b-4883-428e-82c2-73e0b6282fb6',\n",
    " '9acaf734-b380-4c48-954c-a2cf1d7990a9',\n",
    " 'd4d5ae85-700c-4a55-8a39-7f923da07ef2',\n",
    " '77fafce8-a32f-4d42-bdce-266bbf913cee',\n",
    " '50ad1cde-1536-4268-a55f-e47a7b8280ab',\n",
    " '9803d120-716d-45ba-9eb7-9a120813f908',\n",
    " 'b27560ea-2783-4a91-be45-9e8711917562',\n",
    " '194e87c9-b3fe-4fbd-82a7-8c54b4dd4c76',\n",
    " 'fd90af91-ed07-4e85-8816-26c954fe5286',\n",
    " '5652bb3e-f225-49de-9637-5aa1539b4a7c']```"
   ]
  },
  {
   "cell_type": "markdown",
   "metadata": {},
   "source": [
    "## 9) Printing our API urls\n",
    "\n",
    "To get tag data for each artist, you need to use those `mbid` values to access their artist page on the API. Loop through the mbids, displying the URL you'll need to access.\n",
    "\n",
    "- *Tip: You don't want to use a comma when printing, because commas add spaces into your text and URLs can't have that*\n",
    "- *Tip: Make sure your URL has `artist.getinfo` in it - if not, you're using the wrong endpoint.*"
   ]
  },
  {
   "cell_type": "code",
   "execution_count": null,
   "metadata": {},
   "outputs": [],
   "source": []
  },
  {
   "cell_type": "markdown",
   "metadata": {},
   "source": [
    "Your results should look something like\n",
    "\n",
    "```http://ws.audioscrobbler.com/2.0/?method=artist.getinfo&api_key=XXXXX&format=json&mbid=6e0c7c0e-cba5-4c2c-a652-38f71ef5785d\n",
    "http://ws.audioscrobbler.com/2.0/?method=artist.getinfo&api_key=XXXXX&format=json&mbid=1550f952-c91b-40d7-9b4d-d26a259ee932\n",
    "http://ws.audioscrobbler.com/2.0/?method=artist.getinfo&api_key=XXXXX&format=json&mbid=1b72331b-3a97-4981-a81c-eeee9c275d28\n",
    "http://ws.audioscrobbler.com/2.0/?method=artist.getinfo&api_key=XXXXX&format=json&mbid=5f1adfe1-4d07-4141-b181-79e5d379d539\n",
    "http://ws.audioscrobbler.com/2.0/?method=artist.getinfo&api_key=XXXXX&format=json&mbid=a95384b1-6aec-468c-ae0d-8c6daf87c4c2\n",
    "http://ws.audioscrobbler.com/2.0/?method=artist.getinfo&api_key=XXXXX&format=json&mbid=bc1b5c95-e6d6-46b5-957a-5e8908b02c1e```"
   ]
  },
  {
   "cell_type": "markdown",
   "metadata": {},
   "source": [
    "## OKAY HERE IS A LITTLE INFORMATION: Using our API urls\n",
    "\n",
    "This time instead of just *displaying* the URL, we're going to *request and process it*. **But first I'm going to teach you something.**\n",
    "\n",
    "When you're dealing with an API, you don't want to make a million requests, have bad code, and then need to do those million requests again. It's usually best to test your code with a few of the results first.\n",
    "\n",
    "So, if we have a list of numbers like this:"
   ]
  },
  {
   "cell_type": "code",
   "execution_count": null,
   "metadata": {},
   "outputs": [],
   "source": [
    "numbers = [4, 5, 6, 7]\n",
    "numbers"
   ]
  },
  {
   "cell_type": "markdown",
   "metadata": {},
   "source": [
    "You can actually say to Python, **give me the first two**, and it will only give you the first two."
   ]
  },
  {
   "cell_type": "code",
   "execution_count": null,
   "metadata": {},
   "outputs": [],
   "source": [
    "numbers[:2]"
   ]
  },
  {
   "cell_type": "markdown",
   "metadata": {},
   "source": [
    "The is **very convenient** with loopng with APIs, because instead of trying to use all FIFTY artists, you can just say \"hey, please try this out with 2 of them\" and you don't waste time."
   ]
  },
  {
   "cell_type": "markdown",
   "metadata": {},
   "source": [
    "## 10) Using the first three `mbids`, request the API urls and print the artist's name.\n",
    "\n",
    "You built the URLs in the last question, now it's time to use them! Use `requests` etc to grab the URL and get out the artist's name.\n",
    "\n",
    "- *Tip: The code is the same as last time you got an artist's name from their info page, it's just going to be inside of a loop*\n",
    "- *Tip: USE `PRINT` TO SEE WHAT YOU ARE LOOKING AT!!!!!*"
   ]
  },
  {
   "cell_type": "code",
   "execution_count": null,
   "metadata": {},
   "outputs": [],
   "source": []
  },
  {
   "cell_type": "markdown",
   "metadata": {},
   "source": [
    "## 11) Using the first three `mbids`, request the API urls and print the artist's name and their tags\n",
    "\n",
    "- *Tip: The code is the same as last time you got an artist's name from their info page, it's just going to be inside of a loop*\n",
    "- *Tip: It's a for loop in a for loop!*"
   ]
  },
  {
   "cell_type": "code",
   "execution_count": null,
   "metadata": {},
   "outputs": [],
   "source": []
  },
  {
   "cell_type": "markdown",
   "metadata": {},
   "source": [
    "## 12) Using the first ten mbids, print the artist's name and whether they're a rapper\n",
    "\n",
    "Only print their name ONCE and only print whether they are hip hop or not ONCE.\n",
    "\n",
    "- *Tip: Rap tags include hip hop, swag, crunk, rap, dirty south, and probably a bunch of other stuff! You can include as many categories as you'd like.*\n",
    "- *Tip: You can use `2 in [1, 2, 3]` to find out if `2` is in the list of `[1, 2, 3]`.*\n",
    "- *Tip: Every time you look at a new artist, you can say they are NOT a rapper. And once you find out one of their tags is hip hop or rap, then you can note that they're a rapper. Then once you're done looking at their tags, then you can say HEY this is a rapper, or HEY this is not a rapper.*"
   ]
  },
  {
   "cell_type": "code",
   "execution_count": null,
   "metadata": {},
   "outputs": [],
   "source": []
  },
  {
   "cell_type": "markdown",
   "metadata": {},
   "source": [
    "Your results might look something like\n",
    "\n",
    "```ARTIST: Lily Allen\n",
    "NO hip hop\n",
    "ARTIST: Lil B\n",
    "YES hip hop\n",
    "ARTIST: Lilly Wood & The Prick\n",
    "NO hip hop\n",
    "ARTIST: Lil Ugly Mane\n",
    "YES hip hop\n",
    "ARTIST: Lil Jon\n",
    "YES hip hop\n",
    "ARTIST: Lil' Kim\n",
    "YES hip hop\n",
    "ARTIST: Lil Jon & The East Side Boyz\n",
    "YES hip hop\n",
    "```"
   ]
  },
  {
   "cell_type": "markdown",
   "metadata": {},
   "source": [
    "## 13) What percent of \"lil\" results are rappers?"
   ]
  },
  {
   "cell_type": "code",
   "execution_count": null,
   "metadata": {},
   "outputs": [],
   "source": []
  },
  {
   "cell_type": "markdown",
   "metadata": {},
   "source": [
    "## 14) Seriously you are all-powerful now."
   ]
  },
  {
   "cell_type": "code",
   "execution_count": null,
   "metadata": {},
   "outputs": [],
   "source": []
  }
 ],
 "metadata": {
  "kernelspec": {
   "display_name": "Python 3.10.3 64-bit ('3.10.3')",
   "language": "python",
   "name": "python3"
  },
  "language_info": {
   "codemirror_mode": {
    "name": "ipython",
    "version": 3
   },
   "file_extension": ".py",
   "mimetype": "text/x-python",
   "name": "python",
   "nbconvert_exporter": "python",
   "pygments_lexer": "ipython3",
   "version": "3.10.3"
  },
  "vscode": {
   "interpreter": {
    "hash": "10626171d4353dd8d0f12b0dae77464b904fee8f635bb045a55f368206a04bde"
   }
  }
 },
 "nbformat": 4,
 "nbformat_minor": 4
}
