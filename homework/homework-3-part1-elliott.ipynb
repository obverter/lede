{
 "cells": [
  {
   "cell_type": "code",
   "execution_count": 1,
   "metadata": {},
   "outputs": [],
   "source": [
    "# PART ONE: Pokemon API\n",
    "\n",
    "# Using the Pokemon API (Links to an external site.):\n",
    "\n",
    "# What is the URL to the documentation?\n",
    "# What pokemon has the ID of 55?\n",
    "# How tall is that pokemon?\n",
    "# How many versions of Pokemon games have been released?\n",
    "# Print out the name of every electric-type pokemon.\n",
    "# What are electric-type Pokemon called in the Korean version of the game?\n",
    "# Who has a higher speed stat, Eevee or Pikachu?\n",
    "# Tips\n",
    "\n",
    "# Be sure to read the documentation!!!\n",
    "\n",
    "# If a question cannot be answered using the API, answer it as \"cannot be answered using the API.\"\n",
    "\n",
    "# We kept seeing the word RESTful again and again. It's a pattern for APIs where you can make certain assumptions about how endpoints are set up. For example, when dealing with an endpoint that gives us ONE pokemon - for example, /pokemon/{id or name} - oftentimes just visiting /pokemon without an id will give us all of the pokemon.\n",
    "\n",
    "# The language code for korean is ko\n",
    "\n",
    "# When comparing Eevee and Pikachu, you'll need to make two requests to the API. Be careful you use different variable names each time, or you'll lose your data!\n",
    "\n",
    "# You can't get the speed stat by looking at something['speed']. You'll need to use a loop, but only save the speed stat.\n",
    " "
   ]
  },
  {
   "cell_type": "code",
   "execution_count": 2,
   "metadata": {},
   "outputs": [
    {
     "name": "stdout",
     "output_type": "stream",
     "text": [
      "The PokeAPI documentation can be found at:\n",
      "https://pokeapi.co/docs/v2\n",
      "\n"
     ]
    }
   ],
   "source": [
    "# What is the URL to the documentation?\n",
    "print(\"The PokeAPI documentation can be found at:\\nhttps://pokeapi.co/docs/v2\\n\")"
   ]
  },
  {
   "cell_type": "code",
   "execution_count": 3,
   "metadata": {},
   "outputs": [],
   "source": [
    "# What pokemon has the ID of 55?"
   ]
  },
  {
   "cell_type": "code",
   "execution_count": 4,
   "metadata": {},
   "outputs": [],
   "source": [
    "import requests"
   ]
  },
  {
   "cell_type": "code",
   "execution_count": 5,
   "metadata": {},
   "outputs": [],
   "source": [
    "pokeurl = 'https://pokeapi.co/api/v2/'\n",
    "response = requests.get(pokeurl)\n",
    "pokedex = response.json()\n",
    "# print(len(pokedex))  # Okay, we have something.\n",
    "# print(type(pokedex))  # yay it's working!...\n",
    "subpages = list(pokedex.keys())  # a list of keys is often handy...\n",
    "subpages_urls = list(pokedex.values())  # so is a list of values..."
   ]
  },
  {
   "cell_type": "code",
   "execution_count": 6,
   "metadata": {},
   "outputs": [
    {
     "name": "stdout",
     "output_type": "stream",
     "text": [
      "pikachu has the ID 25 in the PokeAPI data structure.\n"
     ]
    }
   ],
   "source": [
    "pokeball = input(\"What's the name or ID of the pokémon you would like to dissect?\")\n",
    "pokemon_url = \"https://pokeapi.co/api/v2/pokemon/\" + pokeball\n",
    "\n",
    "pokemon = requests.get(pokemon_url)\n",
    "pokemon = pokemon.json()\n",
    "\n",
    "print(f\"{pokemon['name']} has the ID {pokemon['id']} in the PokeAPI data structure.\")"
   ]
  },
  {
   "cell_type": "code",
   "execution_count": null,
   "metadata": {},
   "outputs": [],
   "source": []
  },
  {
   "cell_type": "code",
   "execution_count": 85,
   "metadata": {},
   "outputs": [
    {
     "name": "stdout",
     "output_type": "stream",
     "text": [
      "['ability', 'berry', 'berry-firmness', 'berry-flavor', 'characteristic', 'contest-effect', 'contest-type', 'egg-group', 'encounter-condition', 'encounter-condition-value', 'encounter-method', 'evolution-chain', 'evolution-trigger', 'gender', 'generation', 'growth-rate', 'item', 'item-attribute', 'item-category', 'item-fling-effect', 'item-pocket', 'language', 'location', 'location-area', 'machine', 'move', 'move-ailment', 'move-battle-style', 'move-category', 'move-damage-class', 'move-learn-method', 'move-target', 'nature', 'pal-park-area', 'pokeathlon-stat', 'pokedex', 'pokemon', 'pokemon-color', 'pokemon-form', 'pokemon-habitat', 'pokemon-shape', 'pokemon-species', 'region', 'stat', 'super-contest-effect', 'type', 'version', 'version-group']\n"
     ]
    }
   ],
   "source": [
    "for subpage in master:\n",
    "    subpages.append(subpage)\n",
    "print(subpages)"
   ]
  },
  {
   "cell_type": "code",
   "execution_count": null,
   "metadata": {},
   "outputs": [],
   "source": [
    "# How tall is that pokemon?"
   ]
  },
  {
   "cell_type": "code",
   "execution_count": 23,
   "metadata": {},
   "outputs": [
    {
     "name": "stdout",
     "output_type": "stream",
     "text": [
      "golduck is listed as 1.7 meters tall in the PokeAPI data structure.\n"
     ]
    }
   ],
   "source": [
    "print(\n",
    "    f\"{pokemon['name']} is listed as {pokemon['height'] / 10} meters tall in the PokeAPI data structure.\"\n",
    ")\n"
   ]
  },
  {
   "cell_type": "code",
   "execution_count": 68,
   "metadata": {},
   "outputs": [
    {
     "name": "stdout",
     "output_type": "stream",
     "text": [
      "- - - -\n",
      "dict_items([('count', 8), ('next', None), ('previous', None), ('results', [{'name': 'generation-i', 'url': 'https://pokeapi.co/api/v2/generation/1/'}, {'name': 'generation-ii', 'url': 'https://pokeapi.co/api/v2/generation/2/'}, {'name': 'generation-iii', 'url': 'https://pokeapi.co/api/v2/generation/3/'}, {'name': 'generation-iv', 'url': 'https://pokeapi.co/api/v2/generation/4/'}, {'name': 'generation-v', 'url': 'https://pokeapi.co/api/v2/generation/5/'}, {'name': 'generation-vi', 'url': 'https://pokeapi.co/api/v2/generation/6/'}, {'name': 'generation-vii', 'url': 'https://pokeapi.co/api/v2/generation/7/'}, {'name': 'generation-viii', 'url': 'https://pokeapi.co/api/v2/generation/8/'}])])\n"
     ]
    }
   ],
   "source": [
    "# How many versions of Pokemon games have been released?\n",
    "pokeid = pokemon['id'] # what is this mess\n",
    "print(\"- - - -\") # what is this mess\n",
    "pokegen = \n",
    "# print(pokegen)\n",
    "# print(\"- - - -\") # what is this mess\n",
    "# print(type(pokegen))  # this is a dictionary\n",
    "# print(\"- - - -\") # what is this mess\n",
    "# print(pokegen.keys())  # these are its keys\n",
    "# print(\"- - - -\") # what is this mess # these are its keys\n",
    "print(pokegen.items())  # these are its keys\n",
    "\n",
    "\n",
    "# print(\n",
    "#     f\"There have been {pokegen['count']} versions of Pokemon games.\"\n",
    "# )\n",
    "\n",
    "\n"
   ]
  },
  {
   "cell_type": "code",
   "execution_count": 55,
   "metadata": {},
   "outputs": [],
   "source": [
    "pokeball = input(\"What Pokémon would you like to dissect? [ID or name]\")\n",
    "pokemon_url = 'https://pokeapi.co/api/v2/pokemon/' + pokeball\n",
    "poke_response = requests.get(pokemon_url)\n",
    "pokemon = poke_response.json()"
   ]
  },
  {
   "cell_type": "code",
   "execution_count": 56,
   "metadata": {},
   "outputs": [
    {
     "data": {
      "text/plain": [
       "dict_keys(['abilities', 'base_experience', 'forms', 'game_indices', 'height', 'held_items', 'id', 'is_default', 'location_area_encounters', 'moves', 'name', 'order', 'past_types', 'species', 'sprites', 'stats', 'types', 'weight'])"
      ]
     },
     "execution_count": 56,
     "metadata": {},
     "output_type": "execute_result"
    }
   ],
   "source": [
    "pokemon.keys()"
   ]
  },
  {
   "cell_type": "code",
   "execution_count": 58,
   "metadata": {},
   "outputs": [
    {
     "ename": "TypeError",
     "evalue": "list indices must be integers or slices, not str",
     "output_type": "error",
     "traceback": [
      "\u001b[0;31m---------------------------------------------------------------------------\u001b[0m",
      "\u001b[0;31mTypeError\u001b[0m                                 Traceback (most recent call last)",
      "\u001b[1;32m/Users/bean/Dropbox/BKM/lede/homework/homework-3-part1-elliott.ipynb Cell 11'\u001b[0m in \u001b[0;36m<cell line: 1>\u001b[0;34m()\u001b[0m\n\u001b[0;32m----> <a href='vscode-notebook-cell:/Users/bean/Dropbox/BKM/lede/homework/homework-3-part1-elliott.ipynb#ch0000011?line=0'>1</a>\u001b[0m pokemon[\u001b[39m'\u001b[39;49m\u001b[39mstats\u001b[39;49m\u001b[39m'\u001b[39;49m][\u001b[39m'\u001b[39;49m\u001b[39mstat\u001b[39;49m\u001b[39m'\u001b[39;49m]\n",
      "\u001b[0;31mTypeError\u001b[0m: list indices must be integers or slices, not str"
     ]
    }
   ],
   "source": [
    "pokemon['stats']"
   ]
  },
  {
   "cell_type": "code",
   "execution_count": null,
   "metadata": {},
   "outputs": [],
   "source": []
  }
 ],
 "metadata": {
  "kernelspec": {
   "display_name": "Python 3.10.3 64-bit ('3.10.3')",
   "language": "python",
   "name": "python3"
  },
  "language_info": {
   "codemirror_mode": {
    "name": "ipython",
    "version": 3
   },
   "file_extension": ".py",
   "mimetype": "text/x-python",
   "name": "python",
   "nbconvert_exporter": "python",
   "pygments_lexer": "ipython3",
   "version": "3.10.3"
  },
  "orig_nbformat": 4,
  "vscode": {
   "interpreter": {
    "hash": "10626171d4353dd8d0f12b0dae77464b904fee8f635bb045a55f368206a04bde"
   }
  }
 },
 "nbformat": 4,
 "nbformat_minor": 2
}
