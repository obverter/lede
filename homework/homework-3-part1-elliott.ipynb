{
 "cells": [
  {
   "cell_type": "code",
   "execution_count": 197,
   "metadata": {},
   "outputs": [],
   "source": [
    "# PART ONE: Pokemon API\n",
    "\n",
    "# Using the Pokemon API (Links to an external site.):\n",
    "\n",
    "# What is the URL to the documentation? ✅\n",
    "# What pokemon has the ID of 55? ✅\n",
    "# How tall is that pokemon?  ✅\n",
    "# How many versions of Pokemon games have been released?  ✅\n",
    "# Print out the name of every electric-type pokemon. ✅\n",
    "# What are electric-type Pokemon called in the Korean version of the game?\n",
    "# Who has a higher speed stat, Eevee or Pikachu?\n",
    "# Tips\n",
    "\n",
    "# Be sure to read the documentation!!!\n",
    "\n",
    "# If a question cannot be answered using the API, answer it as \"cannot be answered using the API.\"\n",
    "\n",
    "# We kept seeing the word RESTful again and again. It's a pattern for APIs where you can make certain assumptions about how endpoints are set up. For example, when dealing with an endpoint that gives us ONE pokemon - for example, /pokemon/{id or name} - oftentimes just visiting /pokemon without an id will give us all of the pokemon.\n",
    "\n",
    "# The language code for korean is ko\n",
    "\n",
    "# When comparing Eevee and Pikachu, you'll need to make two requests to the API. Be careful you use different variable names each time, or you'll lose your data!\n",
    "\n",
    "# You can't get the speed stat by looking at something['speed']. You'll need to use a loop, but only save the speed stat.\n",
    " "
   ]
  },
  {
   "cell_type": "code",
   "execution_count": 198,
   "metadata": {},
   "outputs": [
    {
     "name": "stdout",
     "output_type": "stream",
     "text": [
      "The PokeAPI documentation can be found at:\n",
      "https://pokeapi.co/docs/v2\n",
      "\n"
     ]
    }
   ],
   "source": [
    "# What is the URL to the documentation?\n",
    "print(\"The PokeAPI documentation can be found at:\\nhttps://pokeapi.co/docs/v2\\n\")"
   ]
  },
  {
   "cell_type": "code",
   "execution_count": 199,
   "metadata": {},
   "outputs": [],
   "source": [
    "# What pokemon has the ID of 55?"
   ]
  },
  {
   "cell_type": "code",
   "execution_count": 200,
   "metadata": {},
   "outputs": [],
   "source": [
    "import requests"
   ]
  },
  {
   "cell_type": "code",
   "execution_count": 201,
   "metadata": {},
   "outputs": [],
   "source": [
    "master_endpoint = 'https://pokeapi.co/api/v2/'\n",
    "response = requests.get(master_endpoint)\n",
    "pokewiki = response.json()\n",
    "# print(len(pokewiki))  # Okay, we have something.\n",
    "# print(type(pokewiki))  # yay it's working!...\n",
    "subpages = list(pokewiki.keys())  # a list of keys is often handy...\n",
    "subpages_urls = list(pokewiki.values())  # so is a list of values..."
   ]
  },
  {
   "cell_type": "code",
   "execution_count": 202,
   "metadata": {},
   "outputs": [
    {
     "name": "stdout",
     "output_type": "stream",
     "text": [
      "Golduck has the ID 55 in the PokeAPI data structure.\n"
     ]
    }
   ],
   "source": [
    "pokeball = str(55)\n",
    "# pokeball = input(\"What's the name or ID of the Pokémon you would like to dissect?\")\n",
    "pokemon_url = \"https://pokeapi.co/api/v2/pokemon/\" + pokeball\n",
    "\n",
    "pokemon = requests.get(pokemon_url)\n",
    "pokemon = pokemon.json()\n",
    "\n",
    "print(f\"{(pokemon['name']).capitalize()} has the ID {pokemon['id']} in the PokeAPI data structure.\")"
   ]
  },
  {
   "cell_type": "code",
   "execution_count": 203,
   "metadata": {},
   "outputs": [],
   "source": [
    "# How tall is that pokemon?"
   ]
  },
  {
   "cell_type": "code",
   "execution_count": 204,
   "metadata": {},
   "outputs": [
    {
     "name": "stdout",
     "output_type": "stream",
     "text": [
      "Golduck is listed as 1.7 meters tall in the PokeAPI data structure.\n"
     ]
    }
   ],
   "source": [
    "print(\n",
    "    f\"{pokemon['name'].capitalize()} is listed as {pokemon['height'] / 10} meters tall in the PokeAPI data structure.\"  # listed in decimeters, which is weird. ==> meters\n",
    ")\n"
   ]
  },
  {
   "cell_type": "code",
   "execution_count": 205,
   "metadata": {},
   "outputs": [
    {
     "name": "stdout",
     "output_type": "stream",
     "text": [
      "There have been 16 versions of Pokémon games across 0 generations.\n"
     ]
    }
   ],
   "source": [
    "# How many versions of Pokemon games have been released?\n",
    "# print(subpages)  # where might this info be\n",
    "# print(type(subpages))  # what is it, again? it's a list.\n",
    "# print(subpages.index('generation'))  # here looks good. it's index 14. there's our target url.\n",
    "pokewiki_generation = str(subpages[14])\n",
    "\n",
    "pokegeneration_url = \"https://pokeapi.co/api/v2/\" + pokewiki_generation\n",
    "pokegen = requests.get(pokegeneration_url)\n",
    "pokegen = pokegen.json()\n",
    "# print(type(pokegen))  # good, it's a dict\n",
    "# print(pokegen.keys())  # we want results! (PUN INTENDED)\n",
    "# print(type(pokegen['results']))  # results is a list\n",
    "# print(pokegen['results'])  # results is a list of dicts. Each with its own url.\n",
    "# print(pokegen['results'][0]['url'])  # each gen has its own api url, wherein the information I need is buried. Joy of joys.\n",
    "\n",
    "generation_urls = []  # init generation url list, fill\n",
    "\n",
    "for generation in pokegen[\"results\"]:\n",
    "    generation_urls.append(generation[\"url\"])\n",
    "\n",
    "# print(len(generation_urls))  # looks good, len 8\n",
    "\n",
    "# print(generation_urls[0])\n",
    "\n",
    "\n",
    "gencount = 0  # init counter iter\n",
    "version_groups = []  # assemble list of endpoint urls\n",
    "for generation_endpoint in range(len(generation_urls)):\n",
    "    target_url = (\n",
    "        \"https://pokeapi.co/api/v2/generation/\" + str(generation_endpoint + 1) + \"/\"\n",
    "    )\n",
    "    version_groups.append(target_url)\n",
    "\n",
    "version_count = []  # init list of final count of game versions\n",
    "generation_count = 0\n",
    "for version in version_groups:\n",
    "    generation = requests.get(\n",
    "        version_groups[generation_count]\n",
    "    )  # iter generations, dig version count, throw to list(version_count)\n",
    "    generation = generation.json()\n",
    "    version_count.append(len(generation[\"version_groups\"]))\n",
    "    gencount += 1\n",
    "\n",
    "# print(version_count)\n",
    "\n",
    "print(\n",
    "    f\"There have been {sum(version_count)} versions of Pokémon games across {generation_count} generations.\"\n",
    ")"
   ]
  },
  {
   "cell_type": "code",
   "execution_count": 206,
   "metadata": {},
   "outputs": [],
   "source": [
    "# Print out the name of every electric-type pokemon."
   ]
  },
  {
   "cell_type": "code",
   "execution_count": 207,
   "metadata": {},
   "outputs": [
    {
     "name": "stdout",
     "output_type": "stream",
     "text": [
      "Here's a list of all of the electric pokemon:\n",
      "\n",
      "Pikachu, Raichu, Magnemite, Magneton, Voltorb, Electrode, Electabuzz, Jolteon, Zapdos, Chinchou, Lanturn, Pichu, Mareep, Flaaffy, Ampharos, Elekid, Raikou, Electrike, Manectric, Plusle, Minun, Shinx, Luxio, Luxray, Pachirisu, Magnezone, Electivire, Rotom, Blitzle, Zebstrika, Emolga, Joltik, Galvantula, Tynamo, Eelektrik, Eelektross, Stunfisk, Thundurus-incarnate, Zekrom, Helioptile, Heliolisk, Dedenne, Charjabug, Vikavolt, Togedemaru, Tapu-koko, Xurkitree, Zeraora, Yamper, Boltund, Toxel, Toxtricity-amped, Pincurchin, Morpeko-full-belly, Dracozolt, Arctozolt, Regieleki, Rotom-heat, Rotom-wash, Rotom-frost, Rotom-fan, Rotom-mow, Thundurus-therian, Ampharos-mega, Manectric-mega, Pikachu-rock-star, Pikachu-belle, Pikachu-pop-star, Pikachu-phd, Pikachu-libre, Pikachu-cosplay, Pikachu-original-cap, Pikachu-hoenn-cap, Pikachu-sinnoh-cap, Pikachu-unova-cap, Pikachu-kalos-cap, Pikachu-alola-cap, Raichu-alola, Geodude-alola, Graveler-alola, Golem-alola, Vikavolt-totem, Oricorio-pom-pom, Pikachu-partner-cap, Togedemaru-totem, Pikachu-starter, Pikachu-world-cap, Toxtricity-low-key, Morpeko-hangry, Pikachu-gmax, Toxtricity-amped-gmax, Toxtricity-low-key-gmax.\n",
      "\n",
      "There are 92 of them.\n",
      "\n",
      "To reduce your carbon footprint, you have to catch them all.\n"
     ]
    }
   ],
   "source": [
    "types = requests.get(\"https://pokeapi.co/api/v2/type/\")\n",
    "types = types.json()\n",
    "# print(types)\n",
    "# print(types['results'][0]['name'])\n",
    "\n",
    "flavor_counter = 0\n",
    "flavors = []\n",
    "for flavor in types[\"results\"]:\n",
    "    flavors.append(types[\"results\"][flavor_counter][\"name\"])\n",
    "    flavor_counter += 1\n",
    "# print(flavors)\n",
    "\n",
    "# flavors.index('electric')  # electric is index 12. pokemon counts from 1. electric is ../13. Plus I have a handy list, now. I probably won't need it, but I have it. And that's not nothing.\n",
    "\n",
    "electric = requests.get(\"https://pokeapi.co/api/v2/type/13\")\n",
    "electric = electric.json()\n",
    "electric.keys()\n",
    "electric[\"pokemon\"][0][\"pokemon\"][\"name\"]\n",
    "\n",
    "electric_counter = 0\n",
    "electric_pokemon = []\n",
    "for electremon in electric[\"pokemon\"]:\n",
    "    electric_pokemon.append(electric[\"pokemon\"][electric_counter][\"pokemon\"][\"name\"])\n",
    "    electric_counter += 1\n",
    "# print(electric_pokemon)\n",
    "\n",
    "print(\n",
    "    f\"Here's a list of all of the electric pokemon:\\n\\n{', '.join(str(zap.capitalize()) for zap in electric_pokemon)}.\\n\\nThere are {len(electric_pokemon)} of them.\\n\\nTo reduce your carbon footprint, you have to catch them all.\"\n",
    ")"
   ]
  },
  {
   "cell_type": "code",
   "execution_count": 231,
   "metadata": {},
   "outputs": [
    {
     "name": "stdout",
     "output_type": "stream",
     "text": [
      "Electric-type Pokémon are called 전기 in Korean.\n",
      "\n",
      "Google Translate has decreed that this character is pronounced kind of like 'jeongi', which is super fun to say.\n"
     ]
    }
   ],
   "source": [
    "electric = requests.get(\"https://pokeapi.co/api/v2/type/13\")\n",
    "electric = electric.json()\n",
    "\n",
    "\n",
    "korean_counter = 0\n",
    "korean_name = []\n",
    "for language in electric['names']:\n",
    "    if electric['names'][korean_counter]['language']['name'] == \"ko\":\n",
    "        korean_name.append(electric['names'][1]['name'])\n",
    "        break\n",
    "    else:\n",
    "        korean_counter += 1\n",
    "\n",
    "# print(korean_name)\n",
    "\n",
    "print(\n",
    "    f\"Electric-type Pokémon are called {korean_name[0]} in Korean.\\n\\nGoogle Translate says that this character is pronounced kind of like 'jeongi', which is super fun to say.\"\n",
    ")"
   ]
  },
  {
   "cell_type": "code",
   "execution_count": null,
   "metadata": {},
   "outputs": [
    {
     "name": "stdout",
     "output_type": "stream",
     "text": [
      "{'name': 'water', 'url': 'https://pokeapi.co/api/v2/type/11/'}\n"
     ]
    }
   ],
   "source": [
    "# print(len(pokemon))\n",
    "# print(pokemon.keys())\n",
    "# print(pokemon['types'])\n",
    "print(pokemon['types'][0]['type'])\n",
    "# typer = pokemon['types'][0]['type']['name']\n",
    "\n",
    "# type_range = list(range(1, (len(pokemon) + 1)))\n",
    "\n",
    "# for pokeflavor in type_range:\n",
    "#     print(pokemon['types'])\n",
    "\n",
    "\n",
    "\n",
    "# for type in pokemon:\n",
    "#     print(pokemon['types'][type])\n"
   ]
  },
  {
   "cell_type": "code",
   "execution_count": null,
   "metadata": {},
   "outputs": [
    {
     "ename": "TypeError",
     "evalue": "list indices must be integers or slices, not str",
     "output_type": "error",
     "traceback": [
      "\u001b[0;31m---------------------------------------------------------------------------\u001b[0m",
      "\u001b[0;31mTypeError\u001b[0m                                 Traceback (most recent call last)",
      "\u001b[1;32m/Users/bean/Dropbox/BKM/lede/homework/homework-3-part1-elliott.ipynb Cell 11'\u001b[0m in \u001b[0;36m<cell line: 10>\u001b[0;34m()\u001b[0m\n\u001b[1;32m     <a href='vscode-notebook-cell:/Users/bean/Dropbox/BKM/lede/homework/homework-3-part1-elliott.ipynb#ch0000023?line=9'>10</a>\u001b[0m \u001b[39mwhile\u001b[39;00m flavor_counter \u001b[39m<\u001b[39m \u001b[39mlen\u001b[39m(pokemon):\n\u001b[1;32m     <a href='vscode-notebook-cell:/Users/bean/Dropbox/BKM/lede/homework/homework-3-part1-elliott.ipynb#ch0000023?line=10'>11</a>\u001b[0m     \u001b[39mfor\u001b[39;00m flavor \u001b[39min\u001b[39;00m pokemon[\u001b[39m'\u001b[39m\u001b[39mtypes\u001b[39m\u001b[39m'\u001b[39m]:\n\u001b[0;32m---> <a href='vscode-notebook-cell:/Users/bean/Dropbox/BKM/lede/homework/homework-3-part1-elliott.ipynb#ch0000023?line=11'>12</a>\u001b[0m         \u001b[39mprint\u001b[39m(pokemon[\u001b[39m'\u001b[39;49m\u001b[39mtypes\u001b[39;49m\u001b[39m'\u001b[39;49m][\u001b[39m'\u001b[39;49m\u001b[39mtype\u001b[39;49m\u001b[39m'\u001b[39;49m][flavor_counter]\u001b[39m.\u001b[39mkeys())\n\u001b[1;32m     <a href='vscode-notebook-cell:/Users/bean/Dropbox/BKM/lede/homework/homework-3-part1-elliott.ipynb#ch0000023?line=12'>13</a>\u001b[0m         flavor_counter \u001b[39m+\u001b[39m\u001b[39m=\u001b[39m \u001b[39m1\u001b[39m\n",
      "\u001b[0;31mTypeError\u001b[0m: list indices must be integers or slices, not str"
     ]
    }
   ],
   "source": [
    "# print(pokemon.keys()) #  Where my electric babies at\n",
    "# print(type(pokemon['types'])) #  probably here. let's see.\n",
    "# print(pokemon['types'][0]['type']['name']) #  probably here. let's see.\n",
    "# print(pokemon['types'][0]['type']['name'])  # ding ding ding\n",
    "\n",
    "# print(len(pokemon['types']['type']))\n",
    "# print(pokemon['types'][0].keys())\n",
    "    \n",
    "flavor_counter = 1\n",
    "while flavor_counter < len(pokemon):\n",
    "    for flavor in pokemon['types']:\n",
    "        print(pokemon['types']['type'][flavor_counter].keys())\n",
    "        flavor_counter += 1\n",
    "# type_dict_counter = 0\n",
    "# for flavor in pokemon['types']:\n",
    "#     print(pokemon['types'][type_dict_counter]['type']['name'])\n",
    "#     type_dict_counter += 1\n",
    "    # for type in type_dict:\n",
    "    #     print(\n",
    "    #         f\"{[}\"\n",
    "    #     )\n"
   ]
  },
  {
   "cell_type": "code",
   "execution_count": null,
   "metadata": {},
   "outputs": [],
   "source": []
  },
  {
   "cell_type": "code",
   "execution_count": null,
   "metadata": {},
   "outputs": [],
   "source": []
  }
 ],
 "metadata": {
  "kernelspec": {
   "display_name": "Python 3.10.3 64-bit ('3.10.3')",
   "language": "python",
   "name": "python3"
  },
  "language_info": {
   "codemirror_mode": {
    "name": "ipython",
    "version": 3
   },
   "file_extension": ".py",
   "mimetype": "text/x-python",
   "name": "python",
   "nbconvert_exporter": "python",
   "pygments_lexer": "ipython3",
   "version": "3.10.3"
  },
  "orig_nbformat": 4,
  "vscode": {
   "interpreter": {
    "hash": "10626171d4353dd8d0f12b0dae77464b904fee8f635bb045a55f368206a04bde"
   }
  }
 },
 "nbformat": 4,
 "nbformat_minor": 2
}
