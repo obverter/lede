{
 "cells": [
  {
   "cell_type": "code",
   "execution_count": 2,
   "metadata": {},
   "outputs": [],
   "source": [
    "import json\n",
    "\n",
    "data = json.loads(\n",
    "    '{\"tracks\":[{\"album\":{\"album_type\":\"single\",\"artists\":[{\"external_urls\":{\"spotify\":\"https://open.spotify.com/artist/3TVXtAsR1Inumwj472S9r4\"},\"href\":\"https://api.spotify.com/v1/artists/3TVXtAsR1Inumwj472S9r4\",\"id\":\"3TVXtAsR1Inumwj472S9r4\",\"name\":\"Drake\",\"type\":\"artist\",\"uri\":\"spotify:artist:3TVXtAsR1Inumwj472S9r4\"}],\"available_markets\":[\"CA\",\"MX\",\"US\"],\"external_urls\":{\"spotify\":\"https://open.spotify.com/album/1YxmW7DO2dM05gwMKTbr7l\"},\"href\":\"https://api.spotify.com/v1/albums/1YxmW7DO2dM05gwMKTbr7l\",\"id\":\"1YxmW7DO2dM05gwMKTbr7l\",\"images\":[{\"height\":640,\"url\":\"https://i.scdn.co/image/5b14b24dea78b0a14244ccb86f3bfd20bf77326d\",\"width\":640},{\"height\":300,\"url\":\"https://i.scdn.co/image/177939e6656bd0ae46d12e1f36e9162016d28a3c\",\"width\":300},{\"height\":64,\"url\":\"https://i.scdn.co/image/7b42b976267520f4dbb2f67e1baa63ca13bdbfdb\",\"width\":64}],\"name\":\"Fake Love\",\"type\":\"album\",\"uri\":\"spotify:album:1YxmW7DO2dM05gwMKTbr7l\"},\"artists\":[{\"external_urls\":{\"spotify\":\"https://open.spotify.com/artist/3TVXtAsR1Inumwj472S9r4\"},\"href\":\"https://api.spotify.com/v1/artists/3TVXtAsR1Inumwj472S9r4\",\"id\":\"3TVXtAsR1Inumwj472S9r4\",\"name\":\"Drake\",\"type\":\"artist\",\"uri\":\"spotify:artist:3TVXtAsR1Inumwj472S9r4\"}],\"available_markets\":[\"CA\",\"MX\",\"US\"],\"disc_number\":1,\"duration_ms\":207813,\"explicit\":true,\"external_ids\":{\"isrc\":\"USCM51600333\"},\"external_urls\":{\"spotify\":\"https://open.spotify.com/track/6NMNgWgEAzde5M8U3lc6FN\"},\"href\":\"https://api.spotify.com/v1/tracks/6NMNgWgEAzde5M8U3lc6FN\",\"id\":\"6NMNgWgEAzde5M8U3lc6FN\",\"name\":\"Fake Love\",\"popularity\":90,\"preview_url\":\"https://p.scdn.co/mp3-preview/b1c79b52128cc45a962cb87ba5a616ea6a435356?cid=null\",\"track_number\":1,\"type\":\"track\",\"uri\":\"spotify:track:6NMNgWgEAzde5M8U3lc6FN\"},{\"album\":{\"album_type\":\"album\",\"artists\":[{\"external_urls\":{\"spotify\":\"https://open.spotify.com/artist/3TVXtAsR1Inumwj472S9r4\"},\"href\":\"https://api.spotify.com/v1/artists/3TVXtAsR1Inumwj472S9r4\",\"id\":\"3TVXtAsR1Inumwj472S9r4\",\"name\":\"Drake\",\"type\":\"artist\",\"uri\":\"spotify:artist:3TVXtAsR1Inumwj472S9r4\"}],\"available_markets\":[\"CA\",\"MX\",\"US\"],\"external_urls\":{\"spotify\":\"https://open.spotify.com/album/0G1ffjfFuTUTVjDrVdLimH\"},\"href\":\"https://api.spotify.com/v1/albums/0G1ffjfFuTUTVjDrVdLimH\",\"id\":\"0G1ffjfFuTUTVjDrVdLimH\",\"images\":[{\"height\":640,\"url\":\"https://i.scdn.co/image/e73c706e842eb5233eab7afd3404218a2696d568\",\"width\":640},{\"height\":300,\"url\":\"https://i.scdn.co/image/90f080afbec29a0c58509875a6dd59b3c380e353\",\"width\":300},{\"height\":64,\"url\":\"https://i.scdn.co/image/260c2e74e67a15cf61ac72f8264cc6caec5f7a66\",\"width\":64}],\"name\":\"Views\",\"type\":\"album\",\"uri\":\"spotify:album:0G1ffjfFuTUTVjDrVdLimH\"},\"artists\":[{\"external_urls\":{\"spotify\":\"https://open.spotify.com/artist/3TVXtAsR1Inumwj472S9r4\"},\"href\":\"https://api.spotify.com/v1/artists/3TVXtAsR1Inumwj472S9r4\",\"id\":\"3TVXtAsR1Inumwj472S9r4\",\"name\":\"Drake\",\"type\":\"artist\",\"uri\":\"spotify:artist:3TVXtAsR1Inumwj472S9r4\"},{\"external_urls\":{\"spotify\":\"https://open.spotify.com/artist/3tVQdUvClmAT7URs9V3rsp\"},\"href\":\"https://api.spotify.com/v1/artists/3tVQdUvClmAT7URs9V3rsp\",\"id\":\"3tVQdUvClmAT7URs9V3rsp\",\"name\":\"WizKid\",\"type\":\"artist\",\"uri\":\"spotify:artist:3tVQdUvClmAT7URs9V3rsp\"},{\"external_urls\":{\"spotify\":\"https://open.spotify.com/artist/77DAFfvm3O9zT5dIoG0eIO\"},\"href\":\"https://api.spotify.com/v1/artists/77DAFfvm3O9zT5dIoG0eIO\",\"id\":\"77DAFfvm3O9zT5dIoG0eIO\",\"name\":\"Kyla\",\"type\":\"artist\",\"uri\":\"spotify:artist:77DAFfvm3O9zT5dIoG0eIO\"}],\"available_markets\":[\"CA\",\"MX\",\"US\"],\"disc_number\":1,\"duration_ms\":173986,\"explicit\":false,\"external_ids\":{\"isrc\":\"USCM51600028\"},\"external_urls\":{\"spotify\":\"https://open.spotify.com/track/12VWzyPDBCc8fqeWCAfNwR\"},\"href\":\"https://api.spotify.com/v1/tracks/12VWzyPDBCc8fqeWCAfNwR\",\"id\":\"12VWzyPDBCc8fqeWCAfNwR\",\"name\":\"One Dance\",\"popularity\":84,\"preview_url\":\"https://p.scdn.co/mp3-preview/98f60b086bb1da2ca2e4c217331b8c8cc801358d?cid=null\",\"track_number\":12,\"type\":\"track\",\"uri\":\"spotify:track:12VWzyPDBCc8fqeWCAfNwR\"},{\"album\":{\"album_type\":\"single\",\"artists\":[{\"external_urls\":{\"spotify\":\"https://open.spotify.com/artist/3TVXtAsR1Inumwj472S9r4\"},\"href\":\"https://api.spotify.com/v1/artists/3TVXtAsR1Inumwj472S9r4\",\"id\":\"3TVXtAsR1Inumwj472S9r4\",\"name\":\"Drake\",\"type\":\"artist\",\"uri\":\"spotify:artist:3TVXtAsR1Inumwj472S9r4\"}],\"available_markets\":[\"CA\",\"MX\",\"US\"],\"external_urls\":{\"spotify\":\"https://open.spotify.com/album/2z3NlPY0n0gHJPCPqrzA6V\"},\"href\":\"https://api.spotify.com/v1/albums/2z3NlPY0n0gHJPCPqrzA6V\",\"id\":\"2z3NlPY0n0gHJPCPqrzA6V\",\"images\":[{\"height\":640,\"url\":\"https://i.scdn.co/image/5b14b24dea78b0a14244ccb86f3bfd20bf77326d\",\"width\":640},{\"height\":300,\"url\":\"https://i.scdn.co/image/177939e6656bd0ae46d12e1f36e9162016d28a3c\",\"width\":300},{\"height\":64,\"url\":\"https://i.scdn.co/image/7b42b976267520f4dbb2f67e1baa63ca13bdbfdb\",\"width\":64}],\"name\":\"Sneakin’\",\"type\":\"album\",\"uri\":\"spotify:album:2z3NlPY0n0gHJPCPqrzA6V\"},\"artists\":[{\"external_urls\":{\"spotify\":\"https://open.spotify.com/artist/3TVXtAsR1Inumwj472S9r4\"},\"href\":\"https://api.spotify.com/v1/artists/3TVXtAsR1Inumwj472S9r4\",\"id\":\"3TVXtAsR1Inumwj472S9r4\",\"name\":\"Drake\",\"type\":\"artist\",\"uri\":\"spotify:artist:3TVXtAsR1Inumwj472S9r4\"},{\"external_urls\":{\"spotify\":\"https://open.spotify.com/artist/1URnnhqYAYcrqrcwql10ft\"},\"href\":\"https://api.spotify.com/v1/artists/1URnnhqYAYcrqrcwql10ft\",\"id\":\"1URnnhqYAYcrqrcwql10ft\",\"name\":\"21 Savage\",\"type\":\"artist\",\"uri\":\"spotify:artist:1URnnhqYAYcrqrcwql10ft\"}],\"available_markets\":[\"CA\",\"MX\",\"US\"],\"disc_number\":1,\"duration_ms\":251333,\"explicit\":true,\"external_ids\":{\"isrc\":\"USCM51600337\"},\"external_urls\":{\"spotify\":\"https://open.spotify.com/track/4ckuS4Nj4FZ7i3Def3Br8W\"},\"href\":\"https://api.spotify.com/v1/tracks/4ckuS4Nj4FZ7i3Def3Br8W\",\"id\":\"4ckuS4Nj4FZ7i3Def3Br8W\",\"name\":\"Sneakin’\",\"popularity\":82,\"preview_url\":\"https://p.scdn.co/mp3-preview/4fa89ace286252c33a1ca0d36e7555d6a451a2db?cid=null\",\"track_number\":1,\"type\":\"track\",\"uri\":\"spotify:track:4ckuS4Nj4FZ7i3Def3Br8W\"},{\"album\":{\"album_type\":\"album\",\"artists\":[{\"external_urls\":{\"spotify\":\"https://open.spotify.com/artist/3TVXtAsR1Inumwj472S9r4\"},\"href\":\"https://api.spotify.com/v1/artists/3TVXtAsR1Inumwj472S9r4\",\"id\":\"3TVXtAsR1Inumwj472S9r4\",\"name\":\"Drake\",\"type\":\"artist\",\"uri\":\"spotify:artist:3TVXtAsR1Inumwj472S9r4\"}],\"available_markets\":[\"CA\",\"MX\",\"US\"],\"external_urls\":{\"spotify\":\"https://open.spotify.com/album/0G1ffjfFuTUTVjDrVdLimH\"},\"href\":\"https://api.spotify.com/v1/albums/0G1ffjfFuTUTVjDrVdLimH\",\"id\":\"0G1ffjfFuTUTVjDrVdLimH\",\"images\":[{\"height\":640,\"url\":\"https://i.scdn.co/image/e73c706e842eb5233eab7afd3404218a2696d568\",\"width\":640},{\"height\":300,\"url\":\"https://i.scdn.co/image/90f080afbec29a0c58509875a6dd59b3c380e353\",\"width\":300},{\"height\":64,\"url\":\"https://i.scdn.co/image/260c2e74e67a15cf61ac72f8264cc6caec5f7a66\",\"width\":64}],\"name\":\"Views\",\"type\":\"album\",\"uri\":\"spotify:album:0G1ffjfFuTUTVjDrVdLimH\"},\"artists\":[{\"external_urls\":{\"spotify\":\"https://open.spotify.com/artist/3TVXtAsR1Inumwj472S9r4\"},\"href\":\"https://api.spotify.com/v1/artists/3TVXtAsR1Inumwj472S9r4\",\"id\":\"3TVXtAsR1Inumwj472S9r4\",\"name\":\"Drake\",\"type\":\"artist\",\"uri\":\"spotify:artist:3TVXtAsR1Inumwj472S9r4\"},{\"external_urls\":{\"spotify\":\"https://open.spotify.com/artist/5pKCCKE2ajJHZ9KAiaK11H\"},\"href\":\"https://api.spotify.com/v1/artists/5pKCCKE2ajJHZ9KAiaK11H\",\"id\":\"5pKCCKE2ajJHZ9KAiaK11H\",\"name\":\"Rihanna\",\"type\":\"artist\",\"uri\":\"spotify:artist:5pKCCKE2ajJHZ9KAiaK11H\"}],\"available_markets\":[\"CA\",\"MX\",\"US\"],\"disc_number\":1,\"duration_ms\":263373,\"explicit\":true,\"external_ids\":{\"isrc\":\"USCM51600088\"},\"external_urls\":{\"spotify\":\"https://open.spotify.com/track/7fJtPlEZKxu6gvkfBFc5tW\"},\"href\":\"https://api.spotify.com/v1/tracks/7fJtPlEZKxu6gvkfBFc5tW\",\"id\":\"7fJtPlEZKxu6gvkfBFc5tW\",\"name\":\"Too Good\",\"popularity\":79,\"preview_url\":\"https://p.scdn.co/mp3-preview/e702c76de627c3fb04da1bcbf6a8b53c3326a0cc?cid=null\",\"track_number\":16,\"type\":\"track\",\"uri\":\"spotify:track:7fJtPlEZKxu6gvkfBFc5tW\"},{\"album\":{\"album_type\":\"album\",\"artists\":[{\"external_urls\":{\"spotify\":\"https://open.spotify.com/artist/3TVXtAsR1Inumwj472S9r4\"},\"href\":\"https://api.spotify.com/v1/artists/3TVXtAsR1Inumwj472S9r4\",\"id\":\"3TVXtAsR1Inumwj472S9r4\",\"name\":\"Drake\",\"type\":\"artist\",\"uri\":\"spotify:artist:3TVXtAsR1Inumwj472S9r4\"}],\"available_markets\":[\"CA\",\"MX\",\"US\"],\"external_urls\":{\"spotify\":\"https://open.spotify.com/album/0G1ffjfFuTUTVjDrVdLimH\"},\"href\":\"https://api.spotify.com/v1/albums/0G1ffjfFuTUTVjDrVdLimH\",\"id\":\"0G1ffjfFuTUTVjDrVdLimH\",\"images\":[{\"height\":640,\"url\":\"https://i.scdn.co/image/e73c706e842eb5233eab7afd3404218a2696d568\",\"width\":640},{\"height\":300,\"url\":\"https://i.scdn.co/image/90f080afbec29a0c58509875a6dd59b3c380e353\",\"width\":300},{\"height\":64,\"url\":\"https://i.scdn.co/image/260c2e74e67a15cf61ac72f8264cc6caec5f7a66\",\"width\":64}],\"name\":\"Views\",\"type\":\"album\",\"uri\":\"spotify:album:0G1ffjfFuTUTVjDrVdLimH\"},\"artists\":[{\"external_urls\":{\"spotify\":\"https://open.spotify.com/artist/3TVXtAsR1Inumwj472S9r4\"},\"href\":\"https://api.spotify.com/v1/artists/3TVXtAsR1Inumwj472S9r4\",\"id\":\"3TVXtAsR1Inumwj472S9r4\",\"name\":\"Drake\",\"type\":\"artist\",\"uri\":\"spotify:artist:3TVXtAsR1Inumwj472S9r4\"}],\"available_markets\":[\"CA\",\"MX\",\"US\"],\"disc_number\":1,\"duration_ms\":245226,\"explicit\":true,\"external_ids\":{\"isrc\":\"USCM51600080\"},\"external_urls\":{\"spotify\":\"https://open.spotify.com/track/4CpKEkdGbOJV51cSvx7SoG\"},\"href\":\"https://api.spotify.com/v1/tracks/4CpKEkdGbOJV51cSvx7SoG\",\"id\":\"4CpKEkdGbOJV51cSvx7SoG\",\"name\":\"Controlla\",\"popularity\":79,\"preview_url\":\"https://p.scdn.co/mp3-preview/c5b5845dc83410f5731e395c5a725d6b6e94ff69?cid=null\",\"track_number\":11,\"type\":\"track\",\"uri\":\"spotify:track:4CpKEkdGbOJV51cSvx7SoG\"},{\"album\":{\"album_type\":\"album\",\"artists\":[{\"external_urls\":{\"spotify\":\"https://open.spotify.com/artist/3TVXtAsR1Inumwj472S9r4\"},\"href\":\"https://api.spotify.com/v1/artists/3TVXtAsR1Inumwj472S9r4\",\"id\":\"3TVXtAsR1Inumwj472S9r4\",\"name\":\"Drake\",\"type\":\"artist\",\"uri\":\"spotify:artist:3TVXtAsR1Inumwj472S9r4\"},{\"external_urls\":{\"spotify\":\"https://open.spotify.com/artist/3ubFn9991d8ygM3MSi7NDi\"},\"href\":\"https://api.spotify.com/v1/artists/3ubFn9991d8ygM3MSi7NDi\",\"id\":\"3ubFn9991d8ygM3MSi7NDi\",\"name\":\"Future\",\"type\":\"artist\",\"uri\":\"spotify:artist:3ubFn9991d8ygM3MSi7NDi\"}],\"available_markets\":[\"CA\",\"MX\",\"US\"],\"external_urls\":{\"spotify\":\"https://open.spotify.com/album/1ozpmkWcCHwsQ4QTnxOOdT\"},\"href\":\"https://api.spotify.com/v1/albums/1ozpmkWcCHwsQ4QTnxOOdT\",\"id\":\"1ozpmkWcCHwsQ4QTnxOOdT\",\"images\":[{\"height\":640,\"url\":\"https://i.scdn.co/image/77b0c91524867cc72d1974f66ad8cd21d063a20e\",\"width\":640},{\"height\":300,\"url\":\"https://i.scdn.co/image/f2405b82d0578dd815a3082ca0f7ec4e18e937a1\",\"width\":300},{\"height\":64,\"url\":\"https://i.scdn.co/image/a5435bb3ab4fabe43bc7f7ce46a6c23aa30d8eae\",\"width\":64}],\"name\":\"What A Time To Be Alive\",\"type\":\"album\",\"uri\":\"spotify:album:1ozpmkWcCHwsQ4QTnxOOdT\"},\"artists\":[{\"external_urls\":{\"spotify\":\"https://open.spotify.com/artist/3TVXtAsR1Inumwj472S9r4\"},\"href\":\"https://api.spotify.com/v1/artists/3TVXtAsR1Inumwj472S9r4\",\"id\":\"3TVXtAsR1Inumwj472S9r4\",\"name\":\"Drake\",\"type\":\"artist\",\"uri\":\"spotify:artist:3TVXtAsR1Inumwj472S9r4\"},{\"external_urls\":{\"spotify\":\"https://open.spotify.com/artist/3ubFn9991d8ygM3MSi7NDi\"},\"href\":\"https://api.spotify.com/v1/artists/3ubFn9991d8ygM3MSi7NDi\",\"id\":\"3ubFn9991d8ygM3MSi7NDi\",\"name\":\"Future\",\"type\":\"artist\",\"uri\":\"spotify:artist:3ubFn9991d8ygM3MSi7NDi\"}],\"available_markets\":[\"CA\",\"MX\",\"US\"],\"disc_number\":1,\"duration_ms\":205879,\"explicit\":true,\"external_ids\":{\"isrc\":\"USCM51500300\"},\"external_urls\":{\"spotify\":\"https://open.spotify.com/track/27GmP9AWRs744SzKcpJsTZ\"},\"href\":\"https://api.spotify.com/v1/tracks/27GmP9AWRs744SzKcpJsTZ\",\"id\":\"27GmP9AWRs744SzKcpJsTZ\",\"name\":\"Jumpman\",\"popularity\":77,\"preview_url\":\"https://p.scdn.co/mp3-preview/4f3e954bb232a96c196389017d961016c8cbd7fc?cid=null\",\"track_number\":9,\"type\":\"track\",\"uri\":\"spotify:track:27GmP9AWRs744SzKcpJsTZ\"},{\"album\":{\"album_type\":\"album\",\"artists\":[{\"external_urls\":{\"spotify\":\"https://open.spotify.com/artist/3TVXtAsR1Inumwj472S9r4\"},\"href\":\"https://api.spotify.com/v1/artists/3TVXtAsR1Inumwj472S9r4\",\"id\":\"3TVXtAsR1Inumwj472S9r4\",\"name\":\"Drake\",\"type\":\"artist\",\"uri\":\"spotify:artist:3TVXtAsR1Inumwj472S9r4\"}],\"available_markets\":[\"CA\",\"MX\",\"US\"],\"external_urls\":{\"spotify\":\"https://open.spotify.com/album/0G1ffjfFuTUTVjDrVdLimH\"},\"href\":\"https://api.spotify.com/v1/albums/0G1ffjfFuTUTVjDrVdLimH\",\"id\":\"0G1ffjfFuTUTVjDrVdLimH\",\"images\":[{\"height\":640,\"url\":\"https://i.scdn.co/image/e73c706e842eb5233eab7afd3404218a2696d568\",\"width\":640},{\"height\":300,\"url\":\"https://i.scdn.co/image/90f080afbec29a0c58509875a6dd59b3c380e353\",\"width\":300},{\"height\":64,\"url\":\"https://i.scdn.co/image/260c2e74e67a15cf61ac72f8264cc6caec5f7a66\",\"width\":64}],\"name\":\"Views\",\"type\":\"album\",\"uri\":\"spotify:album:0G1ffjfFuTUTVjDrVdLimH\"},\"artists\":[{\"external_urls\":{\"spotify\":\"https://open.spotify.com/artist/3TVXtAsR1Inumwj472S9r4\"},\"href\":\"https://api.spotify.com/v1/artists/3TVXtAsR1Inumwj472S9r4\",\"id\":\"3TVXtAsR1Inumwj472S9r4\",\"name\":\"Drake\",\"type\":\"artist\",\"uri\":\"spotify:artist:3TVXtAsR1Inumwj472S9r4\"}],\"available_markets\":[\"CA\",\"MX\",\"US\"],\"disc_number\":1,\"duration_ms\":267066,\"explicit\":false,\"external_ids\":{\"isrc\":\"USCM51500238\"},\"external_urls\":{\"spotify\":\"https://open.spotify.com/track/1OAYKfE0YdrN7C1yLWaLJo\"},\"href\":\"https://api.spotify.com/v1/tracks/1OAYKfE0YdrN7C1yLWaLJo\",\"id\":\"1OAYKfE0YdrN7C1yLWaLJo\",\"name\":\"Hotline Bling\",\"popularity\":75,\"preview_url\":\"https://p.scdn.co/mp3-preview/53a8f039eb0b567e47868f5a53de4683ba5d5f0c?cid=null\",\"track_number\":20,\"type\":\"track\",\"uri\":\"spotify:track:1OAYKfE0YdrN7C1yLWaLJo\"},{\"album\":{\"album_type\":\"album\",\"artists\":[{\"external_urls\":{\"spotify\":\"https://open.spotify.com/artist/3TVXtAsR1Inumwj472S9r4\"},\"href\":\"https://api.spotify.com/v1/artists/3TVXtAsR1Inumwj472S9r4\",\"id\":\"3TVXtAsR1Inumwj472S9r4\",\"name\":\"Drake\",\"type\":\"artist\",\"uri\":\"spotify:artist:3TVXtAsR1Inumwj472S9r4\"}],\"available_markets\":[\"CA\",\"MX\",\"US\"],\"external_urls\":{\"spotify\":\"https://open.spotify.com/album/0G1ffjfFuTUTVjDrVdLimH\"},\"href\":\"https://api.spotify.com/v1/albums/0G1ffjfFuTUTVjDrVdLimH\",\"id\":\"0G1ffjfFuTUTVjDrVdLimH\",\"images\":[{\"height\":640,\"url\":\"https://i.scdn.co/image/e73c706e842eb5233eab7afd3404218a2696d568\",\"width\":640},{\"height\":300,\"url\":\"https://i.scdn.co/image/90f080afbec29a0c58509875a6dd59b3c380e353\",\"width\":300},{\"height\":64,\"url\":\"https://i.scdn.co/image/260c2e74e67a15cf61ac72f8264cc6caec5f7a66\",\"width\":64}],\"name\":\"Views\",\"type\":\"album\",\"uri\":\"spotify:album:0G1ffjfFuTUTVjDrVdLimH\"},\"artists\":[{\"external_urls\":{\"spotify\":\"https://open.spotify.com/artist/3TVXtAsR1Inumwj472S9r4\"},\"href\":\"https://api.spotify.com/v1/artists/3TVXtAsR1Inumwj472S9r4\",\"id\":\"3TVXtAsR1Inumwj472S9r4\",\"name\":\"Drake\",\"type\":\"artist\",\"uri\":\"spotify:artist:3TVXtAsR1Inumwj472S9r4\"}],\"available_markets\":[\"CA\",\"MX\",\"US\"],\"disc_number\":1,\"duration_ms\":189853,\"explicit\":true,\"external_ids\":{\"isrc\":\"USCM51600078\"},\"external_urls\":{\"spotify\":\"https://open.spotify.com/track/4YJmZfvlheSziXem8HBWrj\"},\"href\":\"https://api.spotify.com/v1/tracks/4YJmZfvlheSziXem8HBWrj\",\"id\":\"4YJmZfvlheSziXem8HBWrj\",\"name\":\"Still Here\",\"popularity\":73,\"preview_url\":\"https://p.scdn.co/mp3-preview/39384d3485d21184dd3719cfd8d644182b0b1d8b?cid=null\",\"track_number\":10,\"type\":\"track\",\"uri\":\"spotify:track:4YJmZfvlheSziXem8HBWrj\"},{\"album\":{\"album_type\":\"single\",\"artists\":[{\"external_urls\":{\"spotify\":\"https://open.spotify.com/artist/3TVXtAsR1Inumwj472S9r4\"},\"href\":\"https://api.spotify.com/v1/artists/3TVXtAsR1Inumwj472S9r4\",\"id\":\"3TVXtAsR1Inumwj472S9r4\",\"name\":\"Drake\",\"type\":\"artist\",\"uri\":\"spotify:artist:3TVXtAsR1Inumwj472S9r4\"}],\"available_markets\":[\"CA\",\"MX\",\"US\"],\"external_urls\":{\"spotify\":\"https://open.spotify.com/album/79qV4McLzhs8U3FyRKnocz\"},\"href\":\"https://api.spotify.com/v1/albums/79qV4McLzhs8U3FyRKnocz\",\"id\":\"79qV4McLzhs8U3FyRKnocz\",\"images\":[{\"height\":640,\"url\":\"https://i.scdn.co/image/2151a609fd5a5ec69586920a85bf308cdf56f3a1\",\"width\":640},{\"height\":300,\"url\":\"https://i.scdn.co/image/9c6eb30ff5270c115b1ecd2b74430e505c281f25\",\"width\":300},{\"height\":64,\"url\":\"https://i.scdn.co/image/ef4e90b4dde72134365a732659dccf9e1bd7b519\",\"width\":64}],\"name\":\"Back To Back\",\"type\":\"album\",\"uri\":\"spotify:album:79qV4McLzhs8U3FyRKnocz\"},\"artists\":[{\"external_urls\":{\"spotify\":\"https://open.spotify.com/artist/3TVXtAsR1Inumwj472S9r4\"},\"href\":\"https://api.spotify.com/v1/artists/3TVXtAsR1Inumwj472S9r4\",\"id\":\"3TVXtAsR1Inumwj472S9r4\",\"name\":\"Drake\",\"type\":\"artist\",\"uri\":\"spotify:artist:3TVXtAsR1Inumwj472S9r4\"}],\"available_markets\":[\"CA\",\"MX\",\"US\"],\"disc_number\":1,\"duration_ms\":170637,\"explicit\":true,\"external_ids\":{\"isrc\":\"USCM51500241\"},\"external_urls\":{\"spotify\":\"https://open.spotify.com/track/5lFDtgWsjRJu8fPOAyJIAK\"},\"href\":\"https://api.spotify.com/v1/tracks/5lFDtgWsjRJu8fPOAyJIAK\",\"id\":\"5lFDtgWsjRJu8fPOAyJIAK\",\"name\":\"Back To Back\",\"popularity\":73,\"preview_url\":\"https://p.scdn.co/mp3-preview/b5bb11586af5cfde7c0eaef26300b2f6f62d2ac4?cid=null\",\"track_number\":1,\"type\":\"track\",\"uri\":\"spotify:track:5lFDtgWsjRJu8fPOAyJIAK\"},{\"album\":{\"album_type\":\"album\",\"artists\":[{\"external_urls\":{\"spotify\":\"https://open.spotify.com/artist/3TVXtAsR1Inumwj472S9r4\"},\"href\":\"https://api.spotify.com/v1/artists/3TVXtAsR1Inumwj472S9r4\",\"id\":\"3TVXtAsR1Inumwj472S9r4\",\"name\":\"Drake\",\"type\":\"artist\",\"uri\":\"spotify:artist:3TVXtAsR1Inumwj472S9r4\"}],\"available_markets\":[\"CA\",\"MX\",\"US\"],\"external_urls\":{\"spotify\":\"https://open.spotify.com/album/0ptlfJfwGTy0Yvrk14JK1I\"},\"href\":\"https://api.spotify.com/v1/albums/0ptlfJfwGTy0Yvrk14JK1I\",\"id\":\"0ptlfJfwGTy0Yvrk14JK1I\",\"images\":[{\"height\":640,\"url\":\"https://i.scdn.co/image/d329671363eb7826b5871eef978841c7db97c757\",\"width\":640},{\"height\":300,\"url\":\"https://i.scdn.co/image/bcd6801c26cb293a45df9b092227395c5b403b4c\",\"width\":300},{\"height\":64,\"url\":\"https://i.scdn.co/image/14d65d4565838431345e35575b8b74d95134990a\",\"width\":64}],\"name\":\"If You\\'re Reading This It\\'s Too Late\",\"type\":\"album\",\"uri\":\"spotify:album:0ptlfJfwGTy0Yvrk14JK1I\"},\"artists\":[{\"external_urls\":{\"spotify\":\"https://open.spotify.com/artist/3TVXtAsR1Inumwj472S9r4\"},\"href\":\"https://api.spotify.com/v1/artists/3TVXtAsR1Inumwj472S9r4\",\"id\":\"3TVXtAsR1Inumwj472S9r4\",\"name\":\"Drake\",\"type\":\"artist\",\"uri\":\"spotify:artist:3TVXtAsR1Inumwj472S9r4\"}],\"available_markets\":[\"CA\",\"MX\",\"US\"],\"disc_number\":1,\"duration_ms\":241853,\"explicit\":true,\"external_ids\":{\"isrc\":\"USCM51500010\"},\"external_urls\":{\"spotify\":\"https://open.spotify.com/track/1ID1QFSNNxi0hiZCNcwjUC\"},\"href\":\"https://api.spotify.com/v1/tracks/1ID1QFSNNxi0hiZCNcwjUC\",\"id\":\"1ID1QFSNNxi0hiZCNcwjUC\",\"name\":\"Legend\",\"popularity\":72,\"preview_url\":\"https://p.scdn.co/mp3-preview/34fe00d7d951e42017bbbd8a424244c3cf1006e1?cid=null\",\"track_number\":1,\"type\":\"track\",\"uri\":\"spotify:track:1ID1QFSNNxi0hiZCNcwjUC\"}]}'\n",
    ")"
   ]
  },
  {
   "cell_type": "code",
   "execution_count": 3,
   "metadata": {},
   "outputs": [
    {
     "name": "stdout",
     "output_type": "stream",
     "text": [
      "<class 'dict'>\n"
     ]
    }
   ],
   "source": [
    "# Let's see what we have\n",
    "print(type(data))"
   ]
  },
  {
   "cell_type": "code",
   "execution_count": 4,
   "metadata": {},
   "outputs": [
    {
     "name": "stdout",
     "output_type": "stream",
     "text": [
      "dict_keys(['tracks'])\n"
     ]
    }
   ],
   "source": [
    "# data is a dictionary.\n",
    "# what are its keys?\n",
    "print(data.keys())"
   ]
  },
  {
   "cell_type": "code",
   "execution_count": 5,
   "metadata": {},
   "outputs": [
    {
     "name": "stdout",
     "output_type": "stream",
     "text": [
      "[{'album': {'album_type': 'single', 'artists': [{'external_urls': {'spotify': 'https://open.spotify.com/artist/3TVXtAsR1Inumwj472S9r4'}, 'href': 'https://api.spotify.com/v1/artists/3TVXtAsR1Inumwj472S9r4', 'id': '3TVXtAsR1Inumwj472S9r4', 'name': 'Drake', 'type': 'artist', 'uri': 'spotify:artist:3TVXtAsR1Inumwj472S9r4'}], 'available_markets': ['CA', 'MX', 'US'], 'external_urls': {'spotify': 'https://open.spotify.com/album/1YxmW7DO2dM05gwMKTbr7l'}, 'href': 'https://api.spotify.com/v1/albums/1YxmW7DO2dM05gwMKTbr7l', 'id': '1YxmW7DO2dM05gwMKTbr7l', 'images': [{'height': 640, 'url': 'https://i.scdn.co/image/5b14b24dea78b0a14244ccb86f3bfd20bf77326d', 'width': 640}, {'height': 300, 'url': 'https://i.scdn.co/image/177939e6656bd0ae46d12e1f36e9162016d28a3c', 'width': 300}, {'height': 64, 'url': 'https://i.scdn.co/image/7b42b976267520f4dbb2f67e1baa63ca13bdbfdb', 'width': 64}], 'name': 'Fake Love', 'type': 'album', 'uri': 'spotify:album:1YxmW7DO2dM05gwMKTbr7l'}, 'artists': [{'external_urls': {'spotify': 'https://open.spotify.com/artist/3TVXtAsR1Inumwj472S9r4'}, 'href': 'https://api.spotify.com/v1/artists/3TVXtAsR1Inumwj472S9r4', 'id': '3TVXtAsR1Inumwj472S9r4', 'name': 'Drake', 'type': 'artist', 'uri': 'spotify:artist:3TVXtAsR1Inumwj472S9r4'}], 'available_markets': ['CA', 'MX', 'US'], 'disc_number': 1, 'duration_ms': 207813, 'explicit': True, 'external_ids': {'isrc': 'USCM51600333'}, 'external_urls': {'spotify': 'https://open.spotify.com/track/6NMNgWgEAzde5M8U3lc6FN'}, 'href': 'https://api.spotify.com/v1/tracks/6NMNgWgEAzde5M8U3lc6FN', 'id': '6NMNgWgEAzde5M8U3lc6FN', 'name': 'Fake Love', 'popularity': 90, 'preview_url': 'https://p.scdn.co/mp3-preview/b1c79b52128cc45a962cb87ba5a616ea6a435356?cid=null', 'track_number': 1, 'type': 'track', 'uri': 'spotify:track:6NMNgWgEAzde5M8U3lc6FN'}, {'album': {'album_type': 'album', 'artists': [{'external_urls': {'spotify': 'https://open.spotify.com/artist/3TVXtAsR1Inumwj472S9r4'}, 'href': 'https://api.spotify.com/v1/artists/3TVXtAsR1Inumwj472S9r4', 'id': '3TVXtAsR1Inumwj472S9r4', 'name': 'Drake', 'type': 'artist', 'uri': 'spotify:artist:3TVXtAsR1Inumwj472S9r4'}], 'available_markets': ['CA', 'MX', 'US'], 'external_urls': {'spotify': 'https://open.spotify.com/album/0G1ffjfFuTUTVjDrVdLimH'}, 'href': 'https://api.spotify.com/v1/albums/0G1ffjfFuTUTVjDrVdLimH', 'id': '0G1ffjfFuTUTVjDrVdLimH', 'images': [{'height': 640, 'url': 'https://i.scdn.co/image/e73c706e842eb5233eab7afd3404218a2696d568', 'width': 640}, {'height': 300, 'url': 'https://i.scdn.co/image/90f080afbec29a0c58509875a6dd59b3c380e353', 'width': 300}, {'height': 64, 'url': 'https://i.scdn.co/image/260c2e74e67a15cf61ac72f8264cc6caec5f7a66', 'width': 64}], 'name': 'Views', 'type': 'album', 'uri': 'spotify:album:0G1ffjfFuTUTVjDrVdLimH'}, 'artists': [{'external_urls': {'spotify': 'https://open.spotify.com/artist/3TVXtAsR1Inumwj472S9r4'}, 'href': 'https://api.spotify.com/v1/artists/3TVXtAsR1Inumwj472S9r4', 'id': '3TVXtAsR1Inumwj472S9r4', 'name': 'Drake', 'type': 'artist', 'uri': 'spotify:artist:3TVXtAsR1Inumwj472S9r4'}, {'external_urls': {'spotify': 'https://open.spotify.com/artist/3tVQdUvClmAT7URs9V3rsp'}, 'href': 'https://api.spotify.com/v1/artists/3tVQdUvClmAT7URs9V3rsp', 'id': '3tVQdUvClmAT7URs9V3rsp', 'name': 'WizKid', 'type': 'artist', 'uri': 'spotify:artist:3tVQdUvClmAT7URs9V3rsp'}, {'external_urls': {'spotify': 'https://open.spotify.com/artist/77DAFfvm3O9zT5dIoG0eIO'}, 'href': 'https://api.spotify.com/v1/artists/77DAFfvm3O9zT5dIoG0eIO', 'id': '77DAFfvm3O9zT5dIoG0eIO', 'name': 'Kyla', 'type': 'artist', 'uri': 'spotify:artist:77DAFfvm3O9zT5dIoG0eIO'}], 'available_markets': ['CA', 'MX', 'US'], 'disc_number': 1, 'duration_ms': 173986, 'explicit': False, 'external_ids': {'isrc': 'USCM51600028'}, 'external_urls': {'spotify': 'https://open.spotify.com/track/12VWzyPDBCc8fqeWCAfNwR'}, 'href': 'https://api.spotify.com/v1/tracks/12VWzyPDBCc8fqeWCAfNwR', 'id': '12VWzyPDBCc8fqeWCAfNwR', 'name': 'One Dance', 'popularity': 84, 'preview_url': 'https://p.scdn.co/mp3-preview/98f60b086bb1da2ca2e4c217331b8c8cc801358d?cid=null', 'track_number': 12, 'type': 'track', 'uri': 'spotify:track:12VWzyPDBCc8fqeWCAfNwR'}, {'album': {'album_type': 'single', 'artists': [{'external_urls': {'spotify': 'https://open.spotify.com/artist/3TVXtAsR1Inumwj472S9r4'}, 'href': 'https://api.spotify.com/v1/artists/3TVXtAsR1Inumwj472S9r4', 'id': '3TVXtAsR1Inumwj472S9r4', 'name': 'Drake', 'type': 'artist', 'uri': 'spotify:artist:3TVXtAsR1Inumwj472S9r4'}], 'available_markets': ['CA', 'MX', 'US'], 'external_urls': {'spotify': 'https://open.spotify.com/album/2z3NlPY0n0gHJPCPqrzA6V'}, 'href': 'https://api.spotify.com/v1/albums/2z3NlPY0n0gHJPCPqrzA6V', 'id': '2z3NlPY0n0gHJPCPqrzA6V', 'images': [{'height': 640, 'url': 'https://i.scdn.co/image/5b14b24dea78b0a14244ccb86f3bfd20bf77326d', 'width': 640}, {'height': 300, 'url': 'https://i.scdn.co/image/177939e6656bd0ae46d12e1f36e9162016d28a3c', 'width': 300}, {'height': 64, 'url': 'https://i.scdn.co/image/7b42b976267520f4dbb2f67e1baa63ca13bdbfdb', 'width': 64}], 'name': 'Sneakin’', 'type': 'album', 'uri': 'spotify:album:2z3NlPY0n0gHJPCPqrzA6V'}, 'artists': [{'external_urls': {'spotify': 'https://open.spotify.com/artist/3TVXtAsR1Inumwj472S9r4'}, 'href': 'https://api.spotify.com/v1/artists/3TVXtAsR1Inumwj472S9r4', 'id': '3TVXtAsR1Inumwj472S9r4', 'name': 'Drake', 'type': 'artist', 'uri': 'spotify:artist:3TVXtAsR1Inumwj472S9r4'}, {'external_urls': {'spotify': 'https://open.spotify.com/artist/1URnnhqYAYcrqrcwql10ft'}, 'href': 'https://api.spotify.com/v1/artists/1URnnhqYAYcrqrcwql10ft', 'id': '1URnnhqYAYcrqrcwql10ft', 'name': '21 Savage', 'type': 'artist', 'uri': 'spotify:artist:1URnnhqYAYcrqrcwql10ft'}], 'available_markets': ['CA', 'MX', 'US'], 'disc_number': 1, 'duration_ms': 251333, 'explicit': True, 'external_ids': {'isrc': 'USCM51600337'}, 'external_urls': {'spotify': 'https://open.spotify.com/track/4ckuS4Nj4FZ7i3Def3Br8W'}, 'href': 'https://api.spotify.com/v1/tracks/4ckuS4Nj4FZ7i3Def3Br8W', 'id': '4ckuS4Nj4FZ7i3Def3Br8W', 'name': 'Sneakin’', 'popularity': 82, 'preview_url': 'https://p.scdn.co/mp3-preview/4fa89ace286252c33a1ca0d36e7555d6a451a2db?cid=null', 'track_number': 1, 'type': 'track', 'uri': 'spotify:track:4ckuS4Nj4FZ7i3Def3Br8W'}, {'album': {'album_type': 'album', 'artists': [{'external_urls': {'spotify': 'https://open.spotify.com/artist/3TVXtAsR1Inumwj472S9r4'}, 'href': 'https://api.spotify.com/v1/artists/3TVXtAsR1Inumwj472S9r4', 'id': '3TVXtAsR1Inumwj472S9r4', 'name': 'Drake', 'type': 'artist', 'uri': 'spotify:artist:3TVXtAsR1Inumwj472S9r4'}], 'available_markets': ['CA', 'MX', 'US'], 'external_urls': {'spotify': 'https://open.spotify.com/album/0G1ffjfFuTUTVjDrVdLimH'}, 'href': 'https://api.spotify.com/v1/albums/0G1ffjfFuTUTVjDrVdLimH', 'id': '0G1ffjfFuTUTVjDrVdLimH', 'images': [{'height': 640, 'url': 'https://i.scdn.co/image/e73c706e842eb5233eab7afd3404218a2696d568', 'width': 640}, {'height': 300, 'url': 'https://i.scdn.co/image/90f080afbec29a0c58509875a6dd59b3c380e353', 'width': 300}, {'height': 64, 'url': 'https://i.scdn.co/image/260c2e74e67a15cf61ac72f8264cc6caec5f7a66', 'width': 64}], 'name': 'Views', 'type': 'album', 'uri': 'spotify:album:0G1ffjfFuTUTVjDrVdLimH'}, 'artists': [{'external_urls': {'spotify': 'https://open.spotify.com/artist/3TVXtAsR1Inumwj472S9r4'}, 'href': 'https://api.spotify.com/v1/artists/3TVXtAsR1Inumwj472S9r4', 'id': '3TVXtAsR1Inumwj472S9r4', 'name': 'Drake', 'type': 'artist', 'uri': 'spotify:artist:3TVXtAsR1Inumwj472S9r4'}, {'external_urls': {'spotify': 'https://open.spotify.com/artist/5pKCCKE2ajJHZ9KAiaK11H'}, 'href': 'https://api.spotify.com/v1/artists/5pKCCKE2ajJHZ9KAiaK11H', 'id': '5pKCCKE2ajJHZ9KAiaK11H', 'name': 'Rihanna', 'type': 'artist', 'uri': 'spotify:artist:5pKCCKE2ajJHZ9KAiaK11H'}], 'available_markets': ['CA', 'MX', 'US'], 'disc_number': 1, 'duration_ms': 263373, 'explicit': True, 'external_ids': {'isrc': 'USCM51600088'}, 'external_urls': {'spotify': 'https://open.spotify.com/track/7fJtPlEZKxu6gvkfBFc5tW'}, 'href': 'https://api.spotify.com/v1/tracks/7fJtPlEZKxu6gvkfBFc5tW', 'id': '7fJtPlEZKxu6gvkfBFc5tW', 'name': 'Too Good', 'popularity': 79, 'preview_url': 'https://p.scdn.co/mp3-preview/e702c76de627c3fb04da1bcbf6a8b53c3326a0cc?cid=null', 'track_number': 16, 'type': 'track', 'uri': 'spotify:track:7fJtPlEZKxu6gvkfBFc5tW'}, {'album': {'album_type': 'album', 'artists': [{'external_urls': {'spotify': 'https://open.spotify.com/artist/3TVXtAsR1Inumwj472S9r4'}, 'href': 'https://api.spotify.com/v1/artists/3TVXtAsR1Inumwj472S9r4', 'id': '3TVXtAsR1Inumwj472S9r4', 'name': 'Drake', 'type': 'artist', 'uri': 'spotify:artist:3TVXtAsR1Inumwj472S9r4'}], 'available_markets': ['CA', 'MX', 'US'], 'external_urls': {'spotify': 'https://open.spotify.com/album/0G1ffjfFuTUTVjDrVdLimH'}, 'href': 'https://api.spotify.com/v1/albums/0G1ffjfFuTUTVjDrVdLimH', 'id': '0G1ffjfFuTUTVjDrVdLimH', 'images': [{'height': 640, 'url': 'https://i.scdn.co/image/e73c706e842eb5233eab7afd3404218a2696d568', 'width': 640}, {'height': 300, 'url': 'https://i.scdn.co/image/90f080afbec29a0c58509875a6dd59b3c380e353', 'width': 300}, {'height': 64, 'url': 'https://i.scdn.co/image/260c2e74e67a15cf61ac72f8264cc6caec5f7a66', 'width': 64}], 'name': 'Views', 'type': 'album', 'uri': 'spotify:album:0G1ffjfFuTUTVjDrVdLimH'}, 'artists': [{'external_urls': {'spotify': 'https://open.spotify.com/artist/3TVXtAsR1Inumwj472S9r4'}, 'href': 'https://api.spotify.com/v1/artists/3TVXtAsR1Inumwj472S9r4', 'id': '3TVXtAsR1Inumwj472S9r4', 'name': 'Drake', 'type': 'artist', 'uri': 'spotify:artist:3TVXtAsR1Inumwj472S9r4'}], 'available_markets': ['CA', 'MX', 'US'], 'disc_number': 1, 'duration_ms': 245226, 'explicit': True, 'external_ids': {'isrc': 'USCM51600080'}, 'external_urls': {'spotify': 'https://open.spotify.com/track/4CpKEkdGbOJV51cSvx7SoG'}, 'href': 'https://api.spotify.com/v1/tracks/4CpKEkdGbOJV51cSvx7SoG', 'id': '4CpKEkdGbOJV51cSvx7SoG', 'name': 'Controlla', 'popularity': 79, 'preview_url': 'https://p.scdn.co/mp3-preview/c5b5845dc83410f5731e395c5a725d6b6e94ff69?cid=null', 'track_number': 11, 'type': 'track', 'uri': 'spotify:track:4CpKEkdGbOJV51cSvx7SoG'}, {'album': {'album_type': 'album', 'artists': [{'external_urls': {'spotify': 'https://open.spotify.com/artist/3TVXtAsR1Inumwj472S9r4'}, 'href': 'https://api.spotify.com/v1/artists/3TVXtAsR1Inumwj472S9r4', 'id': '3TVXtAsR1Inumwj472S9r4', 'name': 'Drake', 'type': 'artist', 'uri': 'spotify:artist:3TVXtAsR1Inumwj472S9r4'}, {'external_urls': {'spotify': 'https://open.spotify.com/artist/3ubFn9991d8ygM3MSi7NDi'}, 'href': 'https://api.spotify.com/v1/artists/3ubFn9991d8ygM3MSi7NDi', 'id': '3ubFn9991d8ygM3MSi7NDi', 'name': 'Future', 'type': 'artist', 'uri': 'spotify:artist:3ubFn9991d8ygM3MSi7NDi'}], 'available_markets': ['CA', 'MX', 'US'], 'external_urls': {'spotify': 'https://open.spotify.com/album/1ozpmkWcCHwsQ4QTnxOOdT'}, 'href': 'https://api.spotify.com/v1/albums/1ozpmkWcCHwsQ4QTnxOOdT', 'id': '1ozpmkWcCHwsQ4QTnxOOdT', 'images': [{'height': 640, 'url': 'https://i.scdn.co/image/77b0c91524867cc72d1974f66ad8cd21d063a20e', 'width': 640}, {'height': 300, 'url': 'https://i.scdn.co/image/f2405b82d0578dd815a3082ca0f7ec4e18e937a1', 'width': 300}, {'height': 64, 'url': 'https://i.scdn.co/image/a5435bb3ab4fabe43bc7f7ce46a6c23aa30d8eae', 'width': 64}], 'name': 'What A Time To Be Alive', 'type': 'album', 'uri': 'spotify:album:1ozpmkWcCHwsQ4QTnxOOdT'}, 'artists': [{'external_urls': {'spotify': 'https://open.spotify.com/artist/3TVXtAsR1Inumwj472S9r4'}, 'href': 'https://api.spotify.com/v1/artists/3TVXtAsR1Inumwj472S9r4', 'id': '3TVXtAsR1Inumwj472S9r4', 'name': 'Drake', 'type': 'artist', 'uri': 'spotify:artist:3TVXtAsR1Inumwj472S9r4'}, {'external_urls': {'spotify': 'https://open.spotify.com/artist/3ubFn9991d8ygM3MSi7NDi'}, 'href': 'https://api.spotify.com/v1/artists/3ubFn9991d8ygM3MSi7NDi', 'id': '3ubFn9991d8ygM3MSi7NDi', 'name': 'Future', 'type': 'artist', 'uri': 'spotify:artist:3ubFn9991d8ygM3MSi7NDi'}], 'available_markets': ['CA', 'MX', 'US'], 'disc_number': 1, 'duration_ms': 205879, 'explicit': True, 'external_ids': {'isrc': 'USCM51500300'}, 'external_urls': {'spotify': 'https://open.spotify.com/track/27GmP9AWRs744SzKcpJsTZ'}, 'href': 'https://api.spotify.com/v1/tracks/27GmP9AWRs744SzKcpJsTZ', 'id': '27GmP9AWRs744SzKcpJsTZ', 'name': 'Jumpman', 'popularity': 77, 'preview_url': 'https://p.scdn.co/mp3-preview/4f3e954bb232a96c196389017d961016c8cbd7fc?cid=null', 'track_number': 9, 'type': 'track', 'uri': 'spotify:track:27GmP9AWRs744SzKcpJsTZ'}, {'album': {'album_type': 'album', 'artists': [{'external_urls': {'spotify': 'https://open.spotify.com/artist/3TVXtAsR1Inumwj472S9r4'}, 'href': 'https://api.spotify.com/v1/artists/3TVXtAsR1Inumwj472S9r4', 'id': '3TVXtAsR1Inumwj472S9r4', 'name': 'Drake', 'type': 'artist', 'uri': 'spotify:artist:3TVXtAsR1Inumwj472S9r4'}], 'available_markets': ['CA', 'MX', 'US'], 'external_urls': {'spotify': 'https://open.spotify.com/album/0G1ffjfFuTUTVjDrVdLimH'}, 'href': 'https://api.spotify.com/v1/albums/0G1ffjfFuTUTVjDrVdLimH', 'id': '0G1ffjfFuTUTVjDrVdLimH', 'images': [{'height': 640, 'url': 'https://i.scdn.co/image/e73c706e842eb5233eab7afd3404218a2696d568', 'width': 640}, {'height': 300, 'url': 'https://i.scdn.co/image/90f080afbec29a0c58509875a6dd59b3c380e353', 'width': 300}, {'height': 64, 'url': 'https://i.scdn.co/image/260c2e74e67a15cf61ac72f8264cc6caec5f7a66', 'width': 64}], 'name': 'Views', 'type': 'album', 'uri': 'spotify:album:0G1ffjfFuTUTVjDrVdLimH'}, 'artists': [{'external_urls': {'spotify': 'https://open.spotify.com/artist/3TVXtAsR1Inumwj472S9r4'}, 'href': 'https://api.spotify.com/v1/artists/3TVXtAsR1Inumwj472S9r4', 'id': '3TVXtAsR1Inumwj472S9r4', 'name': 'Drake', 'type': 'artist', 'uri': 'spotify:artist:3TVXtAsR1Inumwj472S9r4'}], 'available_markets': ['CA', 'MX', 'US'], 'disc_number': 1, 'duration_ms': 267066, 'explicit': False, 'external_ids': {'isrc': 'USCM51500238'}, 'external_urls': {'spotify': 'https://open.spotify.com/track/1OAYKfE0YdrN7C1yLWaLJo'}, 'href': 'https://api.spotify.com/v1/tracks/1OAYKfE0YdrN7C1yLWaLJo', 'id': '1OAYKfE0YdrN7C1yLWaLJo', 'name': 'Hotline Bling', 'popularity': 75, 'preview_url': 'https://p.scdn.co/mp3-preview/53a8f039eb0b567e47868f5a53de4683ba5d5f0c?cid=null', 'track_number': 20, 'type': 'track', 'uri': 'spotify:track:1OAYKfE0YdrN7C1yLWaLJo'}, {'album': {'album_type': 'album', 'artists': [{'external_urls': {'spotify': 'https://open.spotify.com/artist/3TVXtAsR1Inumwj472S9r4'}, 'href': 'https://api.spotify.com/v1/artists/3TVXtAsR1Inumwj472S9r4', 'id': '3TVXtAsR1Inumwj472S9r4', 'name': 'Drake', 'type': 'artist', 'uri': 'spotify:artist:3TVXtAsR1Inumwj472S9r4'}], 'available_markets': ['CA', 'MX', 'US'], 'external_urls': {'spotify': 'https://open.spotify.com/album/0G1ffjfFuTUTVjDrVdLimH'}, 'href': 'https://api.spotify.com/v1/albums/0G1ffjfFuTUTVjDrVdLimH', 'id': '0G1ffjfFuTUTVjDrVdLimH', 'images': [{'height': 640, 'url': 'https://i.scdn.co/image/e73c706e842eb5233eab7afd3404218a2696d568', 'width': 640}, {'height': 300, 'url': 'https://i.scdn.co/image/90f080afbec29a0c58509875a6dd59b3c380e353', 'width': 300}, {'height': 64, 'url': 'https://i.scdn.co/image/260c2e74e67a15cf61ac72f8264cc6caec5f7a66', 'width': 64}], 'name': 'Views', 'type': 'album', 'uri': 'spotify:album:0G1ffjfFuTUTVjDrVdLimH'}, 'artists': [{'external_urls': {'spotify': 'https://open.spotify.com/artist/3TVXtAsR1Inumwj472S9r4'}, 'href': 'https://api.spotify.com/v1/artists/3TVXtAsR1Inumwj472S9r4', 'id': '3TVXtAsR1Inumwj472S9r4', 'name': 'Drake', 'type': 'artist', 'uri': 'spotify:artist:3TVXtAsR1Inumwj472S9r4'}], 'available_markets': ['CA', 'MX', 'US'], 'disc_number': 1, 'duration_ms': 189853, 'explicit': True, 'external_ids': {'isrc': 'USCM51600078'}, 'external_urls': {'spotify': 'https://open.spotify.com/track/4YJmZfvlheSziXem8HBWrj'}, 'href': 'https://api.spotify.com/v1/tracks/4YJmZfvlheSziXem8HBWrj', 'id': '4YJmZfvlheSziXem8HBWrj', 'name': 'Still Here', 'popularity': 73, 'preview_url': 'https://p.scdn.co/mp3-preview/39384d3485d21184dd3719cfd8d644182b0b1d8b?cid=null', 'track_number': 10, 'type': 'track', 'uri': 'spotify:track:4YJmZfvlheSziXem8HBWrj'}, {'album': {'album_type': 'single', 'artists': [{'external_urls': {'spotify': 'https://open.spotify.com/artist/3TVXtAsR1Inumwj472S9r4'}, 'href': 'https://api.spotify.com/v1/artists/3TVXtAsR1Inumwj472S9r4', 'id': '3TVXtAsR1Inumwj472S9r4', 'name': 'Drake', 'type': 'artist', 'uri': 'spotify:artist:3TVXtAsR1Inumwj472S9r4'}], 'available_markets': ['CA', 'MX', 'US'], 'external_urls': {'spotify': 'https://open.spotify.com/album/79qV4McLzhs8U3FyRKnocz'}, 'href': 'https://api.spotify.com/v1/albums/79qV4McLzhs8U3FyRKnocz', 'id': '79qV4McLzhs8U3FyRKnocz', 'images': [{'height': 640, 'url': 'https://i.scdn.co/image/2151a609fd5a5ec69586920a85bf308cdf56f3a1', 'width': 640}, {'height': 300, 'url': 'https://i.scdn.co/image/9c6eb30ff5270c115b1ecd2b74430e505c281f25', 'width': 300}, {'height': 64, 'url': 'https://i.scdn.co/image/ef4e90b4dde72134365a732659dccf9e1bd7b519', 'width': 64}], 'name': 'Back To Back', 'type': 'album', 'uri': 'spotify:album:79qV4McLzhs8U3FyRKnocz'}, 'artists': [{'external_urls': {'spotify': 'https://open.spotify.com/artist/3TVXtAsR1Inumwj472S9r4'}, 'href': 'https://api.spotify.com/v1/artists/3TVXtAsR1Inumwj472S9r4', 'id': '3TVXtAsR1Inumwj472S9r4', 'name': 'Drake', 'type': 'artist', 'uri': 'spotify:artist:3TVXtAsR1Inumwj472S9r4'}], 'available_markets': ['CA', 'MX', 'US'], 'disc_number': 1, 'duration_ms': 170637, 'explicit': True, 'external_ids': {'isrc': 'USCM51500241'}, 'external_urls': {'spotify': 'https://open.spotify.com/track/5lFDtgWsjRJu8fPOAyJIAK'}, 'href': 'https://api.spotify.com/v1/tracks/5lFDtgWsjRJu8fPOAyJIAK', 'id': '5lFDtgWsjRJu8fPOAyJIAK', 'name': 'Back To Back', 'popularity': 73, 'preview_url': 'https://p.scdn.co/mp3-preview/b5bb11586af5cfde7c0eaef26300b2f6f62d2ac4?cid=null', 'track_number': 1, 'type': 'track', 'uri': 'spotify:track:5lFDtgWsjRJu8fPOAyJIAK'}, {'album': {'album_type': 'album', 'artists': [{'external_urls': {'spotify': 'https://open.spotify.com/artist/3TVXtAsR1Inumwj472S9r4'}, 'href': 'https://api.spotify.com/v1/artists/3TVXtAsR1Inumwj472S9r4', 'id': '3TVXtAsR1Inumwj472S9r4', 'name': 'Drake', 'type': 'artist', 'uri': 'spotify:artist:3TVXtAsR1Inumwj472S9r4'}], 'available_markets': ['CA', 'MX', 'US'], 'external_urls': {'spotify': 'https://open.spotify.com/album/0ptlfJfwGTy0Yvrk14JK1I'}, 'href': 'https://api.spotify.com/v1/albums/0ptlfJfwGTy0Yvrk14JK1I', 'id': '0ptlfJfwGTy0Yvrk14JK1I', 'images': [{'height': 640, 'url': 'https://i.scdn.co/image/d329671363eb7826b5871eef978841c7db97c757', 'width': 640}, {'height': 300, 'url': 'https://i.scdn.co/image/bcd6801c26cb293a45df9b092227395c5b403b4c', 'width': 300}, {'height': 64, 'url': 'https://i.scdn.co/image/14d65d4565838431345e35575b8b74d95134990a', 'width': 64}], 'name': \"If You're Reading This It's Too Late\", 'type': 'album', 'uri': 'spotify:album:0ptlfJfwGTy0Yvrk14JK1I'}, 'artists': [{'external_urls': {'spotify': 'https://open.spotify.com/artist/3TVXtAsR1Inumwj472S9r4'}, 'href': 'https://api.spotify.com/v1/artists/3TVXtAsR1Inumwj472S9r4', 'id': '3TVXtAsR1Inumwj472S9r4', 'name': 'Drake', 'type': 'artist', 'uri': 'spotify:artist:3TVXtAsR1Inumwj472S9r4'}], 'available_markets': ['CA', 'MX', 'US'], 'disc_number': 1, 'duration_ms': 241853, 'explicit': True, 'external_ids': {'isrc': 'USCM51500010'}, 'external_urls': {'spotify': 'https://open.spotify.com/track/1ID1QFSNNxi0hiZCNcwjUC'}, 'href': 'https://api.spotify.com/v1/tracks/1ID1QFSNNxi0hiZCNcwjUC', 'id': '1ID1QFSNNxi0hiZCNcwjUC', 'name': 'Legend', 'popularity': 72, 'preview_url': 'https://p.scdn.co/mp3-preview/34fe00d7d951e42017bbbd8a424244c3cf1006e1?cid=null', 'track_number': 1, 'type': 'track', 'uri': 'spotify:track:1ID1QFSNNxi0hiZCNcwjUC'}]\n"
     ]
    }
   ],
   "source": [
    "# It has one key: 'tracks'\n",
    "# let's print 'tracks'\n",
    "print(data['tracks'])"
   ]
  },
  {
   "cell_type": "code",
   "execution_count": 6,
   "metadata": {},
   "outputs": [
    {
     "name": "stdout",
     "output_type": "stream",
     "text": [
      "<class 'list'>\n"
     ]
    }
   ],
   "source": [
    "# It's a hot mess.\n",
    "# What type is 'tracks'?\n",
    "print(type(data['tracks']))"
   ]
  },
  {
   "cell_type": "code",
   "execution_count": 7,
   "metadata": {},
   "outputs": [
    {
     "name": "stdout",
     "output_type": "stream",
     "text": [
      "10\n"
     ]
    }
   ],
   "source": [
    "# The hot mess is a list.\n",
    "# How long is the list?\n",
    "print(len(data['tracks']))"
   ]
  },
  {
   "cell_type": "code",
   "execution_count": 8,
   "metadata": {},
   "outputs": [
    {
     "name": "stdout",
     "output_type": "stream",
     "text": [
      "{'album': {'album_type': 'single', 'artists': [{'external_urls': {'spotify': 'https://open.spotify.com/artist/3TVXtAsR1Inumwj472S9r4'}, 'href': 'https://api.spotify.com/v1/artists/3TVXtAsR1Inumwj472S9r4', 'id': '3TVXtAsR1Inumwj472S9r4', 'name': 'Drake', 'type': 'artist', 'uri': 'spotify:artist:3TVXtAsR1Inumwj472S9r4'}], 'available_markets': ['CA', 'MX', 'US'], 'external_urls': {'spotify': 'https://open.spotify.com/album/1YxmW7DO2dM05gwMKTbr7l'}, 'href': 'https://api.spotify.com/v1/albums/1YxmW7DO2dM05gwMKTbr7l', 'id': '1YxmW7DO2dM05gwMKTbr7l', 'images': [{'height': 640, 'url': 'https://i.scdn.co/image/5b14b24dea78b0a14244ccb86f3bfd20bf77326d', 'width': 640}, {'height': 300, 'url': 'https://i.scdn.co/image/177939e6656bd0ae46d12e1f36e9162016d28a3c', 'width': 300}, {'height': 64, 'url': 'https://i.scdn.co/image/7b42b976267520f4dbb2f67e1baa63ca13bdbfdb', 'width': 64}], 'name': 'Fake Love', 'type': 'album', 'uri': 'spotify:album:1YxmW7DO2dM05gwMKTbr7l'}, 'artists': [{'external_urls': {'spotify': 'https://open.spotify.com/artist/3TVXtAsR1Inumwj472S9r4'}, 'href': 'https://api.spotify.com/v1/artists/3TVXtAsR1Inumwj472S9r4', 'id': '3TVXtAsR1Inumwj472S9r4', 'name': 'Drake', 'type': 'artist', 'uri': 'spotify:artist:3TVXtAsR1Inumwj472S9r4'}], 'available_markets': ['CA', 'MX', 'US'], 'disc_number': 1, 'duration_ms': 207813, 'explicit': True, 'external_ids': {'isrc': 'USCM51600333'}, 'external_urls': {'spotify': 'https://open.spotify.com/track/6NMNgWgEAzde5M8U3lc6FN'}, 'href': 'https://api.spotify.com/v1/tracks/6NMNgWgEAzde5M8U3lc6FN', 'id': '6NMNgWgEAzde5M8U3lc6FN', 'name': 'Fake Love', 'popularity': 90, 'preview_url': 'https://p.scdn.co/mp3-preview/b1c79b52128cc45a962cb87ba5a616ea6a435356?cid=null', 'track_number': 1, 'type': 'track', 'uri': 'spotify:track:6NMNgWgEAzde5M8U3lc6FN'}\n"
     ]
    }
   ],
   "source": [
    "# 'tracks' has len 10\n",
    "# What's the first item in 'tracks'?\n",
    "print(data['tracks'][0])"
   ]
  },
  {
   "cell_type": "code",
   "execution_count": 9,
   "metadata": {},
   "outputs": [
    {
     "name": "stdout",
     "output_type": "stream",
     "text": [
      "<class 'dict'>\n"
     ]
    }
   ],
   "source": [
    "# It's another, hotter mess.\n",
    "# What's this mess's type?\n",
    "print(type(data['tracks'][0]))"
   ]
  },
  {
   "cell_type": "code",
   "execution_count": 10,
   "metadata": {},
   "outputs": [
    {
     "name": "stdout",
     "output_type": "stream",
     "text": [
      "dict_keys(['album', 'artists', 'available_markets', 'disc_number', 'duration_ms', 'explicit', 'external_ids', 'external_urls', 'href', 'id', 'name', 'popularity', 'preview_url', 'track_number', 'type', 'uri'])\n"
     ]
    }
   ],
   "source": [
    "# Oh hey it's another dictionary.\n",
    "# What's in this dictionary?\n",
    "print(data[\"tracks\"][0].keys())"
   ]
  },
  {
   "cell_type": "code",
   "execution_count": 11,
   "metadata": {},
   "outputs": [],
   "source": [
    "# A list of keys.\n",
    "# dict_keys(['album', 'artists', 'available_markets', 'disc_number', 'duration_ms', 'explicit', 'external_ids', 'external_urls', 'href', 'id', 'name', 'popularity', 'preview_url', 'track_number', 'type', 'uri'])"
   ]
  },
  {
   "cell_type": "code",
   "execution_count": 12,
   "metadata": {},
   "outputs": [
    {
     "name": "stdout",
     "output_type": "stream",
     "text": [
      "♪♬♩♪♬♩♪♬♩♪♬♩♪♬♩♪♬♩♪♬♩♪♬♩♪♬♩♪♬♩♪♬♩♪♬♩♪♬♩♪♬♩♪♬♩♪♬♩♪♬♩♪♬♩\n"
     ]
    }
   ],
   "source": [
    "hline = \"♪♬♩♪♬♩♪♬♩♪♬♩♪♬♩♪♬♩♪♬♩♪♬♩♪♬♩♪♬♩♪♬♩♪♬♩♪♬♩♪♬♩♪♬♩♪♬♩♪♬♩♪♬♩\"\n",
    "\n",
    "print(hline)"
   ]
  },
  {
   "cell_type": "code",
   "execution_count": 13,
   "metadata": {},
   "outputs": [
    {
     "name": "stdout",
     "output_type": "stream",
     "text": [
      "\n",
      "1. How many songs are this mess?\n",
      "\n",
      "There are 10 songs in this mess.\n",
      "\n"
     ]
    }
   ],
   "source": [
    "## ?1\n",
    "\n",
    "print(\"\\n1. How many songs are this mess?\\n\")\n",
    "print(f\"There are {len(data['tracks'])} songs in this mess.\\n\")"
   ]
  },
  {
   "cell_type": "code",
   "execution_count": 14,
   "metadata": {},
   "outputs": [
    {
     "name": "stdout",
     "output_type": "stream",
     "text": [
      "\n",
      "2. List the name of each song in this mess along with its popularity.\n",
      "\n",
      "Here is a list of the songs in this mess along with their popularity scores:\n",
      "\n",
      "Fake Love: 90\n",
      "One Dance: 84\n",
      "Sneakin’: 82\n",
      "Too Good: 79\n",
      "Controlla: 79\n",
      "Jumpman: 77\n",
      "Hotline Bling: 75\n",
      "Still Here: 73\n",
      "Back To Back: 73\n",
      "Legend: 72\n"
     ]
    }
   ],
   "source": [
    "## ?2\n",
    "\n",
    "print(\"\\n2. List the name of each song in this mess along with its popularity.\\n\")\n",
    "print(f\"Here is a list of the songs in this mess along with their popularity scores:\\n\")\n",
    "dt = data['tracks']\n",
    "for i in dt:\n",
    "    print(f\"{i['name']}: {i['popularity']}\")"
   ]
  },
  {
   "cell_type": "code",
   "execution_count": 15,
   "metadata": {},
   "outputs": [
    {
     "name": "stdout",
     "output_type": "stream",
     "text": [
      "\n",
      "3. How long would it take, in minutes, to listen to all of these songs in a row?\n",
      "It would take about 36 minutes, 57 seconds to suffer through all of these songs.\n",
      "\n"
     ]
    }
   ],
   "source": [
    "## ?3\n",
    "\n",
    "print(\"\\n3. How long would it take, in minutes, to listen to all of these songs in a row?\")\n",
    "\n",
    "duration_sum = 0  # init duration summifier variable\n",
    "for i in dt:  # summify song durations\n",
    "    duration = i['duration_ms']\n",
    "    duration_sum += int(duration)\n",
    "\n",
    "convert_ms = (duration_sum/1000)  # variables to convert milliseconds to macroseconds\n",
    "minutes = convert_ms // 60\n",
    "seconds = convert_ms % 60\n",
    "\n",
    "print(f\"It would take about {int(minutes)} minutes, {round(seconds)} seconds to suffer through all of these songs.\\n\")"
   ]
  },
  {
   "cell_type": "code",
   "execution_count": 27,
   "metadata": {},
   "outputs": [],
   "source": [
    "## ?4\n",
    "# For each song, list every artist that worked on it.\n",
    "hits = []\n",
    "for i in dt:\n",
    "    hits.append(i['name'])\n",
    "    # contributors = []\n",
    "    # for j in i['artists']:\n",
    "    #     contributors.append(j['name'])"
   ]
  },
  {
   "cell_type": "code",
   "execution_count": 28,
   "metadata": {},
   "outputs": [
    {
     "name": "stdout",
     "output_type": "stream",
     "text": [
      "['Fake Love', 'One Dance', 'Sneakin’', 'Too Good', 'Controlla', 'Jumpman', 'Hotline Bling', 'Still Here', 'Back To Back', 'Legend']\n"
     ]
    }
   ],
   "source": [
    "print(hits)"
   ]
  },
  {
   "cell_type": "code",
   "execution_count": 104,
   "metadata": {},
   "outputs": [
    {
     "name": "stdout",
     "output_type": "stream",
     "text": [
      "['Drake']\n",
      "['Drake']\n",
      "['Drake', 'WizKid']\n",
      "['Drake', 'WizKid', 'Kyla']\n",
      "['Drake']\n",
      "['Drake', '21 Savage']\n",
      "['Drake']\n",
      "['Drake', 'Rihanna']\n",
      "['Drake']\n",
      "['Drake']\n",
      "['Drake', 'Future']\n",
      "['Drake']\n",
      "['Drake']\n",
      "['Drake']\n",
      "['Drake']\n"
     ]
    }
   ],
   "source": [
    "contributors = []\n",
    "for i in dt:\n",
    "    dudes = []\n",
    "    for j in i['artists']:\n",
    "        dudes.append(j['name'])\n",
    "        print(dudes)"
   ]
  },
  {
   "cell_type": "code",
   "execution_count": 100,
   "metadata": {},
   "outputs": [
    {
     "name": "stdout",
     "output_type": "stream",
     "text": [
      "['Drake']\n"
     ]
    }
   ],
   "source": [
    "print(contributors)"
   ]
  },
  {
   "cell_type": "markdown",
   "metadata": {},
   "source": [
    "We need to generate a dictionary of track-dictionaries containing a key for artists.\n",
    "\n",
    "1. Generate an empty \"final\" dictionary. ✅\n",
    "2. Generate a loop through raw data targeting each track. ✅\n",
    "   1. Init target dictionary, which will feed final dictionary. ✅\n",
    "   2. Index loop through data ✅\n",
    "      1. For each track, retrieve track title ✅\n",
    "      2. Store track title in a list. ✅\n",
    "         1. For contributing artists: ✅\n",
    "         2. Store contributing artists in a list.\n",
    "   3. Feed lists into target dictionary\n",
    "   4. Feed target dictionary into final dictionary."
   ]
  },
  {
   "cell_type": "code",
   "execution_count": 157,
   "metadata": {},
   "outputs": [
    {
     "name": "stdout",
     "output_type": "stream",
     "text": [
      "[{'track': 'Fake Love'}, {'contributors': 'Drake'}]\n",
      "[{'track': 'One Dance'}, {'contributors': 'Kyla'}]\n",
      "[{'track': 'Sneakin’'}, {'contributors': '21 Savage'}]\n",
      "[{'track': 'Too Good'}, {'contributors': 'Rihanna'}]\n",
      "[{'track': 'Controlla'}, {'contributors': 'Drake'}]\n",
      "[{'track': 'Jumpman'}, {'contributors': 'Future'}]\n",
      "[{'track': 'Hotline Bling'}, {'contributors': 'Drake'}]\n",
      "[{'track': 'Still Here'}, {'contributors': 'Drake'}]\n",
      "[{'track': 'Back To Back'}, {'contributors': 'Drake'}]\n",
      "[{'track': 'Legend'}, {'contributors': 'Drake'}]\n"
     ]
    }
   ],
   "source": [
    "all_tracks_contributors = {} # final dict\n",
    "for songs in dt:  # master loop\n",
    "    track_artist = []  # loop dict to feed to final\n",
    "    track = {}  # track list to feed to loop dict\n",
    "    track['track'] = songs['name']\n",
    "    track_artist.append(track)# append track name to track list\n",
    "    contributors = {}  # contributor list to feed to loop dict\n",
    "    for folks in songs['artists']:\n",
    "        contributors['contributors'] = folks['name']\n",
    "    track_artist.append(contributors)\n",
    "    print(track_artist)"
   ]
  },
  {
   "cell_type": "code",
   "execution_count": 146,
   "metadata": {},
   "outputs": [
    {
     "name": "stdout",
     "output_type": "stream",
     "text": [
      "['Legend']\n"
     ]
    }
   ],
   "source": [
    "print(track)"
   ]
  },
  {
   "cell_type": "code",
   "execution_count": 147,
   "metadata": {},
   "outputs": [
    {
     "name": "stdout",
     "output_type": "stream",
     "text": [
      "['Drake']\n"
     ]
    }
   ],
   "source": [
    "print(contributors)"
   ]
  },
  {
   "cell_type": "code",
   "execution_count": 109,
   "metadata": {},
   "outputs": [
    {
     "name": "stdout",
     "output_type": "stream",
     "text": [
      "dict_items([('Fake Love', 'Drake'), ('One Dance', 'Drake'), ('Sneakin’', 'Drake'), ('Too Good', 'Drake'), ('Controlla', 'Drake'), ('Jumpman', 'Drake'), ('Hotline Bling', 'Drake'), ('Still Here', 'Drake'), ('Back To Back', 'Drake'), ('Legend', 'Drake')])\n"
     ]
    }
   ],
   "source": [
    "print(all_tracks_contributors.items())"
   ]
  },
  {
   "cell_type": "code",
   "execution_count": 99,
   "metadata": {},
   "outputs": [
    {
     "name": "stdout",
     "output_type": "stream",
     "text": [
      "{'Legend': 'Drake'}\n",
      "['Legend']\n"
     ]
    }
   ],
   "source": [
    "print(track_artist)\n",
    "print(track)"
   ]
  },
  {
   "cell_type": "code",
   "execution_count": 64,
   "metadata": {},
   "outputs": [
    {
     "name": "stdout",
     "output_type": "stream",
     "text": [
      "['Legend']\n",
      "['Drake', 'Drake', 'Drake', 'WizKid', 'Kyla', 'Drake', '21 Savage', 'Drake', 'Rihanna', 'Drake', 'Drake', 'Future', 'Drake', 'Drake', 'Drake', 'Drake']\n"
     ]
    }
   ],
   "source": [
    "print(track)\n",
    "print(artists)"
   ]
  },
  {
   "cell_type": "code",
   "execution_count": null,
   "metadata": {},
   "outputs": [],
   "source": []
  }
 ],
 "metadata": {
  "interpreter": {
   "hash": "10626171d4353dd8d0f12b0dae77464b904fee8f635bb045a55f368206a04bde"
  },
  "kernelspec": {
   "display_name": "Python 3.10.3 64-bit ('3.10.3')",
   "language": "python",
   "name": "python3"
  },
  "language_info": {
   "codemirror_mode": {
    "name": "ipython",
    "version": 3
   },
   "file_extension": ".py",
   "mimetype": "text/x-python",
   "name": "python",
   "nbconvert_exporter": "python",
   "pygments_lexer": "ipython3",
   "version": "3.10.3"
  },
  "orig_nbformat": 4
 },
 "nbformat": 4,
 "nbformat_minor": 2
}
