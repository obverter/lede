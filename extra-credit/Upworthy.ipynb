{
 "cells": [
  {
   "cell_type": "markdown",
   "metadata": {},
   "source": [
    "# Upworthy A/B title testing `5 points`\n",
    "\n",
    "Source: https://www.nature.com/articles/s41597-021-00934-7 and https://upworthy.natematias.com/.\n",
    "\n",
    "The dataset itself is kind of a pain to get to, and can be downloaded directly from [here](https://osf.io/vy8mj/download), as linked to from [this page](https://osf.io/vy8mj/).\n",
    "\n",
    "Description from [Data Is Plural](https://www.data-is-plural.com/archive/2021-08-18-edition/):\n",
    "\n",
    "> The Upworthy Research Archive describes 32,000+ headline-testing experiments conducted in 2013–15 by Upworthy, the online publication that popularized a once-ubiquitous style of headline. The dataset, contributed by the publication to a team of academics, is split into three tranches for use in different phases of research. In total, it covers 150,000+ headline-plus-image permutations; for each, it provides the headline, an image identifier, the number of viewers assigned to see it, the number who clicked, and other details.\n",
    "\n",
    "### Topis covered\n",
    "\n",
    "* String functions\n",
    "* Reading and understanding data dictionaries\n",
    "* Sentiment analysis"
   ]
  },
  {
   "cell_type": "markdown",
   "metadata": {},
   "source": [
    "## Two questions about questions `1 point`\n",
    "\n",
    "\n",
    "Headlines that end in questions are so common there's even a rule about it: Betteridge's law of headlines! It states \"Any headline that ends in a question mark can be answered by the word no.\"\n",
    "\n",
    "### How often were Upworthy headlines phrased as questions?"
   ]
  },
  {
   "cell_type": "markdown",
   "metadata": {},
   "source": []
  },
  {
   "cell_type": "markdown",
   "metadata": {},
   "source": [
    "### Are headlines with question marks more likely to succeed than ones without?\n",
    "\n",
    "Along with your actual answer, defend what you mean by \"succeed\" (for example, what column you picked to represent success). You probably want to read the \"Data Records\" section from the source.\""
   ]
  },
  {
   "cell_type": "code",
   "execution_count": null,
   "metadata": {},
   "outputs": [],
   "source": []
  },
  {
   "cell_type": "markdown",
   "metadata": {},
   "source": [
    "### Upworthy was thought of as an \"obnoxiously positive clickbait\" kind of site. Does the data support this? `3 points`"
   ]
  },
  {
   "cell_type": "code",
   "execution_count": null,
   "metadata": {},
   "outputs": [],
   "source": []
  },
  {
   "cell_type": "markdown",
   "metadata": {},
   "source": [
    "### Were the selected headlines more likely to be positive or negative? `1 point`"
   ]
  },
  {
   "cell_type": "code",
   "execution_count": null,
   "metadata": {},
   "outputs": [],
   "source": []
  }
 ],
 "metadata": {
  "kernelspec": {
   "display_name": "Python 3",
   "language": "python",
   "name": "python3"
  },
  "language_info": {
   "codemirror_mode": {
    "name": "ipython",
    "version": 3
   },
   "file_extension": ".py",
   "mimetype": "text/x-python",
   "name": "python",
   "nbconvert_exporter": "python",
   "pygments_lexer": "ipython3",
   "version": "3.8.2"
  }
 },
 "nbformat": 4,
 "nbformat_minor": 4
}
