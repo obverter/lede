{
 "cells": [
  {
   "cell_type": "markdown",
   "metadata": {},
   "source": [
    "# UFOs `5 points`\n",
    "\n",
    "Source: https://www.theblackvault.com/documentarchive/ufos-the-central-intelligence-agency-cia-collection/\n",
    "\n",
    "Description: FOIA results from an inquiry to the CIA about UFO documents. We'll be working from the [original source material](https://documents2.theblackvault.com/documents/cia/CIAUFOCD-FULL-UNTOUCHED.zip).\n",
    "\n",
    "**Topics:**\n",
    "\n",
    "* OCR\n",
    "* Unsearchable documents to searchable documents"
   ]
  },
  {
   "cell_type": "markdown",
   "metadata": {},
   "source": [
    "### Convert `C05515649.tif` to text `1 point`"
   ]
  },
  {
   "cell_type": "code",
   "execution_count": null,
   "metadata": {},
   "outputs": [],
   "source": []
  },
  {
   "cell_type": "markdown",
   "metadata": {},
   "source": [
    "## Wrangling your data\n",
    "\n",
    "### Make a list of all `.tif` filenames  `2 points`"
   ]
  },
  {
   "cell_type": "code",
   "execution_count": null,
   "metadata": {},
   "outputs": [],
   "source": []
  },
  {
   "cell_type": "markdown",
   "metadata": {},
   "source": [
    "### Create a dataframe of all documents\n",
    "\n",
    "One column should be the filename, the other should be all of the OCR'd content. **Tika isn't the fastest, so this will probably take a while.**"
   ]
  },
  {
   "cell_type": "code",
   "execution_count": null,
   "metadata": {},
   "outputs": [],
   "source": []
  },
  {
   "cell_type": "markdown",
   "metadata": {},
   "source": [
    "## Analysis `2 points`\n",
    "\n",
    "I cannot for the life of me find anything interesting to search for in here, but even so: **find every document that refers to China,** and make a list of filenames to reference when doing manual reading.\n",
    "\n",
    "> Note that there will be a ton of terms that might imply China – PRC, China, Beijing, etc – so be sure to include your search is as wide-ranging as possible. **Also watch out for case-sensitivity.**"
   ]
  },
  {
   "cell_type": "code",
   "execution_count": null,
   "metadata": {},
   "outputs": [],
   "source": []
  }
 ],
 "metadata": {
  "kernelspec": {
   "display_name": "Python 3",
   "language": "python",
   "name": "python3"
  },
  "language_info": {
   "codemirror_mode": {
    "name": "ipython",
    "version": 3
   },
   "file_extension": ".py",
   "mimetype": "text/x-python",
   "name": "python",
   "nbconvert_exporter": "python",
   "pygments_lexer": "ipython3",
   "version": "3.8.2"
  }
 },
 "nbformat": 4,
 "nbformat_minor": 4
}
