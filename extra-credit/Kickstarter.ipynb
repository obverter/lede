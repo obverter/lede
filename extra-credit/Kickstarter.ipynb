{
 "cells": [
  {
   "cell_type": "markdown",
   "metadata": {},
   "source": [
    "# Kickstarter and SQL `10 points`\n",
    "\n",
    "Since I claimed that the point of Lede was to be able to learn anything using Google, I should probably test that, too, yeah?\n",
    "\n",
    "Working with **SQL databases** is something we didn't learn! It comes in a lot of formats - PostreSQL, MySQL, Sqlite - but they are all generally the same thing.\n",
    "\n",
    "SQL is great for when you're reading in big big big datasets: instead of waiting an hour for `.read_csv` to crash on a giant file that you're going to filter anyway, instead you just ask SQL to give you a subset of the data to work on.\n",
    "\n",
    "**Topics**\n",
    "\n",
    "* Learning new things with the power of the internet\n",
    "* SQL\n",
    "\n",
    "### The data\n",
    "\n",
    "**Kickstarter** is a website people use to raise money for projects. It used to be really popular, but it's since died down a bit. We're going to work with [a dataset about Kickstarter in SQLite format](https://dataverse.harvard.edu/dataset.xhtml?persistentId=doi:10.7910/DVN/EOYBXM).\n",
    "\n",
    "You'll want to download the database by going to **Access Dataset** and then **Download ZIP**.\n",
    "\n",
    "It's a big file, and it's compressed! We'll be using the `kickstarter.db` file that is inside the zip file: when you open up the zip, I extracted it using [The Unarchiver](https://theunarchiver.com/) by telling it to open up the `.z01` file (it's so big it's spread across both the `.zip` and the `.z01`). "
   ]
  },
  {
   "cell_type": "markdown",
   "metadata": {},
   "source": [
    "## Open the dataset\n",
    "\n",
    "Just like an Excel file can have different sheets, a SQL database has different tables."
   ]
  },
  {
   "cell_type": "code",
   "execution_count": null,
   "metadata": {},
   "outputs": [],
   "source": [
    "import pandas as pd\n",
    "\n",
    "pd.set_option(\"display.max_columns\", None)\n",
    "pd.set_option('display.float_format', '{:,.2f}'.format)"
   ]
  },
  {
   "cell_type": "markdown",
   "metadata": {},
   "source": [
    "SQLite + pandas doesn't use the \"normal\" way to ask for tables, so I'll give that line to you."
   ]
  },
  {
   "cell_type": "code",
   "execution_count": null,
   "metadata": {},
   "outputs": [],
   "source": [
    "import sqlite3\n",
    "\n",
    "# Open a connection\n",
    "conn = sqlite3.connect(\"kickstarter.db\")\n",
    "\n",
    "# Make a query, save it into a dataframe\n",
    "df = pd.read_sql_query('SELECT name FROM sqlite_master WHERE type = \"table\";', conn)\n",
    "\n",
    "# Close the connection\n",
    "conn.close()\n",
    "\n",
    "# See the results in the dataframe\n",
    "df"
   ]
  },
  {
   "cell_type": "markdown",
   "metadata": {},
   "source": [
    "## Simple selects `3 points`"
   ]
  },
  {
   "cell_type": "markdown",
   "metadata": {},
   "source": [
    "### Select all of the data for the first 4 kickstarter projects\n",
    "\n",
    "They live in the `project` table. This will help you understand how SQL queries work."
   ]
  },
  {
   "cell_type": "code",
   "execution_count": null,
   "metadata": {},
   "outputs": [],
   "source": []
  },
  {
   "cell_type": "markdown",
   "metadata": {},
   "source": [
    "### Select the top 10 projects with the highest amount pledged\n",
    "\n",
    "I only want to see the name and the amount pledged. **The number one result should be the Pebble watch** - if your result is something Japanese, try querying all of the columns and figure out what went wrong."
   ]
  },
  {
   "cell_type": "code",
   "execution_count": null,
   "metadata": {},
   "outputs": [],
   "source": []
  },
  {
   "cell_type": "markdown",
   "metadata": {},
   "source": [
    "## Filtering your queries `3 points`\n",
    "\n",
    "### Find me – yes, me, Soma! – in the project creators table"
   ]
  },
  {
   "cell_type": "code",
   "execution_count": null,
   "metadata": {},
   "outputs": [],
   "source": []
  },
  {
   "cell_type": "markdown",
   "metadata": {},
   "source": [
    "### Find all of my projects"
   ]
  },
  {
   "cell_type": "code",
   "execution_count": null,
   "metadata": {},
   "outputs": [],
   "source": []
  },
  {
   "cell_type": "markdown",
   "metadata": {},
   "source": [
    "## Calculations `3 points`\n",
    "\n",
    "### Find how much money has been raised on Kickstarter by **successful** projects."
   ]
  },
  {
   "cell_type": "code",
   "execution_count": null,
   "metadata": {},
   "outputs": [],
   "source": []
  },
  {
   "cell_type": "markdown",
   "metadata": {},
   "source": [
    "### Find how much money has been raised on Kickstarter by \"successful\" projects in **the United States**.\n",
    "\n",
    "The `state` can be successful, failed, live, etc."
   ]
  },
  {
   "cell_type": "code",
   "execution_count": null,
   "metadata": {},
   "outputs": [],
   "source": []
  },
  {
   "cell_type": "markdown",
   "metadata": {},
   "source": [
    "## Aggregating `3 points`"
   ]
  },
  {
   "cell_type": "markdown",
   "metadata": {},
   "source": [
    "## How many projects were successful/unsuccessful/etc?\n",
    "\n",
    "**Use your SQL query to calculate the answer.** Your result should look something like this:\n",
    "\n",
    "| |...|...|\n",
    "|---|---|---|\n",
    "|0|canceled|36659|\n",
    "|1|failed|211783|\n",
    "|2|live|3163|\n",
    "|3|purged|202|\n",
    "|4|successful|155130|\n",
    "|5|suspended|1700|"
   ]
  },
  {
   "cell_type": "code",
   "execution_count": null,
   "metadata": {},
   "outputs": [],
   "source": []
  },
  {
   "cell_type": "markdown",
   "metadata": {},
   "source": [
    "### How much money has been pledged to campaigns in each country?"
   ]
  },
  {
   "cell_type": "code",
   "execution_count": null,
   "metadata": {},
   "outputs": [],
   "source": []
  },
  {
   "cell_type": "markdown",
   "metadata": {},
   "source": [
    "## Conversion to CSV `2 points`\n",
    "\n",
    "### Save the result of your last query - the one about amount raised - to a CSV"
   ]
  },
  {
   "cell_type": "code",
   "execution_count": null,
   "metadata": {},
   "outputs": [],
   "source": []
  },
  {
   "cell_type": "markdown",
   "metadata": {},
   "source": [
    "### Visualize the results using DataWrapper, highlighting the country of your choice\n",
    "\n",
    "Link in the cell below."
   ]
  },
  {
   "cell_type": "code",
   "execution_count": null,
   "metadata": {},
   "outputs": [],
   "source": []
  },
  {
   "cell_type": "markdown",
   "metadata": {},
   "source": [
    "## Joins\n",
    "\n",
    "### Show all the columns in the `category` table"
   ]
  },
  {
   "cell_type": "code",
   "execution_count": null,
   "metadata": {},
   "outputs": [],
   "source": []
  },
  {
   "cell_type": "markdown",
   "metadata": {},
   "source": [
    "### Show all the columns in the `project` table"
   ]
  },
  {
   "cell_type": "code",
   "execution_count": null,
   "metadata": {},
   "outputs": [],
   "source": []
  },
  {
   "cell_type": "markdown",
   "metadata": {},
   "source": [
    "### Using SQL, request the first 10 projects and merge in the category of each project `3 points`"
   ]
  },
  {
   "cell_type": "code",
   "execution_count": null,
   "metadata": {},
   "outputs": [],
   "source": []
  },
  {
   "cell_type": "markdown",
   "metadata": {},
   "source": [
    "### Building on your last query, calculate the number of projects in each category `2 points`"
   ]
  },
  {
   "cell_type": "code",
   "execution_count": null,
   "metadata": {},
   "outputs": [],
   "source": []
  },
  {
   "cell_type": "markdown",
   "metadata": {},
   "source": [
    "### Using pandas, sort the result to get the top 20 project categories `1 point`"
   ]
  },
  {
   "cell_type": "code",
   "execution_count": null,
   "metadata": {},
   "outputs": [],
   "source": []
  }
 ],
 "metadata": {
  "kernelspec": {
   "display_name": "Python 3",
   "language": "python",
   "name": "python3"
  },
  "language_info": {
   "codemirror_mode": {
    "name": "ipython",
    "version": 3
   },
   "file_extension": ".py",
   "mimetype": "text/x-python",
   "name": "python",
   "nbconvert_exporter": "python",
   "pygments_lexer": "ipython3",
   "version": "3.8.2"
  }
 },
 "nbformat": 4,
 "nbformat_minor": 4
}
