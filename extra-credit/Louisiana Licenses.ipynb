{
 "cells": [
  {
   "cell_type": "markdown",
   "metadata": {},
   "source": [
    "# Fixing up a house in Louisiana\n",
    "\n",
    "I think there are a lot fewer laws than in NYC, but it's (probably) tough.\n",
    "\n",
    "**Topics:**\n",
    "\n",
    "* PDF to CSV\n",
    "* Secret APIs\n",
    "* Scraping or regex\n",
    "* Data cleaning\n",
    "\n",
    "## Arborists `4 points`\n",
    "\n",
    "If you need someone to cut down a tree, you might need an arborist!\n",
    "\n",
    "* Fortunately, Louisiana has [a list of them](https://www.ldaf.state.la.us/ldaf-programs/horticulture-programs/louisiana-horticulture-commission/).\n",
    "* Unfortunately [it's a PDF](http://www.ldaf.state.la.us/wp-content/uploads/2021/08/ARL-LIST-080421.pdf).\n",
    "\n",
    "### Convert the PDF to a CSV file or dataframe"
   ]
  },
  {
   "cell_type": "code",
   "execution_count": null,
   "metadata": {},
   "outputs": [],
   "source": []
  },
  {
   "cell_type": "markdown",
   "metadata": {},
   "source": [
    "### Get me a list of every arborists in Shreveport"
   ]
  },
  {
   "cell_type": "code",
   "execution_count": null,
   "metadata": {},
   "outputs": [],
   "source": []
  },
  {
   "cell_type": "markdown",
   "metadata": {},
   "source": [
    "## Contractors `2 points`\n",
    "\n",
    "We skipped the arborists and tore down the tree. Unfortunately it landed on our house! So now we need a contractor to fix it up. Luckily there's an [easy contractor search page](https://lslbc.louisiana.gov/contractor-search/search-type-contractor/) on the Louisiana governemnt website.\n",
    "\n",
    "### Get me a list of all residential roofing contractors\n",
    "\n",
    "Convert it to a dataframe, save it as a CSV. Note that you **won't be scraping** for this one. You might *start* it as scraping, but you'll find an API."
   ]
  },
  {
   "cell_type": "code",
   "execution_count": null,
   "metadata": {},
   "outputs": [],
   "source": []
  },
  {
   "cell_type": "markdown",
   "metadata": {},
   "source": [
    "## Chiropractors\n",
    "\n",
    "We tried to do the work ourselves and broke all of our bones. Guess we need a chiropractor! Thank goodness there's [a list of them on the Louisiana chiropractor board site](http://www.lachiropracticboard.com/lic-drs.htm).\n",
    "\n",
    "### Create a dataframe of all of the chiropractors' names `5 points`\n",
    "\n",
    "I'll give you this for free: the HTML on that page is awful, so make sure you're using `html5lib` as your parser. Otherwise it's going to be a lot more difficult!\n",
    "\n",
    "I'll also give you the option of doing this by **pulling the name lists from the page** and parsing them with regular expressions, it's up to you! It's a serious pain either way.\n",
    "\n",
    "> Also: they broke the page when they updated it last, so you might want to scrape [the archive.org version](https://web.archive.org/web/20210112131408/http://www.lachiropracticboard.com/lic-drs.htm) instead"
   ]
  },
  {
   "cell_type": "code",
   "execution_count": null,
   "metadata": {},
   "outputs": [],
   "source": []
  },
  {
   "cell_type": "markdown",
   "metadata": {},
   "source": [
    "### Add columns for their names: first, last, middle `1 point`"
   ]
  },
  {
   "cell_type": "code",
   "execution_count": null,
   "metadata": {},
   "outputs": [],
   "source": []
  }
 ],
 "metadata": {
  "kernelspec": {
   "display_name": "Python 3",
   "language": "python",
   "name": "python3"
  },
  "language_info": {
   "codemirror_mode": {
    "name": "ipython",
    "version": 3
   },
   "file_extension": ".py",
   "mimetype": "text/x-python",
   "name": "python",
   "nbconvert_exporter": "python",
   "pygments_lexer": "ipython3",
   "version": "3.8.2"
  }
 },
 "nbformat": 4,
 "nbformat_minor": 4
}
