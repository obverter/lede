{
 "cells": [
  {
   "cell_type": "markdown",
   "metadata": {},
   "source": [
    "# Forest Inventory and Analysis `10 points`\n",
    "\n",
    "Source:\n",
    "\n",
    "* Dataset: https://apps.fs.usda.gov/fia/datamart/datamart.html\n",
    "* Documentation: https://www.fia.fs.fed.us/library/database-documentation/index.php\n",
    "        \n",
    "Description from [Data Is Plural](https://www.data-is-plural.com/archive/2019-08-21-edition/):\n",
    "\n",
    "> The U.S. Forest Service’s Forest Inventory and Analysis program tracks “trends in forest area and location; in the species, size, and health of trees; in total tree growth, mortality, and removals by harvest; in wood production and utilization rates by various products; and in forest land ownership.” It also “serves as perhaps the largest publicly available” dataset of “downed and dead wood.” The inventory is available to download and comes with user guides.\n",
    "\n",
    "**Topics:**\n",
    "\n",
    "* Downloading files\n",
    "* Opening Excel files\n",
    "* Using parameters when opening Excel files\n",
    "* When to do things manually vs doing things with code"
   ]
  },
  {
   "cell_type": "markdown",
   "metadata": {},
   "source": [
    "## Automatic downloading `2 points`\n",
    "\n",
    "If you want to download files for Excel, you need to go to [this page](https://apps.fs.usda.gov/fia/datamart/datamart_excel.html) and click on the map. It leads you to a file like `https://apps.fs.usda.gov/fia/datamart/Workbooks/IL.xlsm`. Awful user interface!\n",
    "\n",
    "Instead, I want you to use `requests` and a `for` loop to download all of the states automatically. You might find [this SO answer](https://stackoverflow.com/questions/44699682/how-to-save-a-file-to-a-specific-directory-in-python) useful.\n",
    "\n",
    "*Note that the page says they don't have information for every state.*"
   ]
  },
  {
   "cell_type": "code",
   "execution_count": null,
   "metadata": {},
   "outputs": [],
   "source": []
  },
  {
   "cell_type": "markdown",
   "metadata": {},
   "source": [
    "## Reading in the data `3 points`\n",
    "\n",
    "### Read in the data for Virginia\n",
    "\n",
    "**We're interested in sheet `SR004`**, which explains how many acres cover each type of ownership.\n",
    "\n",
    "Read the file in so that it the dataset looks like this:\n",
    "\n",
    "|Forest type group|Total|National Forest|Other federal|State and local|Private|\n",
    "|---|---|---|---|---|---|\n",
    "|Total|16025876|1688425.0|518217.0|657963.0|13161271|\n",
    "|...|...|...|...|...|...|\n",
    "|Nonstocked|81574|0.0|1590.0|0.0|79984|\n",
    "\n",
    "and your index goes up to `15`."
   ]
  },
  {
   "cell_type": "code",
   "execution_count": null,
   "metadata": {},
   "outputs": [],
   "source": []
  },
  {
   "cell_type": "markdown",
   "metadata": {},
   "source": [
    "### Read in the data for South Dakota\n",
    "\n",
    "You'll have fewer rows in this dataset than for Virginia."
   ]
  },
  {
   "cell_type": "code",
   "execution_count": null,
   "metadata": {},
   "outputs": [],
   "source": []
  },
  {
   "cell_type": "markdown",
   "metadata": {},
   "source": [
    "# Calculations `1 point`\n",
    "\n",
    "## What percent of forested land is a \"National Forest\" in South Dakota vs Virginia?\n",
    "\n",
    "You can do this calculation manually. Pay special attention to column names."
   ]
  },
  {
   "cell_type": "code",
   "execution_count": null,
   "metadata": {},
   "outputs": [],
   "source": []
  },
  {
   "cell_type": "markdown",
   "metadata": {},
   "source": [
    "## What percent of forested land is privately owned in SD vs VA?"
   ]
  },
  {
   "cell_type": "code",
   "execution_count": null,
   "metadata": {},
   "outputs": [],
   "source": []
  },
  {
   "cell_type": "markdown",
   "metadata": {},
   "source": [
    "## Do the calculation for private ownership of all forests in South Dakota using only one line, and without typing the actual numbers `1 point`\n",
    "\n",
    "Tip: `df.loc[0]` will be your friend"
   ]
  },
  {
   "cell_type": "code",
   "execution_count": null,
   "metadata": {},
   "outputs": [],
   "source": []
  },
  {
   "cell_type": "markdown",
   "metadata": {},
   "source": [
    "## Using the files you downloaded, calculate the private ownership rate for all forested land in each state `3 points`\n",
    "\n",
    "> Tip: Use a for loop"
   ]
  },
  {
   "cell_type": "code",
   "execution_count": null,
   "metadata": {},
   "outputs": [],
   "source": []
  }
 ],
 "metadata": {
  "kernelspec": {
   "display_name": "Python 3",
   "language": "python",
   "name": "python3"
  },
  "language_info": {
   "codemirror_mode": {
    "name": "ipython",
    "version": 3
   },
   "file_extension": ".py",
   "mimetype": "text/x-python",
   "name": "python",
   "nbconvert_exporter": "python",
   "pygments_lexer": "ipython3",
   "version": "3.8.2"
  }
 },
 "nbformat": 4,
 "nbformat_minor": 4
}
