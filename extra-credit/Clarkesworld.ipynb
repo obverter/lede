{
 "cells": [
  {
   "cell_type": "markdown",
   "metadata": {},
   "source": [
    "# Clarkesworld\n",
    "\n",
    "Source: https://clarkesworldmagazine.com/\n",
    "\n",
    "Description: Sci-fi/fantasy magazine\n",
    "\n",
    "**Topics:**\n",
    "\n",
    "* Scraping"
   ]
  },
  {
   "cell_type": "markdown",
   "metadata": {},
   "source": [
    "## Scrape the Clarkesworld homepage `4 points`\n",
    "\n",
    "I want a CSV file that includes a row for each story, including the columns:\n",
    "\n",
    "* Title\n",
    "* Byline\n",
    "* URL to story\n",
    "* Category (fiction/non-fiction/cover art)\n",
    "* Issue number (e.g. 180)\n",
    "* Publication date (e.g. September 2021)"
   ]
  },
  {
   "cell_type": "code",
   "execution_count": null,
   "metadata": {},
   "outputs": [],
   "source": []
  },
  {
   "cell_type": "markdown",
   "metadata": {},
   "source": [
    "## Auto-updating scraper `3 points`\n",
    "\n",
    "Using GitHub Actions, implement a scraper that will keep track of everything posted to the Clarkesworld homepage. For example, when issue 181 comes out it should *add to the CSV* instead of just replacing it.\n",
    "\n",
    "> Tip: `drop_duplicates` might save you a lot of effort at one point or another."
   ]
  },
  {
   "cell_type": "code",
   "execution_count": null,
   "metadata": {},
   "outputs": [],
   "source": []
  }
 ],
 "metadata": {
  "kernelspec": {
   "display_name": "Python 3",
   "language": "python",
   "name": "python3"
  },
  "language_info": {
   "codemirror_mode": {
    "name": "ipython",
    "version": 3
   },
   "file_extension": ".py",
   "mimetype": "text/x-python",
   "name": "python",
   "nbconvert_exporter": "python",
   "pygments_lexer": "ipython3",
   "version": "3.8.2"
  }
 },
 "nbformat": 4,
 "nbformat_minor": 4
}
